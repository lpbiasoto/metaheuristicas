{
 "cells": [
  {
   "cell_type": "code",
   "execution_count": 2,
   "metadata": {},
   "outputs": [
    {
     "name": "stdout",
     "output_type": "stream",
     "text": [
      "Iniciando problema sch10.txt\n",
      "n =  10\n",
      "Iniciando problema sch20.txt\n",
      "n =  20\n",
      "Iniciando problema sch50.txt\n",
      "n =  50\n",
      "Iniciando problema sch100.txt\n",
      "n =  100\n",
      "Iniciando problema sch200.txt\n",
      "n =  200\n",
      "Iniciando problema sch500.txt\n",
      "n =  500\n",
      "Iniciando problema sch1000.txt\n",
      "n =  1000\n"
     ]
    }
   ],
   "source": [
    "import gurobipy as gb\n",
    "from pathlib import Path\n",
    "import os\n",
    "import numpy as np\n",
    "import pandas as pd\n",
    "import time\n",
    "\n",
    "def extract_data():\n",
    "    raiz = Path.cwd() #capturo diretório atual\n",
    "    pasta_dados = Path.joinpath(raiz,\"dados\") #defino onde estão os problemas\n",
    "    prob_por_arquivo = 10 #informando quantos problemas por arquivo eu tenho\n",
    "    conjuntos = [10,20,50,100,200,500,1000]\n",
    "\n",
    "    for conjunto in conjuntos:  #circulo nos arquivos\n",
    "        dados[conjunto] = {}\n",
    "        arquivo = f\"sch\"+str(conjunto)+'.txt'\n",
    "        print(\"Iniciando problema {}\".format(arquivo))\n",
    "        caminho_problema = Path.joinpath(pasta_dados,arquivo)\n",
    "        df = pd.read_fwf(caminho_problema) #importo no df\n",
    "        df.columns=[\"n\",\"p\",\"a\",\"b\"]\n",
    "        df.drop(columns=[\"n\"], inplace=True) #jogo fora columa inútil\n",
    "        n=df.iloc[0,0] #guardo o tamanho de itens do problema\n",
    "        print(\"n = \", n)  \n",
    "        df.dropna(inplace=True) #jogo fora linhas inúteis\n",
    "        for problema_numero in range(prob_por_arquivo): #vou circular nos problemas dentro do arquivo. Cada iteração deste for é um problema.\n",
    "            prob = df[n*problema_numero:n*(problema_numero+1)]\n",
    "            dados[conjunto][problema_numero+1] = {\n",
    "                'pi': prob[\"p\"].to_numpy(),\n",
    "                'ai': prob[\"a\"].to_numpy(),\n",
    "                'bi': prob[\"b\"].to_numpy()\n",
    "            }\n",
    "            ## nesse ponto tenho o parâmetros do problema atual guardadas nas variáveis pi, ai e bi, prontos para serem utilizados na modelagem.\n",
    "    return dados\n",
    "\n",
    "\n",
    "dados = {}\n",
    "objetivos = {}\n",
    "variaveis = {}\n",
    "tempos = {}\n",
    "dados = extract_data()\n",
    "lista_hs = [0.8, 0.6, 0.4, 0.2]\n",
    "\n",
    "h=0.2\n",
    "conjunto = 10\n",
    "problema = 8\n",
    "z_corte = 2\n",
    "\n",
    "pi = []\n",
    "ai = []\n",
    "bi = []\n",
    "\n",
    "pi = np.array(dados[conjunto][problema]['pi'])\n",
    "ai = np.array(dados[conjunto][problema]['ai'])\n",
    "bi = np.array(dados[conjunto][problema]['bi'])\n",
    "\n",
    "d=sum(pi)*h\n",
    "\n",
    "i_itens = len(pi)\n",
    "i_index=list(range(i_itens))\n",
    "i_np = np.array(i_index)"
   ]
  },
  {
   "cell_type": "code",
   "execution_count": 21,
   "metadata": {},
   "outputs": [],
   "source": [
    "set_E = np.array([5, 7, 6])\n",
    "set_T = np.array([0, 8, 4, 3, 9, 1, 2])"
   ]
  },
  {
   "cell_type": "code",
   "execution_count": null,
   "metadata": {},
   "outputs": [],
   "source": []
  },
  {
   "cell_type": "code",
   "execution_count": null,
   "metadata": {},
   "outputs": [],
   "source": []
  },
  {
   "cell_type": "code",
   "execution_count": 22,
   "metadata": {},
   "outputs": [
    {
     "data": {
      "text/plain": [
       "1912.0"
      ]
     },
     "execution_count": 22,
     "metadata": {},
     "output_type": "execute_result"
    }
   ],
   "source": [
    "si={}\n",
    "si[set_E[0]] = d - pi[set_E[0]] #o primeiro termina no d.\n",
    "\n",
    "\n",
    "\n",
    "\n",
    "for i in range(1,len(set_E)):\n",
    "    si[set_E[i]] = si[set_E[i-1]] - pi[set_E[i]]\n",
    "\n",
    "si[set_T[0]] = d\n",
    "for i in range(1,len(set_T)):\n",
    "    si[set_T[i]] = si[set_T[i-1]] + pi[set_T[i-1]]\n",
    "\n",
    "E = {}\n",
    "T = {}\n",
    "for i in i_index:\n",
    "    E[i] = max(d-si[i]-pi[i],0)\n",
    "    T[i] = max(pi[i]+si[i]-d,0)   \n",
    "\n",
    "objetivo = []\n",
    "for i in i_index:\n",
    "    objetivo.append(T[i]*bi[i])\n",
    "    objetivo.append(E[i]*ai[i])\n",
    "sum(objetivo)\n",
    "\n"
   ]
  },
  {
   "cell_type": "code",
   "execution_count": null,
   "metadata": {},
   "outputs": [],
   "source": []
  }
 ],
 "metadata": {
  "kernelspec": {
   "display_name": "Python 3",
   "language": "python",
   "name": "python3"
  },
  "language_info": {
   "codemirror_mode": {
    "name": "ipython",
    "version": 3
   },
   "file_extension": ".py",
   "mimetype": "text/x-python",
   "name": "python",
   "nbconvert_exporter": "python",
   "pygments_lexer": "ipython3",
   "version": "3.8.3"
  }
 },
 "nbformat": 4,
 "nbformat_minor": 4
}
