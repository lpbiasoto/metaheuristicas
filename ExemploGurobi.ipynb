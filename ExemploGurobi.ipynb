{
 "cells": [
  {
   "cell_type": "code",
   "execution_count": 24,
   "metadata": {},
   "outputs": [],
   "source": [
    "import gurobipy as gb\n",
    "import numpy as np"
   ]
  },
  {
   "cell_type": "code",
   "execution_count": 25,
   "metadata": {},
   "outputs": [],
   "source": [
    "model = gb.Model()"
   ]
  },
  {
   "cell_type": "code",
   "execution_count": 26,
   "metadata": {},
   "outputs": [],
   "source": [
    "#dados do problema\n",
    "items = range(1,6)\n",
    "time = range(1,11)\n",
    "s = {1:4.5, 2:6.2, 3:4.2, 4:4.0, 5:9.5}\n",
    "h = {1:0.9, 2:0.4, 3:0.8, 4:0.5, 5:0.1}\n",
    "b = {1:0.8, 2:0.6, 3:0.7, 4:0.2, 5:0.5}\n",
    "sp = {1:9.2, 2:6.7, 3:6.7, 4:7.2, 5:4.3}\n",
    "Ct = 48\n",
    "d = {\n",
    "        (1,1):1, (1,2):6, (1,3):10, (1,4):6, (1,5):5, (1,6):7, (1,7):5, (1,8):9, (1,9):4, (1,10):5,\n",
    "        (2,1):2, (2,2):9, (2,3):0, (2,4):0, (2,5):0, (2,6):0, (2,7):8, (2,8):8, (2,9):2, (2,10):9,\n",
    "        (3,1):3, (3,2):4, (3,3):7, (3,4):0, (3,5):2, (3,6):7, (3,7):2, (3,8):4, (3,9):4, (3,10):10,\n",
    "        (4,1):4, (4,2):4, (4,3):9, (4,4):4, (4,5):8, (4,6):9, (4,7):3, (4,8):4, (4,9):8, (4,10):6,\n",
    "        (5,1):5, (5,2):8, (5,3):3, (5,4):3, (5,5):10, (5,6):8, (5,7):8, (5,8):7, (5,9):9, (5,10):2\n",
    "        }\n",
    "d_tau = {1:0, 2:0, 3:0, 4:0, 5:0}\n",
    "for i in items:\n",
    "    for t in time:\n",
    "        d_tau[i] = d_tau[i] + d[i,t]"
   ]
  },
  {
   "cell_type": "code",
   "execution_count": 27,
   "metadata": {},
   "outputs": [],
   "source": [
    "m = model\n",
    "\n",
    "model._I = items\n",
    "model._T = time"
   ]
  },
  {
   "cell_type": "code",
   "execution_count": 28,
   "metadata": {},
   "outputs": [],
   "source": [
    "class expando(object):\n",
    "    pass\n",
    "variables = expando()\n",
    "constraints = expando()"
   ]
  },
  {
   "cell_type": "code",
   "execution_count": 33,
   "metadata": {},
   "outputs": [],
   "source": [
    "#variáveis\n",
    "m = model\n",
    "\n",
    "model._I = items\n",
    "model._T = time\n",
    "\n",
    "m._x = \\\n",
    "    m.addVars(((i,t) for i in m._I for t in m._T),\n",
    "    lb = 0.0, ub=gb.GRB.INFINITY,\n",
    "    vtype = gb.GRB.CONTINUOUS,\n",
    "    name = \"x\")\n",
    "\n",
    "m._Ix = \\\n",
    "    m.addVars(((i,t) for i in m._I for t in m._T),\n",
    "    lb = 0.0, ub=gb.GRB.INFINITY,\n",
    "    vtype = gb.GRB.CONTINUOUS,\n",
    "    name = \"stock_x\")\n",
    "\n",
    "m._y = \\\n",
    "    m.addVars(((i,t) for i in m._I for t in m._T),\n",
    "    lb = 0.0, ub=1.0,\n",
    "    vtype = gb.GRB.BINARY,\n",
    "    name = \"y\")\n",
    "\n",
    "variables.x = m._x\n",
    "variables.Ix = m._Ix\n",
    "variables.y = m._y\n",
    "\n",
    "#update necessário para incluir as novas variáveis\n",
    "m.update()"
   ]
  },
  {
   "cell_type": "code",
   "execution_count": 30,
   "metadata": {},
   "outputs": [
    {
     "name": "stdout",
     "output_type": "stream",
     "text": [
      "# Original Problem | U constraints: 50\n",
      "# Original Problem | V constraints: 10\n",
      "# Original Problem | W constraints: 50\n"
     ]
    }
   ],
   "source": [
    "#restrições\n",
    "\n",
    "x = model._x\n",
    "Ix = model._Ix\n",
    "y = model._y\n",
    "\n",
    "def minimo(a, b):\n",
    "    if a < b:\n",
    "        return a\n",
    "    else:\n",
    "        return b\n",
    "\n",
    "def _u_constrs(i,t):\n",
    "    if t == 1:\n",
    "        return (Ix[i,t] - x[i,t] + d[i,t] == 0)\n",
    "    else:\n",
    "        return (Ix[i,t] - Ix[i,t-1] - x[i,t] + d[i,t] == 0) #sum(b.values())*v[t] + w[i,t] <= 0)\n",
    "\n",
    "constraints.u_constrs = model.addConstrs(\n",
    "    (_u_constrs(i, t) for i in model._I for t in model._T),\n",
    "    name = \"u_constrs\"\n",
    ")\n",
    "print(f\"# Original Problem | U constraints: {len(constraints.u_constrs)}\")\n",
    "\n",
    "def _v_constrs(t):\n",
    "    return (gb.quicksum(sp[i]*y[i,t] + b[i]*x[i,t] for i in model._I) <= Ct)\n",
    "\n",
    "constraints.v_constrs = model.addConstrs(\n",
    "    (_v_constrs(t) for t in model._T),\n",
    "    name = \"v_constrs\"\n",
    ")\n",
    "print(f\"# Original Problem | V constraints: {len(constraints.v_constrs)}\")\n",
    "\n",
    "def _w_constrs(i,t):\n",
    "    return (x[i,t] <= minimo((Ct-sp[i])/b[i],d_tau[i])*y[i,t])\n",
    "\n",
    "constraints.w_constrs = model.addConstrs(\n",
    "    (_w_constrs(i, t) for i in model._I for t in model._T),\n",
    "    name = \"w_constrs\"\n",
    ")\n",
    "print(f\"# Original Problem | W constraints: {len(constraints.w_constrs)}\")\n",
    "\n"
   ]
  },
  {
   "cell_type": "code",
   "execution_count": 31,
   "metadata": {},
   "outputs": [],
   "source": [
    "#objetivo\n",
    "model.setObjective(\n",
    "            gb.quicksum(s[i]*model._y[i,t] + h[i]*model._Ix[i,t] for i in model._I for t in model._T),gb.GRB.MINIMIZE)"
   ]
  },
  {
   "cell_type": "code",
   "execution_count": 32,
   "metadata": {},
   "outputs": [
    {
     "name": "stdout",
     "output_type": "stream",
     "text": [
      "Gurobi Optimizer version 9.1.2 build v9.1.2rc0 (win64)\n",
      "Thread count: 4 physical cores, 8 logical processors, using up to 8 threads\n",
      "Optimize a model with 110 rows, 150 columns and 345 nonzeros\n",
      "Model fingerprint: 0x90d52aed\n",
      "Variable types: 100 continuous, 50 integer (50 binary)\n",
      "Coefficient statistics:\n",
      "  Matrix range     [2e-01, 6e+01]\n",
      "  Objective range  [1e-01, 1e+01]\n",
      "  Bounds range     [1e+00, 1e+00]\n",
      "  RHS range        [1e+00, 5e+01]\n",
      "Found heuristic solution: objective 295.0946429\n",
      "Presolve removed 20 rows and 25 columns\n",
      "Presolve time: 0.00s\n",
      "Presolved: 90 rows, 125 columns, 298 nonzeros\n",
      "Variable types: 80 continuous, 45 integer (45 binary)\n",
      "\n",
      "Root relaxation: objective 8.206201e+01, 47 iterations, 0.00 seconds\n",
      "\n",
      "    Nodes    |    Current Node    |     Objective Bounds      |     Work\n",
      " Expl Unexpl |  Obj  Depth IntInf | Incumbent    BestBd   Gap | It/Node Time\n",
      "\n",
      "     0     0   82.06201    0   33  295.09464   82.06201  72.2%     -    0s\n",
      "H    0     0                     212.6825000   82.06201  61.4%     -    0s\n",
      "     0     0  159.77030    0    9  212.68250  159.77030  24.9%     -    0s\n",
      "H    0     0                     181.9000000  159.77030  12.2%     -    0s\n",
      "     0     0  160.07236    0   11  181.90000  160.07236  12.0%     -    0s\n",
      "     0     0  169.67845    0   11  181.90000  169.67845  6.72%     -    0s\n",
      "H    0     0                     175.3000000  169.67845  3.21%     -    0s\n",
      "H    0     0                     173.3000000  169.67845  2.09%     -    0s\n",
      "     0     0  171.19418    0    6  173.30000  171.19418  1.22%     -    0s\n",
      "     0     0  173.30000    0    8  173.30000  173.30000  0.00%     -    0s\n",
      "\n",
      "Cutting planes:\n",
      "  Gomory: 21\n",
      "  Cover: 2\n",
      "  Implied bound: 27\n",
      "  MIR: 7\n",
      "  Flow cover: 17\n",
      "  RLT: 1\n",
      "  Relax-and-lift: 1\n",
      "\n",
      "Explored 1 nodes (113 simplex iterations) in 0.15 seconds\n",
      "Thread count was 8 (of 8 available processors)\n",
      "\n",
      "Solution count 5: 173.3 175.3 181.9 ... 295.095\n",
      "\n",
      "Optimal solution found (tolerance 1.00e-04)\n",
      "Best objective 1.733000000000e+02, best bound 1.733000000000e+02, gap 0.0000%\n"
     ]
    }
   ],
   "source": [
    "m.optimize()"
   ]
  }
 ],
 "metadata": {
  "kernelspec": {
   "display_name": "Python 3",
   "language": "python",
   "name": "python3"
  },
  "language_info": {
   "codemirror_mode": {
    "name": "ipython",
    "version": 3
   },
   "file_extension": ".py",
   "mimetype": "text/x-python",
   "name": "python",
   "nbconvert_exporter": "python",
   "pygments_lexer": "ipython3",
   "version": "3.9.1"
  }
 },
 "nbformat": 4,
 "nbformat_minor": 4
}
