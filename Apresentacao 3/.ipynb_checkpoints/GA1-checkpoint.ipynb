{
 "cells": [
  {
   "cell_type": "code",
   "execution_count": 1,
   "metadata": {},
   "outputs": [],
   "source": [
    "from pathlib import Path\n",
    "import math\n",
    "import os\n",
    "import numpy as np\n",
    "import pandas as pd\n",
    "import time\n",
    "from numba import jit\n",
    "\n",
    "def extract_data():\n",
    "    raiz = Path.cwd() #capturo diretório atual\n",
    "    pasta_dados = Path.joinpath(raiz,\"dados\") #defino onde estão os problemas\n",
    "    prob_por_arquivo = 10 #informando quantos problemas por arquivo eu tenho\n",
    "    conjuntos = [10,20,50,100,200,500,1000]\n",
    "\n",
    "    for conjunto in conjuntos:  #circulo nos arquivos\n",
    "        dados[conjunto] = {}\n",
    "        arquivo = f\"sch\"+str(conjunto)+'.txt'\n",
    "        print(\"Iniciando problema {}\".format(arquivo))\n",
    "        caminho_problema = Path.joinpath(pasta_dados,arquivo)\n",
    "        df = pd.read_fwf(caminho_problema) #importo no df\n",
    "        df.columns=[\"n\",\"p\",\"a\",\"b\"]\n",
    "        df.drop(columns=[\"n\"], inplace=True) #jogo fora columa inútil\n",
    "        n=df.iloc[0,0] #guardo o tamanho de itens do problema\n",
    "        print(\"n = \", n)  \n",
    "        df.dropna(inplace=True) #jogo fora linhas inúteis\n",
    "        for problema_numero in range(prob_por_arquivo): #vou circular nos problemas dentro do arquivo. Cada iteração deste for é um problema.\n",
    "            prob = df[n*problema_numero:n*(problema_numero+1)]\n",
    "            dados[conjunto][problema_numero+1] = {\n",
    "                'pi': prob[\"p\"].to_numpy(),\n",
    "                'ai': prob[\"a\"].to_numpy(),\n",
    "                'bi': prob[\"b\"].to_numpy()\n",
    "            }\n",
    "            ## nesse ponto tenho o parâmetros do problema atual guardadas nas variáveis pi, ai e bi, prontos para serem utilizados na modelagem.\n",
    "    return dados\n",
    "\n",
    "@jit(nopython=True)\n",
    "def transforma(solucao):\n",
    "    set_E = np.nonzero(solucao == True)[0] #[0] para retornar o np array e não o tuple.\n",
    "    set_T = np.nonzero(solucao == False)[0]\n",
    "    return set_E,set_T\n",
    "\n",
    "def transforma_bin(set_E, set_T, conjunto):\n",
    "    solucao = range(0, conjunto)\n",
    "    solucao_bin = np.isin(solucao, set_E)\n",
    "    return solucao_bin"
   ]
  },
  {
   "cell_type": "code",
   "execution_count": 2,
   "metadata": {},
   "outputs": [
    {
     "name": "stdout",
     "output_type": "stream",
     "text": [
      "Iniciando problema sch10.txt\n",
      "n =  10\n",
      "Iniciando problema sch20.txt\n",
      "n =  20\n",
      "Iniciando problema sch50.txt\n",
      "n =  50\n",
      "Iniciando problema sch100.txt\n",
      "n =  100\n",
      "Iniciando problema sch200.txt\n",
      "n =  200\n",
      "Iniciando problema sch500.txt\n",
      "n =  500\n",
      "Iniciando problema sch1000.txt\n",
      "n =  1000\n"
     ]
    }
   ],
   "source": [
    "dados = {}\n",
    "dados = extract_data()\n",
    "\n",
    "solucoes = "
   ]
  },
  {
   "cell_type": "code",
   "execution_count": null,
   "metadata": {},
   "outputs": [],
   "source": []
  }
 ],
 "metadata": {
  "kernelspec": {
   "display_name": "Python 3",
   "language": "python",
   "name": "python3"
  },
  "language_info": {
   "codemirror_mode": {
    "name": "ipython",
    "version": 3
   },
   "file_extension": ".py",
   "mimetype": "text/x-python",
   "name": "python",
   "nbconvert_exporter": "python",
   "pygments_lexer": "ipython3",
   "version": "3.8.3"
  }
 },
 "nbformat": 4,
 "nbformat_minor": 4
}
