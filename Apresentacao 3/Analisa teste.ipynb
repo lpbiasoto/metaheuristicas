{
 "cells": [
  {
   "cell_type": "code",
   "execution_count": 1,
   "metadata": {},
   "outputs": [],
   "source": [
    "import pickle\n",
    "import numpy as np\n",
    "import pandas as pd\n",
    "import matplotlib.pyplot as plt\n",
    "%matplotlib inline"
   ]
  },
  {
   "cell_type": "code",
   "execution_count": 2,
   "metadata": {},
   "outputs": [],
   "source": [
    "lista_obj = []\n",
    "lista_tempos = []\n",
    "for i in range(1,4): \n",
    "    with open(\"objetivos_GA_tunning{}.pkl\".format(i), \"rb\") as infile:\n",
    "        dados1 = pickle.load(infile)\n",
    "        objetivos_pandas = pd.DataFrame(dados1)\n",
    "        objetivos_pandas.iloc[20]\n",
    "        objetivos_unstack = objetivos_pandas.iloc[20].unstack(level=-1)\n",
    "        objetivos_unstack\n",
    "        lista_obj.append(objetivos_unstack.transpose())\n",
    "        \n",
    "\n",
    "    with open(\"tempos_pandas_tunning{}.pkl\".format(i), \"rb\") as infile:\n",
    "        tempos1 = pickle.load(infile) \n",
    "        tempos_pandas = pd.Series(tempos1)\n",
    "        tempos_unstack = tempos_pandas.unstack(level=-1)\n",
    "        lista_tempos.append(tempos_unstack.transpose())      "
   ]
  },
  {
   "cell_type": "code",
   "execution_count": 3,
   "metadata": {},
   "outputs": [],
   "source": [
    "\n",
    "\n",
    "\n",
    "objetivos_pandas = pd.concat(lista_obj)\n",
    "tempos_pandas = pd.concat(lista_tempos)"
   ]
  },
  {
   "cell_type": "code",
   "execution_count": 4,
   "metadata": {},
   "outputs": [],
   "source": [
    "conjuntos = [200]\n",
    "problemas = [3]\n",
    "lista_hs = [0.2,0.4,0.6,0.8]\n",
    "lista_crossover = [0 , 1]\n",
    "lista_elitismo = [0.35 , 0.75 , 1]\n",
    "lista_so_filho_mutante = [0 , 1]\n",
    "lista_taxa_mutacao = [0.2 , 1 , 5]"
   ]
  },
  {
   "cell_type": "code",
   "execution_count": 5,
   "metadata": {},
   "outputs": [
    {
     "data": {
      "text/html": [
       "<div>\n",
       "<style scoped>\n",
       "    .dataframe tbody tr th:only-of-type {\n",
       "        vertical-align: middle;\n",
       "    }\n",
       "\n",
       "    .dataframe tbody tr th {\n",
       "        vertical-align: top;\n",
       "    }\n",
       "\n",
       "    .dataframe thead tr th {\n",
       "        text-align: left;\n",
       "    }\n",
       "</style>\n",
       "<table border=\"1\" class=\"dataframe\">\n",
       "  <thead>\n",
       "    <tr>\n",
       "      <th></th>\n",
       "      <th colspan=\"21\" halign=\"left\">200</th>\n",
       "    </tr>\n",
       "    <tr>\n",
       "      <th></th>\n",
       "      <th colspan=\"10\" halign=\"left\">0.2</th>\n",
       "      <th>...</th>\n",
       "      <th colspan=\"10\" halign=\"left\">0.8</th>\n",
       "    </tr>\n",
       "    <tr>\n",
       "      <th></th>\n",
       "      <th colspan=\"10\" halign=\"left\">3</th>\n",
       "      <th>...</th>\n",
       "      <th colspan=\"10\" halign=\"left\">3</th>\n",
       "    </tr>\n",
       "    <tr>\n",
       "      <th></th>\n",
       "      <th colspan=\"6\" halign=\"left\">0.2</th>\n",
       "      <th colspan=\"4\" halign=\"left\">1.0</th>\n",
       "      <th>...</th>\n",
       "      <th colspan=\"4\" halign=\"left\">1.0</th>\n",
       "      <th colspan=\"6\" halign=\"left\">5.0</th>\n",
       "    </tr>\n",
       "    <tr>\n",
       "      <th></th>\n",
       "      <th colspan=\"3\" halign=\"left\">0</th>\n",
       "      <th colspan=\"3\" halign=\"left\">1</th>\n",
       "      <th colspan=\"3\" halign=\"left\">0</th>\n",
       "      <th>1</th>\n",
       "      <th>...</th>\n",
       "      <th>0</th>\n",
       "      <th colspan=\"3\" halign=\"left\">1</th>\n",
       "      <th colspan=\"3\" halign=\"left\">0</th>\n",
       "      <th colspan=\"3\" halign=\"left\">1</th>\n",
       "    </tr>\n",
       "    <tr>\n",
       "      <th></th>\n",
       "      <th>0.35</th>\n",
       "      <th>0.75</th>\n",
       "      <th>1.00</th>\n",
       "      <th>0.35</th>\n",
       "      <th>0.75</th>\n",
       "      <th>1.00</th>\n",
       "      <th>0.35</th>\n",
       "      <th>0.75</th>\n",
       "      <th>1.00</th>\n",
       "      <th>0.35</th>\n",
       "      <th>...</th>\n",
       "      <th>1.00</th>\n",
       "      <th>0.35</th>\n",
       "      <th>0.75</th>\n",
       "      <th>1.00</th>\n",
       "      <th>0.35</th>\n",
       "      <th>0.75</th>\n",
       "      <th>1.00</th>\n",
       "      <th>0.35</th>\n",
       "      <th>0.75</th>\n",
       "      <th>1.00</th>\n",
       "    </tr>\n",
       "  </thead>\n",
       "  <tbody>\n",
       "    <tr>\n",
       "      <th>0</th>\n",
       "      <td>488976.0</td>\n",
       "      <td>488763.0</td>\n",
       "      <td>488665.0</td>\n",
       "      <td>489549.0</td>\n",
       "      <td>489727.0</td>\n",
       "      <td>489664.0</td>\n",
       "      <td>489084.0</td>\n",
       "      <td>488665.0</td>\n",
       "      <td>488683.0</td>\n",
       "      <td>488777.0</td>\n",
       "      <td>...</td>\n",
       "      <td>254476.0</td>\n",
       "      <td>254478.0</td>\n",
       "      <td>254478.0</td>\n",
       "      <td>254478.0</td>\n",
       "      <td>254478.0</td>\n",
       "      <td>254478.0</td>\n",
       "      <td>254476.0</td>\n",
       "      <td>254476.0</td>\n",
       "      <td>254478.0</td>\n",
       "      <td>254478.0</td>\n",
       "    </tr>\n",
       "    <tr>\n",
       "      <th>1</th>\n",
       "      <td>488745.0</td>\n",
       "      <td>488665.0</td>\n",
       "      <td>488665.0</td>\n",
       "      <td>489786.0</td>\n",
       "      <td>489696.0</td>\n",
       "      <td>489071.0</td>\n",
       "      <td>488934.0</td>\n",
       "      <td>488665.0</td>\n",
       "      <td>488665.0</td>\n",
       "      <td>488835.0</td>\n",
       "      <td>...</td>\n",
       "      <td>254476.0</td>\n",
       "      <td>254478.0</td>\n",
       "      <td>254476.0</td>\n",
       "      <td>254476.0</td>\n",
       "      <td>254478.0</td>\n",
       "      <td>254478.0</td>\n",
       "      <td>254476.0</td>\n",
       "      <td>254478.0</td>\n",
       "      <td>254478.0</td>\n",
       "      <td>254476.0</td>\n",
       "    </tr>\n",
       "    <tr>\n",
       "      <th>0</th>\n",
       "      <td>488665.0</td>\n",
       "      <td>488665.0</td>\n",
       "      <td>488665.0</td>\n",
       "      <td>490199.0</td>\n",
       "      <td>489305.0</td>\n",
       "      <td>490116.0</td>\n",
       "      <td>489044.0</td>\n",
       "      <td>488665.0</td>\n",
       "      <td>488665.0</td>\n",
       "      <td>488767.0</td>\n",
       "      <td>...</td>\n",
       "      <td>254476.0</td>\n",
       "      <td>254478.0</td>\n",
       "      <td>254478.0</td>\n",
       "      <td>254476.0</td>\n",
       "      <td>254478.0</td>\n",
       "      <td>254478.0</td>\n",
       "      <td>254478.0</td>\n",
       "      <td>254478.0</td>\n",
       "      <td>254478.0</td>\n",
       "      <td>254476.0</td>\n",
       "    </tr>\n",
       "    <tr>\n",
       "      <th>1</th>\n",
       "      <td>488937.0</td>\n",
       "      <td>488665.0</td>\n",
       "      <td>488665.0</td>\n",
       "      <td>490167.0</td>\n",
       "      <td>490535.0</td>\n",
       "      <td>490273.0</td>\n",
       "      <td>489068.0</td>\n",
       "      <td>488753.0</td>\n",
       "      <td>488665.0</td>\n",
       "      <td>488777.0</td>\n",
       "      <td>...</td>\n",
       "      <td>254476.0</td>\n",
       "      <td>254478.0</td>\n",
       "      <td>254476.0</td>\n",
       "      <td>254478.0</td>\n",
       "      <td>254478.0</td>\n",
       "      <td>254478.0</td>\n",
       "      <td>254476.0</td>\n",
       "      <td>254476.0</td>\n",
       "      <td>254476.0</td>\n",
       "      <td>254476.0</td>\n",
       "    </tr>\n",
       "    <tr>\n",
       "      <th>0</th>\n",
       "      <td>488683.0</td>\n",
       "      <td>488665.0</td>\n",
       "      <td>488665.0</td>\n",
       "      <td>490431.0</td>\n",
       "      <td>490376.0</td>\n",
       "      <td>489832.0</td>\n",
       "      <td>489095.0</td>\n",
       "      <td>488665.0</td>\n",
       "      <td>488665.0</td>\n",
       "      <td>488831.0</td>\n",
       "      <td>...</td>\n",
       "      <td>254476.0</td>\n",
       "      <td>254478.0</td>\n",
       "      <td>254478.0</td>\n",
       "      <td>254478.0</td>\n",
       "      <td>254478.0</td>\n",
       "      <td>254478.0</td>\n",
       "      <td>254476.0</td>\n",
       "      <td>254478.0</td>\n",
       "      <td>254478.0</td>\n",
       "      <td>254476.0</td>\n",
       "    </tr>\n",
       "    <tr>\n",
       "      <th>1</th>\n",
       "      <td>488665.0</td>\n",
       "      <td>488684.0</td>\n",
       "      <td>488665.0</td>\n",
       "      <td>490074.0</td>\n",
       "      <td>490558.0</td>\n",
       "      <td>489422.0</td>\n",
       "      <td>489000.0</td>\n",
       "      <td>488665.0</td>\n",
       "      <td>488665.0</td>\n",
       "      <td>488692.0</td>\n",
       "      <td>...</td>\n",
       "      <td>254476.0</td>\n",
       "      <td>254478.0</td>\n",
       "      <td>254478.0</td>\n",
       "      <td>254476.0</td>\n",
       "      <td>254478.0</td>\n",
       "      <td>254478.0</td>\n",
       "      <td>254476.0</td>\n",
       "      <td>254476.0</td>\n",
       "      <td>254476.0</td>\n",
       "      <td>254476.0</td>\n",
       "    </tr>\n",
       "  </tbody>\n",
       "</table>\n",
       "<p>6 rows × 72 columns</p>\n",
       "</div>"
      ],
      "text/plain": [
       "        200                                                              \\\n",
       "        0.2                                                               \n",
       "          3                                                               \n",
       "        0.2                                                         1.0   \n",
       "          0                             1                             0   \n",
       "       0.35      0.75      1.00      0.35      0.75      1.00      0.35   \n",
       "0  488976.0  488763.0  488665.0  489549.0  489727.0  489664.0  489084.0   \n",
       "1  488745.0  488665.0  488665.0  489786.0  489696.0  489071.0  488934.0   \n",
       "0  488665.0  488665.0  488665.0  490199.0  489305.0  490116.0  489044.0   \n",
       "1  488937.0  488665.0  488665.0  490167.0  490535.0  490273.0  489068.0   \n",
       "0  488683.0  488665.0  488665.0  490431.0  490376.0  489832.0  489095.0   \n",
       "1  488665.0  488684.0  488665.0  490074.0  490558.0  489422.0  489000.0   \n",
       "\n",
       "                                 ...                                          \\\n",
       "                                 ...       0.8                                 \n",
       "                                 ...         3                                 \n",
       "                                 ...       1.0                                 \n",
       "                              1  ...         0         1                       \n",
       "       0.75      1.00      0.35  ...      1.00      0.35      0.75      1.00   \n",
       "0  488665.0  488683.0  488777.0  ...  254476.0  254478.0  254478.0  254478.0   \n",
       "1  488665.0  488665.0  488835.0  ...  254476.0  254478.0  254476.0  254476.0   \n",
       "0  488665.0  488665.0  488767.0  ...  254476.0  254478.0  254478.0  254476.0   \n",
       "1  488753.0  488665.0  488777.0  ...  254476.0  254478.0  254476.0  254478.0   \n",
       "0  488665.0  488665.0  488831.0  ...  254476.0  254478.0  254478.0  254478.0   \n",
       "1  488665.0  488665.0  488692.0  ...  254476.0  254478.0  254478.0  254476.0   \n",
       "\n",
       "                                                               \n",
       "                                                               \n",
       "                                                               \n",
       "        5.0                                                    \n",
       "          0                             1                      \n",
       "       0.35      0.75      1.00      0.35      0.75      1.00  \n",
       "0  254478.0  254478.0  254476.0  254476.0  254478.0  254478.0  \n",
       "1  254478.0  254478.0  254476.0  254478.0  254478.0  254476.0  \n",
       "0  254478.0  254478.0  254478.0  254478.0  254478.0  254476.0  \n",
       "1  254478.0  254478.0  254476.0  254476.0  254476.0  254476.0  \n",
       "0  254478.0  254478.0  254476.0  254478.0  254478.0  254476.0  \n",
       "1  254478.0  254478.0  254476.0  254476.0  254476.0  254476.0  \n",
       "\n",
       "[6 rows x 72 columns]"
      ]
     },
     "execution_count": 5,
     "metadata": {},
     "output_type": "execute_result"
    }
   ],
   "source": [
    "objetivos_pandas"
   ]
  },
  {
   "cell_type": "code",
   "execution_count": 6,
   "metadata": {},
   "outputs": [
    {
     "data": {
      "text/html": [
       "<div>\n",
       "<style scoped>\n",
       "    .dataframe tbody tr th:only-of-type {\n",
       "        vertical-align: middle;\n",
       "    }\n",
       "\n",
       "    .dataframe tbody tr th {\n",
       "        vertical-align: top;\n",
       "    }\n",
       "\n",
       "    .dataframe thead tr th {\n",
       "        text-align: left;\n",
       "    }\n",
       "</style>\n",
       "<table border=\"1\" class=\"dataframe\">\n",
       "  <thead>\n",
       "    <tr>\n",
       "      <th></th>\n",
       "      <th colspan=\"21\" halign=\"left\">200</th>\n",
       "    </tr>\n",
       "    <tr>\n",
       "      <th></th>\n",
       "      <th colspan=\"10\" halign=\"left\">0.2</th>\n",
       "      <th>...</th>\n",
       "      <th colspan=\"10\" halign=\"left\">0.8</th>\n",
       "    </tr>\n",
       "    <tr>\n",
       "      <th></th>\n",
       "      <th colspan=\"10\" halign=\"left\">3</th>\n",
       "      <th>...</th>\n",
       "      <th colspan=\"10\" halign=\"left\">3</th>\n",
       "    </tr>\n",
       "    <tr>\n",
       "      <th></th>\n",
       "      <th colspan=\"6\" halign=\"left\">0.2</th>\n",
       "      <th colspan=\"4\" halign=\"left\">1.0</th>\n",
       "      <th>...</th>\n",
       "      <th colspan=\"4\" halign=\"left\">1.0</th>\n",
       "      <th colspan=\"6\" halign=\"left\">5.0</th>\n",
       "    </tr>\n",
       "    <tr>\n",
       "      <th></th>\n",
       "      <th colspan=\"3\" halign=\"left\">0</th>\n",
       "      <th colspan=\"3\" halign=\"left\">1</th>\n",
       "      <th colspan=\"3\" halign=\"left\">0</th>\n",
       "      <th>1</th>\n",
       "      <th>...</th>\n",
       "      <th>0</th>\n",
       "      <th colspan=\"3\" halign=\"left\">1</th>\n",
       "      <th colspan=\"3\" halign=\"left\">0</th>\n",
       "      <th colspan=\"3\" halign=\"left\">1</th>\n",
       "    </tr>\n",
       "    <tr>\n",
       "      <th></th>\n",
       "      <th>0.35</th>\n",
       "      <th>0.75</th>\n",
       "      <th>1.00</th>\n",
       "      <th>0.35</th>\n",
       "      <th>0.75</th>\n",
       "      <th>1.00</th>\n",
       "      <th>0.35</th>\n",
       "      <th>0.75</th>\n",
       "      <th>1.00</th>\n",
       "      <th>0.35</th>\n",
       "      <th>...</th>\n",
       "      <th>1.00</th>\n",
       "      <th>0.35</th>\n",
       "      <th>0.75</th>\n",
       "      <th>1.00</th>\n",
       "      <th>0.35</th>\n",
       "      <th>0.75</th>\n",
       "      <th>1.00</th>\n",
       "      <th>0.35</th>\n",
       "      <th>0.75</th>\n",
       "      <th>1.00</th>\n",
       "    </tr>\n",
       "  </thead>\n",
       "  <tbody>\n",
       "    <tr>\n",
       "      <th>0</th>\n",
       "      <td>27.337215</td>\n",
       "      <td>24.248997</td>\n",
       "      <td>23.191709</td>\n",
       "      <td>35.873864</td>\n",
       "      <td>37.267256</td>\n",
       "      <td>39.112700</td>\n",
       "      <td>26.456992</td>\n",
       "      <td>27.147186</td>\n",
       "      <td>26.250955</td>\n",
       "      <td>34.930994</td>\n",
       "      <td>...</td>\n",
       "      <td>25.334665</td>\n",
       "      <td>32.072206</td>\n",
       "      <td>32.082997</td>\n",
       "      <td>31.962512</td>\n",
       "      <td>26.110919</td>\n",
       "      <td>26.404902</td>\n",
       "      <td>24.640834</td>\n",
       "      <td>35.127085</td>\n",
       "      <td>39.050095</td>\n",
       "      <td>41.432709</td>\n",
       "    </tr>\n",
       "    <tr>\n",
       "      <th>1</th>\n",
       "      <td>25.766482</td>\n",
       "      <td>24.469417</td>\n",
       "      <td>22.820904</td>\n",
       "      <td>33.196874</td>\n",
       "      <td>38.134842</td>\n",
       "      <td>33.660895</td>\n",
       "      <td>26.169551</td>\n",
       "      <td>27.052224</td>\n",
       "      <td>26.042934</td>\n",
       "      <td>37.757090</td>\n",
       "      <td>...</td>\n",
       "      <td>22.577040</td>\n",
       "      <td>32.281080</td>\n",
       "      <td>32.325299</td>\n",
       "      <td>35.395385</td>\n",
       "      <td>26.333260</td>\n",
       "      <td>25.533570</td>\n",
       "      <td>24.811259</td>\n",
       "      <td>35.032036</td>\n",
       "      <td>37.476324</td>\n",
       "      <td>41.706087</td>\n",
       "    </tr>\n",
       "    <tr>\n",
       "      <th>0</th>\n",
       "      <td>27.664907</td>\n",
       "      <td>28.228406</td>\n",
       "      <td>24.899033</td>\n",
       "      <td>35.056983</td>\n",
       "      <td>35.200103</td>\n",
       "      <td>35.342449</td>\n",
       "      <td>29.433945</td>\n",
       "      <td>30.861314</td>\n",
       "      <td>28.178337</td>\n",
       "      <td>38.544508</td>\n",
       "      <td>...</td>\n",
       "      <td>28.178220</td>\n",
       "      <td>36.740009</td>\n",
       "      <td>36.012183</td>\n",
       "      <td>39.832932</td>\n",
       "      <td>28.084562</td>\n",
       "      <td>27.160286</td>\n",
       "      <td>26.266808</td>\n",
       "      <td>39.263940</td>\n",
       "      <td>41.263843</td>\n",
       "      <td>43.254343</td>\n",
       "    </tr>\n",
       "    <tr>\n",
       "      <th>1</th>\n",
       "      <td>28.144870</td>\n",
       "      <td>27.975888</td>\n",
       "      <td>24.649923</td>\n",
       "      <td>35.454649</td>\n",
       "      <td>35.151194</td>\n",
       "      <td>35.121418</td>\n",
       "      <td>29.247262</td>\n",
       "      <td>30.624454</td>\n",
       "      <td>28.335517</td>\n",
       "      <td>38.241215</td>\n",
       "      <td>...</td>\n",
       "      <td>23.961541</td>\n",
       "      <td>36.936966</td>\n",
       "      <td>36.106165</td>\n",
       "      <td>35.820373</td>\n",
       "      <td>28.088611</td>\n",
       "      <td>27.049655</td>\n",
       "      <td>26.516766</td>\n",
       "      <td>39.247924</td>\n",
       "      <td>40.984664</td>\n",
       "      <td>42.010010</td>\n",
       "    </tr>\n",
       "    <tr>\n",
       "      <th>0</th>\n",
       "      <td>23.917412</td>\n",
       "      <td>24.319500</td>\n",
       "      <td>23.111001</td>\n",
       "      <td>33.076202</td>\n",
       "      <td>33.036855</td>\n",
       "      <td>33.312029</td>\n",
       "      <td>25.032682</td>\n",
       "      <td>26.736051</td>\n",
       "      <td>25.582281</td>\n",
       "      <td>34.478605</td>\n",
       "      <td>...</td>\n",
       "      <td>25.730648</td>\n",
       "      <td>31.731282</td>\n",
       "      <td>31.692275</td>\n",
       "      <td>32.210666</td>\n",
       "      <td>25.783288</td>\n",
       "      <td>24.598179</td>\n",
       "      <td>23.977440</td>\n",
       "      <td>35.325862</td>\n",
       "      <td>36.427268</td>\n",
       "      <td>37.041862</td>\n",
       "    </tr>\n",
       "    <tr>\n",
       "      <th>1</th>\n",
       "      <td>23.705346</td>\n",
       "      <td>24.517006</td>\n",
       "      <td>23.141934</td>\n",
       "      <td>32.867004</td>\n",
       "      <td>33.261328</td>\n",
       "      <td>33.379357</td>\n",
       "      <td>25.313182</td>\n",
       "      <td>26.543329</td>\n",
       "      <td>25.884071</td>\n",
       "      <td>34.223272</td>\n",
       "      <td>...</td>\n",
       "      <td>22.115573</td>\n",
       "      <td>32.239778</td>\n",
       "      <td>31.832043</td>\n",
       "      <td>32.916629</td>\n",
       "      <td>25.674742</td>\n",
       "      <td>24.717510</td>\n",
       "      <td>24.536653</td>\n",
       "      <td>34.603165</td>\n",
       "      <td>35.776237</td>\n",
       "      <td>39.094158</td>\n",
       "    </tr>\n",
       "  </tbody>\n",
       "</table>\n",
       "<p>6 rows × 72 columns</p>\n",
       "</div>"
      ],
      "text/plain": [
       "         200                                                         \\\n",
       "         0.2                                                          \n",
       "           3                                                          \n",
       "         0.2                                                          \n",
       "           0                                1                         \n",
       "        0.35       0.75       1.00       0.35       0.75       1.00   \n",
       "0  27.337215  24.248997  23.191709  35.873864  37.267256  39.112700   \n",
       "1  25.766482  24.469417  22.820904  33.196874  38.134842  33.660895   \n",
       "0  27.664907  28.228406  24.899033  35.056983  35.200103  35.342449   \n",
       "1  28.144870  27.975888  24.649923  35.454649  35.151194  35.121418   \n",
       "0  23.917412  24.319500  23.111001  33.076202  33.036855  33.312029   \n",
       "1  23.705346  24.517006  23.141934  32.867004  33.261328  33.379357   \n",
       "\n",
       "                                               ...                        \\\n",
       "                                               ...        0.8              \n",
       "                                               ...          3              \n",
       "         1.0                                   ...        1.0              \n",
       "           0                                1  ...          0          1   \n",
       "        0.35       0.75       1.00       0.35  ...       1.00       0.35   \n",
       "0  26.456992  27.147186  26.250955  34.930994  ...  25.334665  32.072206   \n",
       "1  26.169551  27.052224  26.042934  37.757090  ...  22.577040  32.281080   \n",
       "0  29.433945  30.861314  28.178337  38.544508  ...  28.178220  36.740009   \n",
       "1  29.247262  30.624454  28.335517  38.241215  ...  23.961541  36.936966   \n",
       "0  25.032682  26.736051  25.582281  34.478605  ...  25.730648  31.731282   \n",
       "1  25.313182  26.543329  25.884071  34.223272  ...  22.115573  32.239778   \n",
       "\n",
       "                                                                     \\\n",
       "                                                                      \n",
       "                                                                      \n",
       "                               5.0                                    \n",
       "                                 0                                1   \n",
       "        0.75       1.00       0.35       0.75       1.00       0.35   \n",
       "0  32.082997  31.962512  26.110919  26.404902  24.640834  35.127085   \n",
       "1  32.325299  35.395385  26.333260  25.533570  24.811259  35.032036   \n",
       "0  36.012183  39.832932  28.084562  27.160286  26.266808  39.263940   \n",
       "1  36.106165  35.820373  28.088611  27.049655  26.516766  39.247924   \n",
       "0  31.692275  32.210666  25.783288  24.598179  23.977440  35.325862   \n",
       "1  31.832043  32.916629  25.674742  24.717510  24.536653  34.603165   \n",
       "\n",
       "                         \n",
       "                         \n",
       "                         \n",
       "                         \n",
       "                         \n",
       "        0.75       1.00  \n",
       "0  39.050095  41.432709  \n",
       "1  37.476324  41.706087  \n",
       "0  41.263843  43.254343  \n",
       "1  40.984664  42.010010  \n",
       "0  36.427268  37.041862  \n",
       "1  35.776237  39.094158  \n",
       "\n",
       "[6 rows x 72 columns]"
      ]
     },
     "execution_count": 6,
     "metadata": {},
     "output_type": "execute_result"
    }
   ],
   "source": [
    "tempos_pandas"
   ]
  },
  {
   "cell_type": "code",
   "execution_count": 7,
   "metadata": {},
   "outputs": [],
   "source": [
    "taxa_elitismo = 0.75\n",
    "usa_coliseu = 0\n",
    "taxa_mutacao = 1\n",
    "    \n",
    "    \n",
    "    \n"
   ]
  },
  {
   "cell_type": "code",
   "execution_count": 8,
   "metadata": {},
   "outputs": [],
   "source": [
    "objetivos_medios = objetivos_pandas.mean()\n",
    "taxa_elitismo = -1\n",
    "tipo_crossover = -2\n",
    "taxa_mutacao = -3\n"
   ]
  },
  {
   "cell_type": "code",
   "execution_count": 9,
   "metadata": {},
   "outputs": [
    {
     "data": {
      "text/plain": [
       "<matplotlib.axes._subplots.AxesSubplot at 0x22203e4a9d0>"
      ]
     },
     "execution_count": 9,
     "metadata": {},
     "output_type": "execute_result"
    },
    {
     "data": {
      "image/png": "[encoded data removed]",
      "text/plain": [
       "<Figure size 432x288 with 1 Axes>"
      ]
     },
     "metadata": {
      "needs_background": "light"
     },
     "output_type": "display_data"
    }
   ],
   "source": [
    "objetivos_medios.unstack(level=taxa_elitismo).boxplot()"
   ]
  },
  {
   "cell_type": "code",
   "execution_count": 10,
   "metadata": {},
   "outputs": [
    {
     "data": {
      "text/plain": [
       "<matplotlib.axes._subplots.AxesSubplot at 0x222045b0fd0>"
      ]
     },
     "execution_count": 10,
     "metadata": {},
     "output_type": "execute_result"
    },
    {
     "data": {
      "image/png": "[encoded data removed]",
      "text/plain": [
       "<Figure size 432x288 with 1 Axes>"
      ]
     },
     "metadata": {
      "needs_background": "light"
     },
     "output_type": "display_data"
    }
   ],
   "source": [
    "objetivos_medios.unstack(level=tipo_crossover).boxplot()"
   ]
  },
  {
   "cell_type": "code",
   "execution_count": 11,
   "metadata": {},
   "outputs": [
    {
     "data": {
      "text/plain": [
       "<matplotlib.axes._subplots.AxesSubplot at 0x22204639580>"
      ]
     },
     "execution_count": 11,
     "metadata": {},
     "output_type": "execute_result"
    },
    {
     "data": {
      "image/png": "[encoded data removed]",
      "text/plain": [
       "<Figure size 432x288 with 1 Axes>"
      ]
     },
     "metadata": {
      "needs_background": "light"
     },
     "output_type": "display_data"
    }
   ],
   "source": [
    "objetivos_medios.unstack(level=taxa_mutacao).boxplot()"
   ]
  },
  {
   "cell_type": "code",
   "execution_count": 12,
   "metadata": {},
   "outputs": [
    {
     "data": {
      "text/html": [
       "<div>\n",
       "<style scoped>\n",
       "    .dataframe tbody tr th:only-of-type {\n",
       "        vertical-align: middle;\n",
       "    }\n",
       "\n",
       "    .dataframe tbody tr th {\n",
       "        vertical-align: top;\n",
       "    }\n",
       "\n",
       "    .dataframe thead th {\n",
       "        text-align: right;\n",
       "    }\n",
       "</style>\n",
       "<table border=\"1\" class=\"dataframe\">\n",
       "  <thead>\n",
       "    <tr style=\"text-align: right;\">\n",
       "      <th></th>\n",
       "      <th></th>\n",
       "      <th></th>\n",
       "      <th></th>\n",
       "      <th></th>\n",
       "      <th>0.2</th>\n",
       "      <th>1.0</th>\n",
       "      <th>5.0</th>\n",
       "    </tr>\n",
       "  </thead>\n",
       "  <tbody>\n",
       "    <tr>\n",
       "      <th rowspan=\"24\" valign=\"top\">200</th>\n",
       "      <th rowspan=\"6\" valign=\"top\">0.2</th>\n",
       "      <th rowspan=\"6\" valign=\"top\">3</th>\n",
       "      <th rowspan=\"3\" valign=\"top\">0</th>\n",
       "      <th>0.35</th>\n",
       "      <td>488778.500000</td>\n",
       "      <td>489037.500000</td>\n",
       "      <td>491786.666667</td>\n",
       "    </tr>\n",
       "    <tr>\n",
       "      <th>0.75</th>\n",
       "      <td>488684.500000</td>\n",
       "      <td>488679.666667</td>\n",
       "      <td>490844.666667</td>\n",
       "    </tr>\n",
       "    <tr>\n",
       "      <th>1.00</th>\n",
       "      <td>488665.000000</td>\n",
       "      <td>488668.000000</td>\n",
       "      <td>489977.666667</td>\n",
       "    </tr>\n",
       "    <tr>\n",
       "      <th rowspan=\"3\" valign=\"top\">1</th>\n",
       "      <th>0.35</th>\n",
       "      <td>490034.333333</td>\n",
       "      <td>488779.833333</td>\n",
       "      <td>488950.500000</td>\n",
       "    </tr>\n",
       "    <tr>\n",
       "      <th>0.75</th>\n",
       "      <td>490032.833333</td>\n",
       "      <td>488742.333333</td>\n",
       "      <td>489410.833333</td>\n",
       "    </tr>\n",
       "    <tr>\n",
       "      <th>1.00</th>\n",
       "      <td>489729.666667</td>\n",
       "      <td>488766.500000</td>\n",
       "      <td>489491.166667</td>\n",
       "    </tr>\n",
       "    <tr>\n",
       "      <th rowspan=\"6\" valign=\"top\">0.4</th>\n",
       "      <th rowspan=\"6\" valign=\"top\">3</th>\n",
       "      <th rowspan=\"3\" valign=\"top\">0</th>\n",
       "      <th>0.35</th>\n",
       "      <td>293925.166667</td>\n",
       "      <td>293932.000000</td>\n",
       "      <td>295543.833333</td>\n",
       "    </tr>\n",
       "    <tr>\n",
       "      <th>0.75</th>\n",
       "      <td>293894.666667</td>\n",
       "      <td>293891.833333</td>\n",
       "      <td>294907.833333</td>\n",
       "    </tr>\n",
       "    <tr>\n",
       "      <th>1.00</th>\n",
       "      <td>293891.666667</td>\n",
       "      <td>293889.333333</td>\n",
       "      <td>294410.833333</td>\n",
       "    </tr>\n",
       "    <tr>\n",
       "      <th rowspan=\"3\" valign=\"top\">1</th>\n",
       "      <th>0.35</th>\n",
       "      <td>295862.666667</td>\n",
       "      <td>294061.833333</td>\n",
       "      <td>294257.333333</td>\n",
       "    </tr>\n",
       "    <tr>\n",
       "      <th>0.75</th>\n",
       "      <td>295794.166667</td>\n",
       "      <td>294131.000000</td>\n",
       "      <td>294121.166667</td>\n",
       "    </tr>\n",
       "    <tr>\n",
       "      <th>1.00</th>\n",
       "      <td>295782.000000</td>\n",
       "      <td>294189.833333</td>\n",
       "      <td>294398.333333</td>\n",
       "    </tr>\n",
       "    <tr>\n",
       "      <th rowspan=\"6\" valign=\"top\">0.6</th>\n",
       "      <th rowspan=\"6\" valign=\"top\">3</th>\n",
       "      <th rowspan=\"3\" valign=\"top\">0</th>\n",
       "      <th>0.35</th>\n",
       "      <td>254476.000000</td>\n",
       "      <td>254476.000000</td>\n",
       "      <td>254478.000000</td>\n",
       "    </tr>\n",
       "    <tr>\n",
       "      <th>0.75</th>\n",
       "      <td>254476.000000</td>\n",
       "      <td>254476.000000</td>\n",
       "      <td>254477.666667</td>\n",
       "    </tr>\n",
       "    <tr>\n",
       "      <th>1.00</th>\n",
       "      <td>254476.000000</td>\n",
       "      <td>254476.000000</td>\n",
       "      <td>254476.000000</td>\n",
       "    </tr>\n",
       "    <tr>\n",
       "      <th rowspan=\"3\" valign=\"top\">1</th>\n",
       "      <th>0.35</th>\n",
       "      <td>254477.333333</td>\n",
       "      <td>254478.000000</td>\n",
       "      <td>254477.000000</td>\n",
       "    </tr>\n",
       "    <tr>\n",
       "      <th>0.75</th>\n",
       "      <td>254477.666667</td>\n",
       "      <td>254478.000000</td>\n",
       "      <td>254477.000000</td>\n",
       "    </tr>\n",
       "    <tr>\n",
       "      <th>1.00</th>\n",
       "      <td>254478.000000</td>\n",
       "      <td>254477.000000</td>\n",
       "      <td>254476.666667</td>\n",
       "    </tr>\n",
       "    <tr>\n",
       "      <th rowspan=\"6\" valign=\"top\">0.8</th>\n",
       "      <th rowspan=\"6\" valign=\"top\">3</th>\n",
       "      <th rowspan=\"3\" valign=\"top\">0</th>\n",
       "      <th>0.35</th>\n",
       "      <td>254476.000000</td>\n",
       "      <td>254476.333333</td>\n",
       "      <td>254478.000000</td>\n",
       "    </tr>\n",
       "    <tr>\n",
       "      <th>0.75</th>\n",
       "      <td>254476.000000</td>\n",
       "      <td>254476.000000</td>\n",
       "      <td>254478.000000</td>\n",
       "    </tr>\n",
       "    <tr>\n",
       "      <th>1.00</th>\n",
       "      <td>254476.000000</td>\n",
       "      <td>254476.000000</td>\n",
       "      <td>254476.333333</td>\n",
       "    </tr>\n",
       "    <tr>\n",
       "      <th rowspan=\"3\" valign=\"top\">1</th>\n",
       "      <th>0.35</th>\n",
       "      <td>254478.000000</td>\n",
       "      <td>254478.000000</td>\n",
       "      <td>254477.000000</td>\n",
       "    </tr>\n",
       "    <tr>\n",
       "      <th>0.75</th>\n",
       "      <td>254477.666667</td>\n",
       "      <td>254477.333333</td>\n",
       "      <td>254477.333333</td>\n",
       "    </tr>\n",
       "    <tr>\n",
       "      <th>1.00</th>\n",
       "      <td>254478.000000</td>\n",
       "      <td>254477.000000</td>\n",
       "      <td>254476.333333</td>\n",
       "    </tr>\n",
       "  </tbody>\n",
       "</table>\n",
       "</div>"
      ],
      "text/plain": [
       "                            0.2            1.0            5.0\n",
       "200 0.2 3 0 0.35  488778.500000  489037.500000  491786.666667\n",
       "            0.75  488684.500000  488679.666667  490844.666667\n",
       "            1.00  488665.000000  488668.000000  489977.666667\n",
       "          1 0.35  490034.333333  488779.833333  488950.500000\n",
       "            0.75  490032.833333  488742.333333  489410.833333\n",
       "            1.00  489729.666667  488766.500000  489491.166667\n",
       "    0.4 3 0 0.35  293925.166667  293932.000000  295543.833333\n",
       "            0.75  293894.666667  293891.833333  294907.833333\n",
       "            1.00  293891.666667  293889.333333  294410.833333\n",
       "          1 0.35  295862.666667  294061.833333  294257.333333\n",
       "            0.75  295794.166667  294131.000000  294121.166667\n",
       "            1.00  295782.000000  294189.833333  294398.333333\n",
       "    0.6 3 0 0.35  254476.000000  254476.000000  254478.000000\n",
       "            0.75  254476.000000  254476.000000  254477.666667\n",
       "            1.00  254476.000000  254476.000000  254476.000000\n",
       "          1 0.35  254477.333333  254478.000000  254477.000000\n",
       "            0.75  254477.666667  254478.000000  254477.000000\n",
       "            1.00  254478.000000  254477.000000  254476.666667\n",
       "    0.8 3 0 0.35  254476.000000  254476.333333  254478.000000\n",
       "            0.75  254476.000000  254476.000000  254478.000000\n",
       "            1.00  254476.000000  254476.000000  254476.333333\n",
       "          1 0.35  254478.000000  254478.000000  254477.000000\n",
       "            0.75  254477.666667  254477.333333  254477.333333\n",
       "            1.00  254478.000000  254477.000000  254476.333333"
      ]
     },
     "execution_count": 12,
     "metadata": {},
     "output_type": "execute_result"
    }
   ],
   "source": [
    "objetivos_medios.unstack(level=taxa_mutacao)"
   ]
  },
  {
   "cell_type": "code",
   "execution_count": null,
   "metadata": {},
   "outputs": [],
   "source": []
  },
  {
   "cell_type": "code",
   "execution_count": null,
   "metadata": {},
   "outputs": [],
   "source": []
  },
  {
   "cell_type": "code",
   "execution_count": 13,
   "metadata": {},
   "outputs": [],
   "source": [
    "tempos_medios = tempos_pandas.mean()"
   ]
  },
  {
   "cell_type": "code",
   "execution_count": 14,
   "metadata": {},
   "outputs": [
    {
     "data": {
      "text/plain": [
       "<matplotlib.axes._subplots.AxesSubplot at 0x222046dea90>"
      ]
     },
     "execution_count": 14,
     "metadata": {},
     "output_type": "execute_result"
    },
    {
     "data": {
      "image/png": "[encoded data removed]",
      "text/plain": [
       "<Figure size 432x288 with 1 Axes>"
      ]
     },
     "metadata": {
      "needs_background": "light"
     },
     "output_type": "display_data"
    }
   ],
   "source": [
    "tempos_medios.unstack(level=taxa_elitismo).boxplot()"
   ]
  },
  {
   "cell_type": "code",
   "execution_count": 15,
   "metadata": {},
   "outputs": [
    {
     "data": {
      "text/plain": [
       "<matplotlib.axes._subplots.AxesSubplot at 0x222047502e0>"
      ]
     },
     "execution_count": 15,
     "metadata": {},
     "output_type": "execute_result"
    },
    {
     "data": {
      "image/png": "[encoded data removed]",
      "text/plain": [
       "<Figure size 432x288 with 1 Axes>"
      ]
     },
     "metadata": {
      "needs_background": "light"
     },
     "output_type": "display_data"
    }
   ],
   "source": [
    "tempos_medios.unstack(level=tipo_crossover).boxplot()"
   ]
  },
  {
   "cell_type": "code",
   "execution_count": 16,
   "metadata": {},
   "outputs": [
    {
     "data": {
      "text/plain": [
       "<matplotlib.axes._subplots.AxesSubplot at 0x222047db8e0>"
      ]
     },
     "execution_count": 16,
     "metadata": {},
     "output_type": "execute_result"
    },
    {
     "data": {
      "image/png": "[encoded data removed]",
      "text/plain": [
       "<Figure size 432x288 with 1 Axes>"
      ]
     },
     "metadata": {
      "needs_background": "light"
     },
     "output_type": "display_data"
    }
   ],
   "source": [
    "tempos_medios.unstack(level=taxa_mutacao).boxplot()"
   ]
  },
  {
   "cell_type": "code",
   "execution_count": 17,
   "metadata": {},
   "outputs": [],
   "source": [
    "objs_por_h = objetivos_medios.unstack(level=-5)\n",
    "tempos_por_h = tempos_medios.unstack(level=-5)"
   ]
  },
  {
   "cell_type": "code",
   "execution_count": 18,
   "metadata": {},
   "outputs": [
    {
     "data": {
      "text/plain": [
       "<matplotlib.axes._subplots.AxesSubplot at 0x222047e20d0>"
      ]
     },
     "execution_count": 18,
     "metadata": {},
     "output_type": "execute_result"
    },
    {
     "data": {
      "image/png": "[encoded data removed]",
      "text/plain": [
       "<Figure size 432x288 with 1 Axes>"
      ]
     },
     "metadata": {
      "needs_background": "light"
     },
     "output_type": "display_data"
    }
   ],
   "source": [
    "objs_por_h.unstack(level=taxa_mutacao).boxplot()"
   ]
  },
  {
   "cell_type": "code",
   "execution_count": 19,
   "metadata": {},
   "outputs": [
    {
     "data": {
      "text/plain": [
       "<matplotlib.axes._subplots.AxesSubplot at 0x22204967370>"
      ]
     },
     "execution_count": 19,
     "metadata": {},
     "output_type": "execute_result"
    },
    {
     "data": {
      "image/png": "[encoded data removed]",
      "text/plain": [
       "<Figure size 432x288 with 1 Axes>"
      ]
     },
     "metadata": {
      "needs_background": "light"
     },
     "output_type": "display_data"
    }
   ],
   "source": [
    "tempos_por_h.unstack(level=taxa_mutacao).boxplot()"
   ]
  },
  {
   "cell_type": "code",
   "execution_count": 20,
   "metadata": {},
   "outputs": [],
   "source": [
    "tempos_h02 = tempos_por_h.transpose().iloc[0]\n",
    "tempos_h04 = tempos_por_h.transpose().iloc[1]\n",
    "tempos_h06 = tempos_por_h.transpose().iloc[2]\n",
    "tempos_h08 = tempos_por_h.transpose().iloc[3]\n",
    "objs_h02 = objs_por_h.transpose().iloc[0]\n",
    "objs_h04 = objs_por_h.transpose().iloc[1]\n",
    "objs_h06 = objs_por_h.transpose().iloc[2]\n",
    "objs_h08 = objs_por_h.transpose().iloc[3]"
   ]
  },
  {
   "cell_type": "code",
   "execution_count": 21,
   "metadata": {},
   "outputs": [
    {
     "data": {
      "text/plain": [
       "<matplotlib.axes._subplots.AxesSubplot at 0x22204ae2130>"
      ]
     },
     "execution_count": 21,
     "metadata": {},
     "output_type": "execute_result"
    },
    {
     "data": {
      "image/png": "[encoded data removed]",
      "text/plain": [
       "<Figure size 432x288 with 1 Axes>"
      ]
     },
     "metadata": {
      "needs_background": "light"
     },
     "output_type": "display_data"
    }
   ],
   "source": [
    "objs_h04.unstack(level=taxa_mutacao).boxplot()"
   ]
  },
  {
   "cell_type": "code",
   "execution_count": 22,
   "metadata": {},
   "outputs": [
    {
     "data": {
      "text/plain": [
       "<matplotlib.axes._subplots.AxesSubplot at 0x22205b2a460>"
      ]
     },
     "execution_count": 22,
     "metadata": {},
     "output_type": "execute_result"
    },
    {
     "data": {
      "image/png": "[encoded data removed]",
      "text/plain": [
       "<Figure size 432x288 with 1 Axes>"
      ]
     },
     "metadata": {
      "needs_background": "light"
     },
     "output_type": "display_data"
    }
   ],
   "source": [
    "objs_h04.unstack(level=tipo_crossover).boxplot()"
   ]
  },
  {
   "cell_type": "code",
   "execution_count": 23,
   "metadata": {},
   "outputs": [
    {
     "data": {
      "text/plain": [
       "<matplotlib.axes._subplots.AxesSubplot at 0x2220464b8b0>"
      ]
     },
     "execution_count": 23,
     "metadata": {},
     "output_type": "execute_result"
    },
    {
     "data": {
      "image/png": "[encoded data removed]",
      "text/plain": [
       "<Figure size 432x288 with 1 Axes>"
      ]
     },
     "metadata": {
      "needs_background": "light"
     },
     "output_type": "display_data"
    }
   ],
   "source": [
    "objs_h04.unstack(level=taxa_elitismo).boxplot()"
   ]
  },
  {
   "cell_type": "code",
   "execution_count": 24,
   "metadata": {},
   "outputs": [
    {
     "data": {
      "text/plain": [
       "<matplotlib.axes._subplots.AxesSubplot at 0x2220476d850>"
      ]
     },
     "execution_count": 24,
     "metadata": {},
     "output_type": "execute_result"
    },
    {
     "data": {
      "image/png": "[encoded data removed]",
      "text/plain": [
       "<Figure size 432x288 with 1 Axes>"
      ]
     },
     "metadata": {
      "needs_background": "light"
     },
     "output_type": "display_data"
    }
   ],
   "source": [
    "objs_h06.unstack(level=taxa_mutacao).boxplot()"
   ]
  },
  {
   "cell_type": "code",
   "execution_count": 25,
   "metadata": {},
   "outputs": [
    {
     "data": {
      "text/plain": [
       "<matplotlib.axes._subplots.AxesSubplot at 0x22205cc2c70>"
      ]
     },
     "execution_count": 25,
     "metadata": {},
     "output_type": "execute_result"
    },
    {
     "data": {
      "image/png": "[encoded data removed]",
      "text/plain": [
       "<Figure size 432x288 with 1 Axes>"
      ]
     },
     "metadata": {
      "needs_background": "light"
     },
     "output_type": "display_data"
    }
   ],
   "source": [
    "objs_h06.unstack(level=tipo_crossover).boxplot()"
   ]
  },
  {
   "cell_type": "code",
   "execution_count": 26,
   "metadata": {},
   "outputs": [
    {
     "data": {
      "text/plain": [
       "<matplotlib.axes._subplots.AxesSubplot at 0x22205d208b0>"
      ]
     },
     "execution_count": 26,
     "metadata": {},
     "output_type": "execute_result"
    },
    {
     "data": {
      "image/png": "[encoded data removed]",
      "text/plain": [
       "<Figure size 432x288 with 1 Axes>"
      ]
     },
     "metadata": {
      "needs_background": "light"
     },
     "output_type": "display_data"
    }
   ],
   "source": [
    "objs_h06.unstack(level=taxa_elitismo).boxplot()"
   ]
  },
  {
   "cell_type": "code",
   "execution_count": 27,
   "metadata": {},
   "outputs": [
    {
     "data": {
      "text/plain": [
       "<matplotlib.axes._subplots.AxesSubplot at 0x22205dabcd0>"
      ]
     },
     "execution_count": 27,
     "metadata": {},
     "output_type": "execute_result"
    },
    {
     "data": {
      "image/png": "[encoded data removed]",
      "text/plain": [
       "<Figure size 432x288 with 1 Axes>"
      ]
     },
     "metadata": {
      "needs_background": "light"
     },
     "output_type": "display_data"
    }
   ],
   "source": [
    "objs_h02.unstack(level=taxa_mutacao).boxplot()"
   ]
  },
  {
   "cell_type": "code",
   "execution_count": 28,
   "metadata": {},
   "outputs": [
    {
     "data": {
      "text/plain": [
       "<matplotlib.axes._subplots.AxesSubplot at 0x22204acbd60>"
      ]
     },
     "execution_count": 28,
     "metadata": {},
     "output_type": "execute_result"
    },
    {
     "data": {
      "image/png": "[encoded data removed]",
      "text/plain": [
       "<Figure size 432x288 with 1 Axes>"
      ]
     },
     "metadata": {
      "needs_background": "light"
     },
     "output_type": "display_data"
    }
   ],
   "source": [
    "objs_h02.unstack(level=tipo_crossover).boxplot()"
   ]
  },
  {
   "cell_type": "code",
   "execution_count": 29,
   "metadata": {},
   "outputs": [
    {
     "data": {
      "text/plain": [
       "<matplotlib.axes._subplots.AxesSubplot at 0x22205e907c0>"
      ]
     },
     "execution_count": 29,
     "metadata": {},
     "output_type": "execute_result"
    },
    {
     "data": {
      "image/png": "[encoded data removed]",
      "text/plain": [
       "<Figure size 432x288 with 1 Axes>"
      ]
     },
     "metadata": {
      "needs_background": "light"
     },
     "output_type": "display_data"
    }
   ],
   "source": [
    "objs_h02.unstack(level=taxa_elitismo).boxplot()"
   ]
  },
  {
   "cell_type": "code",
   "execution_count": 30,
   "metadata": {},
   "outputs": [
    {
     "data": {
      "text/plain": [
       "<matplotlib.axes._subplots.AxesSubplot at 0x22205efda00>"
      ]
     },
     "execution_count": 30,
     "metadata": {},
     "output_type": "execute_result"
    },
    {
     "data": {
      "image/png": "[encoded data removed]",
      "text/plain": [
       "<Figure size 432x288 with 1 Axes>"
      ]
     },
     "metadata": {
      "needs_background": "light"
     },
     "output_type": "display_data"
    }
   ],
   "source": [
    "objs_h08.unstack(level=taxa_mutacao).boxplot()"
   ]
  },
  {
   "cell_type": "code",
   "execution_count": 31,
   "metadata": {},
   "outputs": [
    {
     "data": {
      "text/plain": [
       "<matplotlib.axes._subplots.AxesSubplot at 0x22205fa6460>"
      ]
     },
     "execution_count": 31,
     "metadata": {},
     "output_type": "execute_result"
    },
    {
     "data": {
      "image/png": "[encoded data removed]",
      "text/plain": [
       "<Figure size 432x288 with 1 Axes>"
      ]
     },
     "metadata": {
      "needs_background": "light"
     },
     "output_type": "display_data"
    }
   ],
   "source": [
    "objs_h08.unstack(level=tipo_crossover).boxplot()"
   ]
  },
  {
   "cell_type": "code",
   "execution_count": 32,
   "metadata": {},
   "outputs": [
    {
     "data": {
      "text/plain": [
       "<matplotlib.axes._subplots.AxesSubplot at 0x2220601a820>"
      ]
     },
     "execution_count": 32,
     "metadata": {},
     "output_type": "execute_result"
    },
    {
     "data": {
      "image/png": "[encoded data removed]",
      "text/plain": [
       "<Figure size 432x288 with 1 Axes>"
      ]
     },
     "metadata": {
      "needs_background": "light"
     },
     "output_type": "display_data"
    }
   ],
   "source": [
    "objs_h08.unstack(level=taxa_elitismo).boxplot()"
   ]
  },
  {
   "cell_type": "code",
   "execution_count": 33,
   "metadata": {},
   "outputs": [
    {
     "data": {
      "text/plain": [
       "<matplotlib.axes._subplots.AxesSubplot at 0x2220608bb20>"
      ]
     },
     "execution_count": 33,
     "metadata": {},
     "output_type": "execute_result"
    },
    {
     "data": {
      "image/png": "[encoded data removed]",
      "text/plain": [
       "<Figure size 432x288 with 1 Axes>"
      ]
     },
     "metadata": {
      "needs_background": "light"
     },
     "output_type": "display_data"
    }
   ],
   "source": [
    "tempos_h02.unstack(level=taxa_mutacao).boxplot()\n"
   ]
  },
  {
   "cell_type": "code",
   "execution_count": 34,
   "metadata": {},
   "outputs": [
    {
     "data": {
      "text/plain": [
       "<matplotlib.axes._subplots.AxesSubplot at 0x22206013670>"
      ]
     },
     "execution_count": 34,
     "metadata": {},
     "output_type": "execute_result"
    },
    {
     "data": {
      "image/png": "[encoded data removed]",
      "text/plain": [
       "<Figure size 432x288 with 1 Axes>"
      ]
     },
     "metadata": {
      "needs_background": "light"
     },
     "output_type": "display_data"
    }
   ],
   "source": [
    "tempos_h02.unstack(level=taxa_elitismo).boxplot()\n"
   ]
  },
  {
   "cell_type": "code",
   "execution_count": 35,
   "metadata": {},
   "outputs": [
    {
     "data": {
      "text/plain": [
       "<matplotlib.axes._subplots.AxesSubplot at 0x222061b1550>"
      ]
     },
     "execution_count": 35,
     "metadata": {},
     "output_type": "execute_result"
    },
    {
     "data": {
      "image/png": "[encoded data removed]",
      "text/plain": [
       "<Figure size 432x288 with 1 Axes>"
      ]
     },
     "metadata": {
      "needs_background": "light"
     },
     "output_type": "display_data"
    }
   ],
   "source": [
    "tempos_h02.unstack(level=tipo_crossover).boxplot()"
   ]
  },
  {
   "cell_type": "code",
   "execution_count": 36,
   "metadata": {},
   "outputs": [
    {
     "data": {
      "text/plain": [
       "<matplotlib.axes._subplots.AxesSubplot at 0x22206211c10>"
      ]
     },
     "execution_count": 36,
     "metadata": {},
     "output_type": "execute_result"
    },
    {
     "data": {
      "image/png": "[encoded data removed]",
      "text/plain": [
       "<Figure size 432x288 with 1 Axes>"
      ]
     },
     "metadata": {
      "needs_background": "light"
     },
     "output_type": "display_data"
    }
   ],
   "source": [
    "tempos_h04.unstack(level=taxa_mutacao).boxplot()\n"
   ]
  },
  {
   "cell_type": "code",
   "execution_count": 37,
   "metadata": {},
   "outputs": [
    {
     "data": {
      "text/plain": [
       "<matplotlib.axes._subplots.AxesSubplot at 0x22206295c70>"
      ]
     },
     "execution_count": 37,
     "metadata": {},
     "output_type": "execute_result"
    },
    {
     "data": {
      "image/png": "[encoded data removed]",
      "text/plain": [
       "<Figure size 432x288 with 1 Axes>"
      ]
     },
     "metadata": {
      "needs_background": "light"
     },
     "output_type": "display_data"
    }
   ],
   "source": [
    "tempos_h04.unstack(level=taxa_elitismo).boxplot()\n"
   ]
  },
  {
   "cell_type": "code",
   "execution_count": 38,
   "metadata": {},
   "outputs": [
    {
     "data": {
      "text/plain": [
       "<matplotlib.axes._subplots.AxesSubplot at 0x22206337f70>"
      ]
     },
     "execution_count": 38,
     "metadata": {},
     "output_type": "execute_result"
    },
    {
     "data": {
      "image/png": "[encoded data removed]",
      "text/plain": [
       "<Figure size 432x288 with 1 Axes>"
      ]
     },
     "metadata": {
      "needs_background": "light"
     },
     "output_type": "display_data"
    }
   ],
   "source": [
    "tempos_h04.unstack(level=tipo_crossover).boxplot()"
   ]
  },
  {
   "cell_type": "code",
   "execution_count": 39,
   "metadata": {},
   "outputs": [
    {
     "data": {
      "text/plain": [
       "<matplotlib.axes._subplots.AxesSubplot at 0x222063a4040>"
      ]
     },
     "execution_count": 39,
     "metadata": {},
     "output_type": "execute_result"
    },
    {
     "data": {
      "image/png": "[encoded data removed]",
      "text/plain": [
       "<Figure size 432x288 with 1 Axes>"
      ]
     },
     "metadata": {
      "needs_background": "light"
     },
     "output_type": "display_data"
    }
   ],
   "source": [
    "tempos_h06.unstack(level=taxa_mutacao).boxplot()\n"
   ]
  },
  {
   "cell_type": "code",
   "execution_count": 40,
   "metadata": {},
   "outputs": [
    {
     "data": {
      "text/plain": [
       "<matplotlib.axes._subplots.AxesSubplot at 0x22206013040>"
      ]
     },
     "execution_count": 40,
     "metadata": {},
     "output_type": "execute_result"
    },
    {
     "data": {
      "image/png": "[encoded data removed]",
      "text/plain": [
       "<Figure size 432x288 with 1 Axes>"
      ]
     },
     "metadata": {
      "needs_background": "light"
     },
     "output_type": "display_data"
    }
   ],
   "source": [
    "tempos_h06.unstack(level=taxa_elitismo).boxplot()\n"
   ]
  },
  {
   "cell_type": "code",
   "execution_count": 41,
   "metadata": {},
   "outputs": [
    {
     "data": {
      "text/plain": [
       "<matplotlib.axes._subplots.AxesSubplot at 0x22206476c10>"
      ]
     },
     "execution_count": 41,
     "metadata": {},
     "output_type": "execute_result"
    },
    {
     "data": {
      "image/png": "[encoded data removed]",
      "text/plain": [
       "<Figure size 432x288 with 1 Axes>"
      ]
     },
     "metadata": {
      "needs_background": "light"
     },
     "output_type": "display_data"
    }
   ],
   "source": [
    "tempos_h06.unstack(level=tipo_crossover).boxplot()"
   ]
  },
  {
   "cell_type": "code",
   "execution_count": 42,
   "metadata": {},
   "outputs": [
    {
     "data": {
      "text/plain": [
       "<matplotlib.axes._subplots.AxesSubplot at 0x22206501b50>"
      ]
     },
     "execution_count": 42,
     "metadata": {},
     "output_type": "execute_result"
    },
    {
     "data": {
      "image/png": "[encoded data removed]",
      "text/plain": [
       "<Figure size 432x288 with 1 Axes>"
      ]
     },
     "metadata": {
      "needs_background": "light"
     },
     "output_type": "display_data"
    }
   ],
   "source": [
    "tempos_h08.unstack(level=taxa_mutacao).boxplot()\n"
   ]
  },
  {
   "cell_type": "code",
   "execution_count": 43,
   "metadata": {},
   "outputs": [
    {
     "data": {
      "text/plain": [
       "<matplotlib.axes._subplots.AxesSubplot at 0x22206587460>"
      ]
     },
     "execution_count": 43,
     "metadata": {},
     "output_type": "execute_result"
    },
    {
     "data": {
      "image/png": "[encoded data removed]",
      "text/plain": [
       "<Figure size 432x288 with 1 Axes>"
      ]
     },
     "metadata": {
      "needs_background": "light"
     },
     "output_type": "display_data"
    }
   ],
   "source": [
    "tempos_h08.unstack(level=taxa_elitismo).boxplot()\n"
   ]
  },
  {
   "cell_type": "code",
   "execution_count": 44,
   "metadata": {},
   "outputs": [
    {
     "data": {
      "text/plain": [
       "<matplotlib.axes._subplots.AxesSubplot at 0x222075e0dc0>"
      ]
     },
     "execution_count": 44,
     "metadata": {},
     "output_type": "execute_result"
    },
    {
     "data": {
      "image/png": "[encoded data removed]",
      "text/plain": [
       "<Figure size 432x288 with 1 Axes>"
      ]
     },
     "metadata": {
      "needs_background": "light"
     },
     "output_type": "display_data"
    }
   ],
   "source": [
    "tempos_h08.unstack(level=tipo_crossover).boxplot()"
   ]
  },
  {
   "cell_type": "code",
   "execution_count": 45,
   "metadata": {},
   "outputs": [
    {
     "data": {
      "text/plain": [
       "200  3  0.2  0  0.35    254476.000000\n",
       "                0.75    254476.000000\n",
       "                1.00    254476.000000\n",
       "             1  0.35    254478.000000\n",
       "                0.75    254477.666667\n",
       "                1.00    254478.000000\n",
       "        1.0  0  0.35    254476.333333\n",
       "                0.75    254476.000000\n",
       "                1.00    254476.000000\n",
       "             1  0.35    254478.000000\n",
       "                0.75    254477.333333\n",
       "                1.00    254477.000000\n",
       "        5.0  0  0.35    254478.000000\n",
       "                0.75    254478.000000\n",
       "                1.00    254476.333333\n",
       "             1  0.35    254477.000000\n",
       "                0.75    254477.333333\n",
       "                1.00    254476.333333\n",
       "Name: 0.8, dtype: float64"
      ]
     },
     "execution_count": 45,
     "metadata": {},
     "output_type": "execute_result"
    }
   ],
   "source": [
    "objs_h08"
   ]
  },
  {
   "cell_type": "code",
   "execution_count": null,
   "metadata": {},
   "outputs": [],
   "source": []
  },
  {
   "cell_type": "code",
   "execution_count": null,
   "metadata": {},
   "outputs": [],
   "source": []
  }
 ],
 "metadata": {
  "kernelspec": {
   "display_name": "Python 3",
   "language": "python",
   "name": "python3"
  },
  "language_info": {
   "codemirror_mode": {
    "name": "ipython",
    "version": 3
   },
   "file_extension": ".py",
   "mimetype": "text/x-python",
   "name": "python",
   "nbconvert_exporter": "python",
   "pygments_lexer": "ipython3",
   "version": "3.8.3"
  }
 },
 "nbformat": 4,
 "nbformat_minor": 4
}
