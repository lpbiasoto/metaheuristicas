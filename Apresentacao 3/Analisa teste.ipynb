{
 "cells": [
  {
   "cell_type": "code",
   "execution_count": 1,
   "metadata": {},
   "outputs": [],
   "source": [
    "import pickle\n",
    "import numpy as np\n",
    "import pandas as pd\n",
    "import matplotlib.pyplot as plt\n",
    "%matplotlib inline"
   ]
  },
  {
   "cell_type": "code",
   "execution_count": 2,
   "metadata": {},
   "outputs": [],
   "source": [
    "lista_obj = []\n",
    "lista_tempos = []\n",
    "for i in range(4,6): \n",
    "    with open(\"objetivos_GA_tunning{}.pkl\".format(i), \"rb\") as infile:\n",
    "        dados1 = pickle.load(infile)\n",
    "        objetivos_pandas = pd.DataFrame(dados1)\n",
    "        objetivos_pandas.iloc[20]\n",
    "        objetivos_unstack = objetivos_pandas.iloc[20].unstack(level=-1)\n",
    "        objetivos_unstack\n",
    "        lista_obj.append(objetivos_unstack.transpose())\n",
    "        \n",
    "\n",
    "    with open(\"tempos_pandas_tunning{}.pkl\".format(i), \"rb\") as infile:\n",
    "        tempos1 = pickle.load(infile) \n",
    "        tempos_pandas = pd.Series(tempos1)\n",
    "        tempos_unstack = tempos_pandas.unstack(level=-1)\n",
    "        lista_tempos.append(tempos_unstack.transpose())      "
   ]
  },
  {
   "cell_type": "code",
   "execution_count": 3,
   "metadata": {},
   "outputs": [],
   "source": [
    "\n",
    "\n",
    "\n",
    "objetivos_pandas = pd.concat(lista_obj)\n",
    "tempos_pandas = pd.concat(lista_tempos)"
   ]
  },
  {
   "cell_type": "code",
   "execution_count": 4,
   "metadata": {},
   "outputs": [
    {
     "data": {
      "text/html": [
       "<div>\n",
       "<style scoped>\n",
       "    .dataframe tbody tr th:only-of-type {\n",
       "        vertical-align: middle;\n",
       "    }\n",
       "\n",
       "    .dataframe tbody tr th {\n",
       "        vertical-align: top;\n",
       "    }\n",
       "\n",
       "    .dataframe thead tr th {\n",
       "        text-align: left;\n",
       "    }\n",
       "</style>\n",
       "<table border=\"1\" class=\"dataframe\">\n",
       "  <thead>\n",
       "    <tr>\n",
       "      <th></th>\n",
       "      <th colspan=\"10\" halign=\"left\">10</th>\n",
       "      <th>...</th>\n",
       "      <th colspan=\"10\" halign=\"left\">1000</th>\n",
       "    </tr>\n",
       "    <tr>\n",
       "      <th></th>\n",
       "      <th colspan=\"10\" halign=\"left\">0.2</th>\n",
       "      <th>...</th>\n",
       "      <th colspan=\"10\" halign=\"left\">0.8</th>\n",
       "    </tr>\n",
       "    <tr>\n",
       "      <th></th>\n",
       "      <th colspan=\"9\" halign=\"left\">3</th>\n",
       "      <th>7</th>\n",
       "      <th>...</th>\n",
       "      <th>3</th>\n",
       "      <th colspan=\"9\" halign=\"left\">7</th>\n",
       "    </tr>\n",
       "    <tr>\n",
       "      <th></th>\n",
       "      <th colspan=\"3\" halign=\"left\">0.0100</th>\n",
       "      <th colspan=\"3\" halign=\"left\">0.1000</th>\n",
       "      <th colspan=\"3\" halign=\"left\">0.5000</th>\n",
       "      <th>0.0100</th>\n",
       "      <th>...</th>\n",
       "      <th>0.0100</th>\n",
       "      <th colspan=\"3\" halign=\"left\">0.0001</th>\n",
       "      <th colspan=\"3\" halign=\"left\">0.0010</th>\n",
       "      <th colspan=\"3\" halign=\"left\">0.0100</th>\n",
       "    </tr>\n",
       "    <tr>\n",
       "      <th></th>\n",
       "      <th colspan=\"3\" halign=\"left\">0</th>\n",
       "      <th colspan=\"3\" halign=\"left\">0</th>\n",
       "      <th colspan=\"3\" halign=\"left\">0</th>\n",
       "      <th>0</th>\n",
       "      <th>...</th>\n",
       "      <th>0</th>\n",
       "      <th colspan=\"3\" halign=\"left\">0</th>\n",
       "      <th colspan=\"3\" halign=\"left\">0</th>\n",
       "      <th colspan=\"3\" halign=\"left\">0</th>\n",
       "    </tr>\n",
       "    <tr>\n",
       "      <th></th>\n",
       "      <th>0.35</th>\n",
       "      <th>0.75</th>\n",
       "      <th>1.00</th>\n",
       "      <th>0.35</th>\n",
       "      <th>0.75</th>\n",
       "      <th>1.00</th>\n",
       "      <th>0.35</th>\n",
       "      <th>0.75</th>\n",
       "      <th>1.00</th>\n",
       "      <th>0.35</th>\n",
       "      <th>...</th>\n",
       "      <th>1.00</th>\n",
       "      <th>0.35</th>\n",
       "      <th>0.75</th>\n",
       "      <th>1.00</th>\n",
       "      <th>0.35</th>\n",
       "      <th>0.75</th>\n",
       "      <th>1.00</th>\n",
       "      <th>0.35</th>\n",
       "      <th>0.75</th>\n",
       "      <th>1.00</th>\n",
       "    </tr>\n",
       "  </thead>\n",
       "  <tbody>\n",
       "    <tr>\n",
       "      <th>0</th>\n",
       "      <td>1586.0</td>\n",
       "      <td>1586.0</td>\n",
       "      <td>1602.0</td>\n",
       "      <td>1586.0</td>\n",
       "      <td>1586.0</td>\n",
       "      <td>1586.0</td>\n",
       "      <td>1586.0</td>\n",
       "      <td>1586.0</td>\n",
       "      <td>1586.0</td>\n",
       "      <td>2179.0</td>\n",
       "      <td>...</td>\n",
       "      <td>5983303.0</td>\n",
       "      <td>6574297.0</td>\n",
       "      <td>6574297.0</td>\n",
       "      <td>6574297.0</td>\n",
       "      <td>6574297.0</td>\n",
       "      <td>6574297.0</td>\n",
       "      <td>6574297.0</td>\n",
       "      <td>6574298.0</td>\n",
       "      <td>6574297.0</td>\n",
       "      <td>6574297.0</td>\n",
       "    </tr>\n",
       "    <tr>\n",
       "      <th>1</th>\n",
       "      <td>1586.0</td>\n",
       "      <td>1586.0</td>\n",
       "      <td>1602.0</td>\n",
       "      <td>1586.0</td>\n",
       "      <td>1586.0</td>\n",
       "      <td>1586.0</td>\n",
       "      <td>1586.0</td>\n",
       "      <td>1586.0</td>\n",
       "      <td>1586.0</td>\n",
       "      <td>2179.0</td>\n",
       "      <td>...</td>\n",
       "      <td>5983303.0</td>\n",
       "      <td>6574297.0</td>\n",
       "      <td>6574298.0</td>\n",
       "      <td>6574298.0</td>\n",
       "      <td>6574297.0</td>\n",
       "      <td>6574297.0</td>\n",
       "      <td>6574297.0</td>\n",
       "      <td>6574297.0</td>\n",
       "      <td>6574297.0</td>\n",
       "      <td>6574297.0</td>\n",
       "    </tr>\n",
       "  </tbody>\n",
       "</table>\n",
       "<p>2 rows × 504 columns</p>\n",
       "</div>"
      ],
      "text/plain": [
       "     10                                                                    \\\n",
       "      0.2                                                                   \n",
       "        3                                                                   \n",
       "   0.0100                  0.1000                  0.5000                   \n",
       "        0                       0                       0                   \n",
       "     0.35    0.75    1.00    0.35    0.75    1.00    0.35    0.75    1.00   \n",
       "0  1586.0  1586.0  1602.0  1586.0  1586.0  1586.0  1586.0  1586.0  1586.0   \n",
       "1  1586.0  1586.0  1602.0  1586.0  1586.0  1586.0  1586.0  1586.0  1586.0   \n",
       "\n",
       "           ...       1000                                              \\\n",
       "           ...        0.8                                               \n",
       "        7  ...          3          7                                    \n",
       "   0.0100  ...     0.0100     0.0001                           0.0010   \n",
       "        0  ...          0          0                                0   \n",
       "     0.35  ...       1.00       0.35       0.75       1.00       0.35   \n",
       "0  2179.0  ...  5983303.0  6574297.0  6574297.0  6574297.0  6574297.0   \n",
       "1  2179.0  ...  5983303.0  6574297.0  6574298.0  6574298.0  6574297.0   \n",
       "\n",
       "                                                          \n",
       "                                                          \n",
       "                                                          \n",
       "                            0.0100                        \n",
       "                                 0                        \n",
       "        0.75       1.00       0.35       0.75       1.00  \n",
       "0  6574297.0  6574297.0  6574298.0  6574297.0  6574297.0  \n",
       "1  6574297.0  6574297.0  6574297.0  6574297.0  6574297.0  \n",
       "\n",
       "[2 rows x 504 columns]"
      ]
     },
     "execution_count": 4,
     "metadata": {},
     "output_type": "execute_result"
    }
   ],
   "source": [
    "lista_obj[1]"
   ]
  },
  {
   "cell_type": "code",
   "execution_count": 5,
   "metadata": {},
   "outputs": [],
   "source": [
    "conjuntos = [10,20,50,100,200,500,1000]\n",
    "problemas = list(range(1,10))\n",
    "lista_hs = [0.2,0.4,0.6,0.8]\n",
    "lista_crossover = [0 , 1]\n",
    "lista_elitismo = [0.35 , 0.75 , 1]\n",
    "lista_so_filho_mutante = [0 , 1]\n",
    "lista_taxa_mutacao = [0.2 , 1 , 5]"
   ]
  },
  {
   "cell_type": "code",
   "execution_count": 6,
   "metadata": {},
   "outputs": [
    {
     "data": {
      "text/html": [
       "<div>\n",
       "<style scoped>\n",
       "    .dataframe tbody tr th:only-of-type {\n",
       "        vertical-align: middle;\n",
       "    }\n",
       "\n",
       "    .dataframe tbody tr th {\n",
       "        vertical-align: top;\n",
       "    }\n",
       "\n",
       "    .dataframe thead tr th {\n",
       "        text-align: left;\n",
       "    }\n",
       "</style>\n",
       "<table border=\"1\" class=\"dataframe\">\n",
       "  <thead>\n",
       "    <tr>\n",
       "      <th></th>\n",
       "      <th colspan=\"10\" halign=\"left\">10</th>\n",
       "      <th>...</th>\n",
       "      <th colspan=\"10\" halign=\"left\">1000</th>\n",
       "    </tr>\n",
       "    <tr>\n",
       "      <th></th>\n",
       "      <th colspan=\"10\" halign=\"left\">0.2</th>\n",
       "      <th>...</th>\n",
       "      <th colspan=\"10\" halign=\"left\">0.8</th>\n",
       "    </tr>\n",
       "    <tr>\n",
       "      <th></th>\n",
       "      <th colspan=\"9\" halign=\"left\">3</th>\n",
       "      <th>7</th>\n",
       "      <th>...</th>\n",
       "      <th>3</th>\n",
       "      <th colspan=\"9\" halign=\"left\">7</th>\n",
       "    </tr>\n",
       "    <tr>\n",
       "      <th></th>\n",
       "      <th colspan=\"3\" halign=\"left\">0.0100</th>\n",
       "      <th colspan=\"3\" halign=\"left\">0.1000</th>\n",
       "      <th colspan=\"3\" halign=\"left\">0.5000</th>\n",
       "      <th>0.0100</th>\n",
       "      <th>...</th>\n",
       "      <th>0.0100</th>\n",
       "      <th colspan=\"3\" halign=\"left\">0.0001</th>\n",
       "      <th colspan=\"3\" halign=\"left\">0.0010</th>\n",
       "      <th colspan=\"3\" halign=\"left\">0.0100</th>\n",
       "    </tr>\n",
       "    <tr>\n",
       "      <th></th>\n",
       "      <th colspan=\"3\" halign=\"left\">0</th>\n",
       "      <th colspan=\"3\" halign=\"left\">0</th>\n",
       "      <th colspan=\"3\" halign=\"left\">0</th>\n",
       "      <th>0</th>\n",
       "      <th>...</th>\n",
       "      <th>0</th>\n",
       "      <th colspan=\"3\" halign=\"left\">0</th>\n",
       "      <th colspan=\"3\" halign=\"left\">0</th>\n",
       "      <th colspan=\"3\" halign=\"left\">0</th>\n",
       "    </tr>\n",
       "    <tr>\n",
       "      <th></th>\n",
       "      <th>0.35</th>\n",
       "      <th>0.75</th>\n",
       "      <th>1.00</th>\n",
       "      <th>0.35</th>\n",
       "      <th>0.75</th>\n",
       "      <th>1.00</th>\n",
       "      <th>0.35</th>\n",
       "      <th>0.75</th>\n",
       "      <th>1.00</th>\n",
       "      <th>0.35</th>\n",
       "      <th>...</th>\n",
       "      <th>1.00</th>\n",
       "      <th>0.35</th>\n",
       "      <th>0.75</th>\n",
       "      <th>1.00</th>\n",
       "      <th>0.35</th>\n",
       "      <th>0.75</th>\n",
       "      <th>1.00</th>\n",
       "      <th>0.35</th>\n",
       "      <th>0.75</th>\n",
       "      <th>1.00</th>\n",
       "    </tr>\n",
       "  </thead>\n",
       "  <tbody>\n",
       "    <tr>\n",
       "      <th>0</th>\n",
       "      <td>1586.0</td>\n",
       "      <td>1586.0</td>\n",
       "      <td>1602.0</td>\n",
       "      <td>1586.0</td>\n",
       "      <td>1586.0</td>\n",
       "      <td>1586.0</td>\n",
       "      <td>1586.0</td>\n",
       "      <td>1586.0</td>\n",
       "      <td>1586.0</td>\n",
       "      <td>2179.0</td>\n",
       "      <td>...</td>\n",
       "      <td>5983303.0</td>\n",
       "      <td>6574298.0</td>\n",
       "      <td>6574297.0</td>\n",
       "      <td>6574297.0</td>\n",
       "      <td>6574297.0</td>\n",
       "      <td>6574297.0</td>\n",
       "      <td>6574297.0</td>\n",
       "      <td>6574297.0</td>\n",
       "      <td>6574297.0</td>\n",
       "      <td>6574297.0</td>\n",
       "    </tr>\n",
       "    <tr>\n",
       "      <th>0</th>\n",
       "      <td>1586.0</td>\n",
       "      <td>1586.0</td>\n",
       "      <td>1602.0</td>\n",
       "      <td>1586.0</td>\n",
       "      <td>1586.0</td>\n",
       "      <td>1586.0</td>\n",
       "      <td>1586.0</td>\n",
       "      <td>1586.0</td>\n",
       "      <td>1586.0</td>\n",
       "      <td>2179.0</td>\n",
       "      <td>...</td>\n",
       "      <td>5983303.0</td>\n",
       "      <td>6574297.0</td>\n",
       "      <td>6574297.0</td>\n",
       "      <td>6574297.0</td>\n",
       "      <td>6574297.0</td>\n",
       "      <td>6574297.0</td>\n",
       "      <td>6574297.0</td>\n",
       "      <td>6574298.0</td>\n",
       "      <td>6574297.0</td>\n",
       "      <td>6574297.0</td>\n",
       "    </tr>\n",
       "    <tr>\n",
       "      <th>1</th>\n",
       "      <td>1586.0</td>\n",
       "      <td>1586.0</td>\n",
       "      <td>1602.0</td>\n",
       "      <td>1586.0</td>\n",
       "      <td>1586.0</td>\n",
       "      <td>1586.0</td>\n",
       "      <td>1586.0</td>\n",
       "      <td>1586.0</td>\n",
       "      <td>1586.0</td>\n",
       "      <td>2179.0</td>\n",
       "      <td>...</td>\n",
       "      <td>5983303.0</td>\n",
       "      <td>6574297.0</td>\n",
       "      <td>6574298.0</td>\n",
       "      <td>6574298.0</td>\n",
       "      <td>6574297.0</td>\n",
       "      <td>6574297.0</td>\n",
       "      <td>6574297.0</td>\n",
       "      <td>6574297.0</td>\n",
       "      <td>6574297.0</td>\n",
       "      <td>6574297.0</td>\n",
       "    </tr>\n",
       "  </tbody>\n",
       "</table>\n",
       "<p>3 rows × 504 columns</p>\n",
       "</div>"
      ],
      "text/plain": [
       "     10                                                                    \\\n",
       "      0.2                                                                   \n",
       "        3                                                                   \n",
       "   0.0100                  0.1000                  0.5000                   \n",
       "        0                       0                       0                   \n",
       "     0.35    0.75    1.00    0.35    0.75    1.00    0.35    0.75    1.00   \n",
       "0  1586.0  1586.0  1602.0  1586.0  1586.0  1586.0  1586.0  1586.0  1586.0   \n",
       "0  1586.0  1586.0  1602.0  1586.0  1586.0  1586.0  1586.0  1586.0  1586.0   \n",
       "1  1586.0  1586.0  1602.0  1586.0  1586.0  1586.0  1586.0  1586.0  1586.0   \n",
       "\n",
       "           ...       1000                                              \\\n",
       "           ...        0.8                                               \n",
       "        7  ...          3          7                                    \n",
       "   0.0100  ...     0.0100     0.0001                           0.0010   \n",
       "        0  ...          0          0                                0   \n",
       "     0.35  ...       1.00       0.35       0.75       1.00       0.35   \n",
       "0  2179.0  ...  5983303.0  6574298.0  6574297.0  6574297.0  6574297.0   \n",
       "0  2179.0  ...  5983303.0  6574297.0  6574297.0  6574297.0  6574297.0   \n",
       "1  2179.0  ...  5983303.0  6574297.0  6574298.0  6574298.0  6574297.0   \n",
       "\n",
       "                                                          \n",
       "                                                          \n",
       "                                                          \n",
       "                            0.0100                        \n",
       "                                 0                        \n",
       "        0.75       1.00       0.35       0.75       1.00  \n",
       "0  6574297.0  6574297.0  6574297.0  6574297.0  6574297.0  \n",
       "0  6574297.0  6574297.0  6574298.0  6574297.0  6574297.0  \n",
       "1  6574297.0  6574297.0  6574297.0  6574297.0  6574297.0  \n",
       "\n",
       "[3 rows x 504 columns]"
      ]
     },
     "execution_count": 6,
     "metadata": {},
     "output_type": "execute_result"
    }
   ],
   "source": [
    "objetivos_pandas"
   ]
  },
  {
   "cell_type": "code",
   "execution_count": 7,
   "metadata": {},
   "outputs": [
    {
     "data": {
      "text/html": [
       "<div>\n",
       "<style scoped>\n",
       "    .dataframe tbody tr th:only-of-type {\n",
       "        vertical-align: middle;\n",
       "    }\n",
       "\n",
       "    .dataframe tbody tr th {\n",
       "        vertical-align: top;\n",
       "    }\n",
       "\n",
       "    .dataframe thead tr th {\n",
       "        text-align: left;\n",
       "    }\n",
       "</style>\n",
       "<table border=\"1\" class=\"dataframe\">\n",
       "  <thead>\n",
       "    <tr>\n",
       "      <th></th>\n",
       "      <th colspan=\"10\" halign=\"left\">10</th>\n",
       "      <th>...</th>\n",
       "      <th colspan=\"10\" halign=\"left\">1000</th>\n",
       "    </tr>\n",
       "    <tr>\n",
       "      <th></th>\n",
       "      <th colspan=\"10\" halign=\"left\">0.2</th>\n",
       "      <th>...</th>\n",
       "      <th colspan=\"10\" halign=\"left\">0.8</th>\n",
       "    </tr>\n",
       "    <tr>\n",
       "      <th></th>\n",
       "      <th colspan=\"9\" halign=\"left\">3</th>\n",
       "      <th>7</th>\n",
       "      <th>...</th>\n",
       "      <th>3</th>\n",
       "      <th colspan=\"9\" halign=\"left\">7</th>\n",
       "    </tr>\n",
       "    <tr>\n",
       "      <th></th>\n",
       "      <th colspan=\"3\" halign=\"left\">0.0100</th>\n",
       "      <th colspan=\"3\" halign=\"left\">0.1000</th>\n",
       "      <th colspan=\"3\" halign=\"left\">0.5000</th>\n",
       "      <th>0.0100</th>\n",
       "      <th>...</th>\n",
       "      <th>0.0100</th>\n",
       "      <th colspan=\"3\" halign=\"left\">0.0001</th>\n",
       "      <th colspan=\"3\" halign=\"left\">0.0010</th>\n",
       "      <th colspan=\"3\" halign=\"left\">0.0100</th>\n",
       "    </tr>\n",
       "    <tr>\n",
       "      <th></th>\n",
       "      <th colspan=\"3\" halign=\"left\">0</th>\n",
       "      <th colspan=\"3\" halign=\"left\">0</th>\n",
       "      <th colspan=\"3\" halign=\"left\">0</th>\n",
       "      <th>0</th>\n",
       "      <th>...</th>\n",
       "      <th>0</th>\n",
       "      <th colspan=\"3\" halign=\"left\">0</th>\n",
       "      <th colspan=\"3\" halign=\"left\">0</th>\n",
       "      <th colspan=\"3\" halign=\"left\">0</th>\n",
       "    </tr>\n",
       "    <tr>\n",
       "      <th></th>\n",
       "      <th>0.35</th>\n",
       "      <th>0.75</th>\n",
       "      <th>1.00</th>\n",
       "      <th>0.35</th>\n",
       "      <th>0.75</th>\n",
       "      <th>1.00</th>\n",
       "      <th>0.35</th>\n",
       "      <th>0.75</th>\n",
       "      <th>1.00</th>\n",
       "      <th>0.35</th>\n",
       "      <th>...</th>\n",
       "      <th>1.00</th>\n",
       "      <th>0.35</th>\n",
       "      <th>0.75</th>\n",
       "      <th>1.00</th>\n",
       "      <th>0.35</th>\n",
       "      <th>0.75</th>\n",
       "      <th>1.00</th>\n",
       "      <th>0.35</th>\n",
       "      <th>0.75</th>\n",
       "      <th>1.00</th>\n",
       "    </tr>\n",
       "  </thead>\n",
       "  <tbody>\n",
       "    <tr>\n",
       "      <th>0</th>\n",
       "      <td>7.897563</td>\n",
       "      <td>7.968838</td>\n",
       "      <td>8.272671</td>\n",
       "      <td>7.536479</td>\n",
       "      <td>8.390336</td>\n",
       "      <td>7.957625</td>\n",
       "      <td>8.038831</td>\n",
       "      <td>9.443464</td>\n",
       "      <td>8.816906</td>\n",
       "      <td>8.095334</td>\n",
       "      <td>...</td>\n",
       "      <td>78.186713</td>\n",
       "      <td>102.397537</td>\n",
       "      <td>80.206084</td>\n",
       "      <td>79.109927</td>\n",
       "      <td>101.937022</td>\n",
       "      <td>79.475714</td>\n",
       "      <td>78.258155</td>\n",
       "      <td>102.708267</td>\n",
       "      <td>92.856972</td>\n",
       "      <td>79.584492</td>\n",
       "    </tr>\n",
       "    <tr>\n",
       "      <th>0</th>\n",
       "      <td>7.163850</td>\n",
       "      <td>7.377786</td>\n",
       "      <td>7.416212</td>\n",
       "      <td>7.240643</td>\n",
       "      <td>7.784127</td>\n",
       "      <td>7.272825</td>\n",
       "      <td>7.492975</td>\n",
       "      <td>8.185682</td>\n",
       "      <td>7.561679</td>\n",
       "      <td>7.253567</td>\n",
       "      <td>...</td>\n",
       "      <td>75.843603</td>\n",
       "      <td>99.530846</td>\n",
       "      <td>82.182376</td>\n",
       "      <td>76.930063</td>\n",
       "      <td>101.189385</td>\n",
       "      <td>77.511538</td>\n",
       "      <td>74.836819</td>\n",
       "      <td>102.171670</td>\n",
       "      <td>84.201083</td>\n",
       "      <td>75.618519</td>\n",
       "    </tr>\n",
       "    <tr>\n",
       "      <th>1</th>\n",
       "      <td>7.110671</td>\n",
       "      <td>7.265495</td>\n",
       "      <td>7.404202</td>\n",
       "      <td>7.005300</td>\n",
       "      <td>7.828069</td>\n",
       "      <td>7.249470</td>\n",
       "      <td>7.344740</td>\n",
       "      <td>8.272917</td>\n",
       "      <td>7.801128</td>\n",
       "      <td>7.145938</td>\n",
       "      <td>...</td>\n",
       "      <td>75.097547</td>\n",
       "      <td>99.668230</td>\n",
       "      <td>77.166532</td>\n",
       "      <td>75.574314</td>\n",
       "      <td>101.159857</td>\n",
       "      <td>79.469090</td>\n",
       "      <td>75.916410</td>\n",
       "      <td>100.312984</td>\n",
       "      <td>86.251555</td>\n",
       "      <td>76.272778</td>\n",
       "    </tr>\n",
       "  </tbody>\n",
       "</table>\n",
       "<p>3 rows × 504 columns</p>\n",
       "</div>"
      ],
      "text/plain": [
       "       10                                                                \\\n",
       "        0.2                                                               \n",
       "          3                                                               \n",
       "     0.0100                        0.1000                        0.5000   \n",
       "          0                             0                             0   \n",
       "       0.35      0.75      1.00      0.35      0.75      1.00      0.35   \n",
       "0  7.897563  7.968838  8.272671  7.536479  8.390336  7.957625  8.038831   \n",
       "0  7.163850  7.377786  7.416212  7.240643  7.784127  7.272825  7.492975   \n",
       "1  7.110671  7.265495  7.404202  7.005300  7.828069  7.249470  7.344740   \n",
       "\n",
       "                                 ...       1000                         \\\n",
       "                                 ...        0.8                          \n",
       "                              7  ...          3           7              \n",
       "                         0.0100  ...     0.0100      0.0001              \n",
       "                              0  ...          0           0              \n",
       "       0.75      1.00      0.35  ...       1.00        0.35       0.75   \n",
       "0  9.443464  8.816906  8.095334  ...  78.186713  102.397537  80.206084   \n",
       "0  8.185682  7.561679  7.253567  ...  75.843603   99.530846  82.182376   \n",
       "1  8.272917  7.801128  7.145938  ...  75.097547   99.668230  77.166532   \n",
       "\n",
       "                                                                       \\\n",
       "                                                                        \n",
       "                                                                        \n",
       "                  0.0010                            0.0100              \n",
       "                       0                                 0              \n",
       "        1.00        0.35       0.75       1.00        0.35       0.75   \n",
       "0  79.109927  101.937022  79.475714  78.258155  102.708267  92.856972   \n",
       "0  76.930063  101.189385  77.511538  74.836819  102.171670  84.201083   \n",
       "1  75.574314  101.159857  79.469090  75.916410  100.312984  86.251555   \n",
       "\n",
       "              \n",
       "              \n",
       "              \n",
       "              \n",
       "              \n",
       "        1.00  \n",
       "0  79.584492  \n",
       "0  75.618519  \n",
       "1  76.272778  \n",
       "\n",
       "[3 rows x 504 columns]"
      ]
     },
     "execution_count": 7,
     "metadata": {},
     "output_type": "execute_result"
    }
   ],
   "source": [
    "tempos_pandas"
   ]
  },
  {
   "cell_type": "code",
   "execution_count": 8,
   "metadata": {},
   "outputs": [],
   "source": [
    "taxa_elitismo = 0.75\n",
    "usa_coliseu = 0\n",
    "taxa_mutacao = 1\n",
    "    \n",
    "    \n",
    "    \n"
   ]
  },
  {
   "cell_type": "code",
   "execution_count": 9,
   "metadata": {},
   "outputs": [],
   "source": [
    "objetivos_medios = objetivos_pandas.mean()\n",
    "taxa_elitismo = -1\n",
    "tipo_crossover = -2\n",
    "taxa_mutacao = -3\n"
   ]
  },
  {
   "cell_type": "code",
   "execution_count": 10,
   "metadata": {},
   "outputs": [
    {
     "data": {
      "text/plain": [
       "<matplotlib.axes._subplots.AxesSubplot at 0x27290c10a60>"
      ]
     },
     "execution_count": 10,
     "metadata": {},
     "output_type": "execute_result"
    },
    {
     "data": {
      "image/png": "[encoded data removed]",
      "text/plain": [
       "<Figure size 432x288 with 1 Axes>"
      ]
     },
     "metadata": {
      "needs_background": "light"
     },
     "output_type": "display_data"
    }
   ],
   "source": [
    "objetivos_medios.unstack(level=taxa_elitismo).boxplot()"
   ]
  },
  {
   "cell_type": "code",
   "execution_count": 11,
   "metadata": {},
   "outputs": [
    {
     "data": {
      "text/plain": [
       "<matplotlib.axes._subplots.AxesSubplot at 0x27291386160>"
      ]
     },
     "execution_count": 11,
     "metadata": {},
     "output_type": "execute_result"
    },
    {
     "data": {
      "image/png": "[encoded data removed]",
      "text/plain": [
       "<Figure size 432x288 with 1 Axes>"
      ]
     },
     "metadata": {
      "needs_background": "light"
     },
     "output_type": "display_data"
    }
   ],
   "source": [
    "objetivos_medios.unstack(level=tipo_crossover).boxplot()"
   ]
  },
  {
   "cell_type": "code",
   "execution_count": 12,
   "metadata": {},
   "outputs": [
    {
     "data": {
      "text/plain": [
       "<matplotlib.axes._subplots.AxesSubplot at 0x272913f50a0>"
      ]
     },
     "execution_count": 12,
     "metadata": {},
     "output_type": "execute_result"
    },
    {
     "data": {
      "image/png": "[encoded data removed]",
      "text/plain": [
       "<Figure size 432x288 with 1 Axes>"
      ]
     },
     "metadata": {
      "needs_background": "light"
     },
     "output_type": "display_data"
    }
   ],
   "source": [
    "objetivos_medios.unstack(level=taxa_mutacao).boxplot()"
   ]
  },
  {
   "cell_type": "code",
   "execution_count": 13,
   "metadata": {},
   "outputs": [
    {
     "data": {
      "text/html": [
       "<div>\n",
       "<style scoped>\n",
       "    .dataframe tbody tr th:only-of-type {\n",
       "        vertical-align: middle;\n",
       "    }\n",
       "\n",
       "    .dataframe tbody tr th {\n",
       "        vertical-align: top;\n",
       "    }\n",
       "\n",
       "    .dataframe thead th {\n",
       "        text-align: right;\n",
       "    }\n",
       "</style>\n",
       "<table border=\"1\" class=\"dataframe\">\n",
       "  <thead>\n",
       "    <tr style=\"text-align: right;\">\n",
       "      <th></th>\n",
       "      <th></th>\n",
       "      <th></th>\n",
       "      <th></th>\n",
       "      <th></th>\n",
       "      <th>0.0001</th>\n",
       "      <th>0.0002</th>\n",
       "      <th>0.0005</th>\n",
       "      <th>0.0010</th>\n",
       "      <th>0.0020</th>\n",
       "      <th>0.0050</th>\n",
       "      <th>0.0100</th>\n",
       "      <th>0.0200</th>\n",
       "      <th>0.0500</th>\n",
       "      <th>0.1000</th>\n",
       "      <th>0.2000</th>\n",
       "      <th>0.5000</th>\n",
       "    </tr>\n",
       "  </thead>\n",
       "  <tbody>\n",
       "    <tr>\n",
       "      <th rowspan=\"5\" valign=\"top\">10</th>\n",
       "      <th rowspan=\"5\" valign=\"top\">0.2</th>\n",
       "      <th rowspan=\"3\" valign=\"top\">3</th>\n",
       "      <th rowspan=\"3\" valign=\"top\">0</th>\n",
       "      <th>0.35</th>\n",
       "      <td>NaN</td>\n",
       "      <td>NaN</td>\n",
       "      <td>NaN</td>\n",
       "      <td>NaN</td>\n",
       "      <td>NaN</td>\n",
       "      <td>NaN</td>\n",
       "      <td>1.586000e+03</td>\n",
       "      <td>NaN</td>\n",
       "      <td>NaN</td>\n",
       "      <td>1586.0</td>\n",
       "      <td>NaN</td>\n",
       "      <td>1586.0</td>\n",
       "    </tr>\n",
       "    <tr>\n",
       "      <th>0.75</th>\n",
       "      <td>NaN</td>\n",
       "      <td>NaN</td>\n",
       "      <td>NaN</td>\n",
       "      <td>NaN</td>\n",
       "      <td>NaN</td>\n",
       "      <td>NaN</td>\n",
       "      <td>1.586000e+03</td>\n",
       "      <td>NaN</td>\n",
       "      <td>NaN</td>\n",
       "      <td>1586.0</td>\n",
       "      <td>NaN</td>\n",
       "      <td>1586.0</td>\n",
       "    </tr>\n",
       "    <tr>\n",
       "      <th>1.00</th>\n",
       "      <td>NaN</td>\n",
       "      <td>NaN</td>\n",
       "      <td>NaN</td>\n",
       "      <td>NaN</td>\n",
       "      <td>NaN</td>\n",
       "      <td>NaN</td>\n",
       "      <td>1.602000e+03</td>\n",
       "      <td>NaN</td>\n",
       "      <td>NaN</td>\n",
       "      <td>1586.0</td>\n",
       "      <td>NaN</td>\n",
       "      <td>1586.0</td>\n",
       "    </tr>\n",
       "    <tr>\n",
       "      <th rowspan=\"2\" valign=\"top\">7</th>\n",
       "      <th rowspan=\"2\" valign=\"top\">0</th>\n",
       "      <th>0.35</th>\n",
       "      <td>NaN</td>\n",
       "      <td>NaN</td>\n",
       "      <td>NaN</td>\n",
       "      <td>NaN</td>\n",
       "      <td>NaN</td>\n",
       "      <td>NaN</td>\n",
       "      <td>2.179000e+03</td>\n",
       "      <td>NaN</td>\n",
       "      <td>NaN</td>\n",
       "      <td>2179.0</td>\n",
       "      <td>NaN</td>\n",
       "      <td>2179.0</td>\n",
       "    </tr>\n",
       "    <tr>\n",
       "      <th>0.75</th>\n",
       "      <td>NaN</td>\n",
       "      <td>NaN</td>\n",
       "      <td>NaN</td>\n",
       "      <td>NaN</td>\n",
       "      <td>NaN</td>\n",
       "      <td>NaN</td>\n",
       "      <td>2.179000e+03</td>\n",
       "      <td>NaN</td>\n",
       "      <td>NaN</td>\n",
       "      <td>2179.0</td>\n",
       "      <td>NaN</td>\n",
       "      <td>2179.0</td>\n",
       "    </tr>\n",
       "    <tr>\n",
       "      <th>...</th>\n",
       "      <th>...</th>\n",
       "      <th>...</th>\n",
       "      <th>...</th>\n",
       "      <th>...</th>\n",
       "      <td>...</td>\n",
       "      <td>...</td>\n",
       "      <td>...</td>\n",
       "      <td>...</td>\n",
       "      <td>...</td>\n",
       "      <td>...</td>\n",
       "      <td>...</td>\n",
       "      <td>...</td>\n",
       "      <td>...</td>\n",
       "      <td>...</td>\n",
       "      <td>...</td>\n",
       "      <td>...</td>\n",
       "    </tr>\n",
       "    <tr>\n",
       "      <th rowspan=\"5\" valign=\"top\">1000</th>\n",
       "      <th rowspan=\"5\" valign=\"top\">0.8</th>\n",
       "      <th rowspan=\"2\" valign=\"top\">3</th>\n",
       "      <th rowspan=\"2\" valign=\"top\">0</th>\n",
       "      <th>0.75</th>\n",
       "      <td>5.983303e+06</td>\n",
       "      <td>NaN</td>\n",
       "      <td>NaN</td>\n",
       "      <td>5983303.0</td>\n",
       "      <td>NaN</td>\n",
       "      <td>NaN</td>\n",
       "      <td>5.983304e+06</td>\n",
       "      <td>NaN</td>\n",
       "      <td>NaN</td>\n",
       "      <td>NaN</td>\n",
       "      <td>NaN</td>\n",
       "      <td>NaN</td>\n",
       "    </tr>\n",
       "    <tr>\n",
       "      <th>1.00</th>\n",
       "      <td>5.983305e+06</td>\n",
       "      <td>NaN</td>\n",
       "      <td>NaN</td>\n",
       "      <td>5983303.0</td>\n",
       "      <td>NaN</td>\n",
       "      <td>NaN</td>\n",
       "      <td>5.983303e+06</td>\n",
       "      <td>NaN</td>\n",
       "      <td>NaN</td>\n",
       "      <td>NaN</td>\n",
       "      <td>NaN</td>\n",
       "      <td>NaN</td>\n",
       "    </tr>\n",
       "    <tr>\n",
       "      <th rowspan=\"3\" valign=\"top\">7</th>\n",
       "      <th rowspan=\"3\" valign=\"top\">0</th>\n",
       "      <th>0.35</th>\n",
       "      <td>6.574297e+06</td>\n",
       "      <td>NaN</td>\n",
       "      <td>NaN</td>\n",
       "      <td>6574297.0</td>\n",
       "      <td>NaN</td>\n",
       "      <td>NaN</td>\n",
       "      <td>6.574297e+06</td>\n",
       "      <td>NaN</td>\n",
       "      <td>NaN</td>\n",
       "      <td>NaN</td>\n",
       "      <td>NaN</td>\n",
       "      <td>NaN</td>\n",
       "    </tr>\n",
       "    <tr>\n",
       "      <th>0.75</th>\n",
       "      <td>6.574297e+06</td>\n",
       "      <td>NaN</td>\n",
       "      <td>NaN</td>\n",
       "      <td>6574297.0</td>\n",
       "      <td>NaN</td>\n",
       "      <td>NaN</td>\n",
       "      <td>6.574297e+06</td>\n",
       "      <td>NaN</td>\n",
       "      <td>NaN</td>\n",
       "      <td>NaN</td>\n",
       "      <td>NaN</td>\n",
       "      <td>NaN</td>\n",
       "    </tr>\n",
       "    <tr>\n",
       "      <th>1.00</th>\n",
       "      <td>6.574297e+06</td>\n",
       "      <td>NaN</td>\n",
       "      <td>NaN</td>\n",
       "      <td>6574297.0</td>\n",
       "      <td>NaN</td>\n",
       "      <td>NaN</td>\n",
       "      <td>6.574297e+06</td>\n",
       "      <td>NaN</td>\n",
       "      <td>NaN</td>\n",
       "      <td>NaN</td>\n",
       "      <td>NaN</td>\n",
       "      <td>NaN</td>\n",
       "    </tr>\n",
       "  </tbody>\n",
       "</table>\n",
       "<p>168 rows × 12 columns</p>\n",
       "</div>"
      ],
      "text/plain": [
       "                         0.0001  0.0002  0.0005     0.0010  0.0020  0.0050  \\\n",
       "10   0.2 3 0 0.35           NaN     NaN     NaN        NaN     NaN     NaN   \n",
       "             0.75           NaN     NaN     NaN        NaN     NaN     NaN   \n",
       "             1.00           NaN     NaN     NaN        NaN     NaN     NaN   \n",
       "         7 0 0.35           NaN     NaN     NaN        NaN     NaN     NaN   \n",
       "             0.75           NaN     NaN     NaN        NaN     NaN     NaN   \n",
       "...                         ...     ...     ...        ...     ...     ...   \n",
       "1000 0.8 3 0 0.75  5.983303e+06     NaN     NaN  5983303.0     NaN     NaN   \n",
       "             1.00  5.983305e+06     NaN     NaN  5983303.0     NaN     NaN   \n",
       "         7 0 0.35  6.574297e+06     NaN     NaN  6574297.0     NaN     NaN   \n",
       "             0.75  6.574297e+06     NaN     NaN  6574297.0     NaN     NaN   \n",
       "             1.00  6.574297e+06     NaN     NaN  6574297.0     NaN     NaN   \n",
       "\n",
       "                         0.0100  0.0200  0.0500  0.1000  0.2000  0.5000  \n",
       "10   0.2 3 0 0.35  1.586000e+03     NaN     NaN  1586.0     NaN  1586.0  \n",
       "             0.75  1.586000e+03     NaN     NaN  1586.0     NaN  1586.0  \n",
       "             1.00  1.602000e+03     NaN     NaN  1586.0     NaN  1586.0  \n",
       "         7 0 0.35  2.179000e+03     NaN     NaN  2179.0     NaN  2179.0  \n",
       "             0.75  2.179000e+03     NaN     NaN  2179.0     NaN  2179.0  \n",
       "...                         ...     ...     ...     ...     ...     ...  \n",
       "1000 0.8 3 0 0.75  5.983304e+06     NaN     NaN     NaN     NaN     NaN  \n",
       "             1.00  5.983303e+06     NaN     NaN     NaN     NaN     NaN  \n",
       "         7 0 0.35  6.574297e+06     NaN     NaN     NaN     NaN     NaN  \n",
       "             0.75  6.574297e+06     NaN     NaN     NaN     NaN     NaN  \n",
       "             1.00  6.574297e+06     NaN     NaN     NaN     NaN     NaN  \n",
       "\n",
       "[168 rows x 12 columns]"
      ]
     },
     "execution_count": 13,
     "metadata": {},
     "output_type": "execute_result"
    }
   ],
   "source": [
    "objetivos_medios.unstack(level=taxa_mutacao)"
   ]
  },
  {
   "cell_type": "code",
   "execution_count": null,
   "metadata": {},
   "outputs": [],
   "source": []
  },
  {
   "cell_type": "code",
   "execution_count": null,
   "metadata": {},
   "outputs": [],
   "source": []
  },
  {
   "cell_type": "code",
   "execution_count": 14,
   "metadata": {},
   "outputs": [],
   "source": [
    "tempos_medios = tempos_pandas.mean()"
   ]
  },
  {
   "cell_type": "code",
   "execution_count": 15,
   "metadata": {},
   "outputs": [
    {
     "data": {
      "text/plain": [
       "<matplotlib.axes._subplots.AxesSubplot at 0x27291510220>"
      ]
     },
     "execution_count": 15,
     "metadata": {},
     "output_type": "execute_result"
    },
    {
     "data": {
      "image/png": "[encoded data removed]",
      "text/plain": [
       "<Figure size 432x288 with 1 Axes>"
      ]
     },
     "metadata": {
      "needs_background": "light"
     },
     "output_type": "display_data"
    }
   ],
   "source": [
    "tempos_medios.unstack(level=taxa_elitismo).boxplot()"
   ]
  },
  {
   "cell_type": "code",
   "execution_count": 16,
   "metadata": {},
   "outputs": [
    {
     "data": {
      "text/plain": [
       "<matplotlib.axes._subplots.AxesSubplot at 0x272915840d0>"
      ]
     },
     "execution_count": 16,
     "metadata": {},
     "output_type": "execute_result"
    },
    {
     "data": {
      "image/png": "[encoded data removed]",
      "text/plain": [
       "<Figure size 432x288 with 1 Axes>"
      ]
     },
     "metadata": {
      "needs_background": "light"
     },
     "output_type": "display_data"
    }
   ],
   "source": [
    "tempos_medios.unstack(level=tipo_crossover).boxplot()"
   ]
  },
  {
   "cell_type": "code",
   "execution_count": 17,
   "metadata": {},
   "outputs": [
    {
     "data": {
      "text/plain": [
       "<matplotlib.axes._subplots.AxesSubplot at 0x272915db520>"
      ]
     },
     "execution_count": 17,
     "metadata": {},
     "output_type": "execute_result"
    },
    {
     "data": {
      "image/png": "[encoded data removed]",
      "text/plain": [
       "<Figure size 432x288 with 1 Axes>"
      ]
     },
     "metadata": {
      "needs_background": "light"
     },
     "output_type": "display_data"
    }
   ],
   "source": [
    "tempos_medios.unstack(level=taxa_mutacao).boxplot()"
   ]
  },
  {
   "cell_type": "code",
   "execution_count": 18,
   "metadata": {},
   "outputs": [],
   "source": [
    "objs_por_h = objetivos_medios.unstack(level=-5)\n",
    "tempos_por_h = tempos_medios.unstack(level=-5)"
   ]
  },
  {
   "cell_type": "code",
   "execution_count": 19,
   "metadata": {},
   "outputs": [
    {
     "data": {
      "text/plain": [
       "<matplotlib.axes._subplots.AxesSubplot at 0x272916e5be0>"
      ]
     },
     "execution_count": 19,
     "metadata": {},
     "output_type": "execute_result"
    },
    {
     "data": {
      "image/png": "[encoded data removed]",
      "text/plain": [
       "<Figure size 432x288 with 1 Axes>"
      ]
     },
     "metadata": {
      "needs_background": "light"
     },
     "output_type": "display_data"
    }
   ],
   "source": [
    "objs_por_h.unstack(level=taxa_mutacao).boxplot()"
   ]
  },
  {
   "cell_type": "code",
   "execution_count": 20,
   "metadata": {},
   "outputs": [
    {
     "data": {
      "text/plain": [
       "<matplotlib.axes._subplots.AxesSubplot at 0x27292b43a00>"
      ]
     },
     "execution_count": 20,
     "metadata": {},
     "output_type": "execute_result"
    },
    {
     "data": {
      "image/png": "[encoded data removed]",
      "text/plain": [
       "<Figure size 432x288 with 1 Axes>"
      ]
     },
     "metadata": {
      "needs_background": "light"
     },
     "output_type": "display_data"
    }
   ],
   "source": [
    "tempos_por_h.unstack(level=taxa_mutacao).boxplot()"
   ]
  },
  {
   "cell_type": "code",
   "execution_count": 21,
   "metadata": {},
   "outputs": [],
   "source": [
    "tempos_h02 = tempos_por_h.transpose().iloc[0]\n",
    "tempos_h04 = tempos_por_h.transpose().iloc[1]\n",
    "tempos_h06 = tempos_por_h.transpose().iloc[2]\n",
    "tempos_h08 = tempos_por_h.transpose().iloc[3]\n",
    "objs_h02 = objs_por_h.transpose().iloc[0]\n",
    "objs_h04 = objs_por_h.transpose().iloc[1]\n",
    "objs_h06 = objs_por_h.transpose().iloc[2]\n",
    "objs_h08 = objs_por_h.transpose().iloc[3]"
   ]
  },
  {
   "cell_type": "code",
   "execution_count": 22,
   "metadata": {},
   "outputs": [
    {
     "data": {
      "text/plain": [
       "<matplotlib.axes._subplots.AxesSubplot at 0x27292f84940>"
      ]
     },
     "execution_count": 22,
     "metadata": {},
     "output_type": "execute_result"
    },
    {
     "data": {
      "image/png": "[encoded data removed]",
      "text/plain": [
       "<Figure size 432x288 with 1 Axes>"
      ]
     },
     "metadata": {
      "needs_background": "light"
     },
     "output_type": "display_data"
    }
   ],
   "source": [
    "objs_h04.unstack(level=taxa_mutacao).boxplot()"
   ]
  },
  {
   "cell_type": "code",
   "execution_count": 23,
   "metadata": {},
   "outputs": [
    {
     "data": {
      "text/plain": [
       "<matplotlib.axes._subplots.AxesSubplot at 0x2729150b910>"
      ]
     },
     "execution_count": 23,
     "metadata": {},
     "output_type": "execute_result"
    },
    {
     "data": {
      "image/png": "[encoded data removed]",
      "text/plain": [
       "<Figure size 432x288 with 1 Axes>"
      ]
     },
     "metadata": {
      "needs_background": "light"
     },
     "output_type": "display_data"
    }
   ],
   "source": [
    "objs_h04.unstack(level=tipo_crossover).boxplot()"
   ]
  },
  {
   "cell_type": "code",
   "execution_count": 24,
   "metadata": {},
   "outputs": [
    {
     "data": {
      "text/plain": [
       "<matplotlib.axes._subplots.AxesSubplot at 0x272930e9dc0>"
      ]
     },
     "execution_count": 24,
     "metadata": {},
     "output_type": "execute_result"
    },
    {
     "data": {
      "image/png": "[encoded data removed]",
      "text/plain": [
       "<Figure size 432x288 with 1 Axes>"
      ]
     },
     "metadata": {
      "needs_background": "light"
     },
     "output_type": "display_data"
    }
   ],
   "source": [
    "objs_h04.unstack(level=taxa_elitismo).boxplot()"
   ]
  },
  {
   "cell_type": "code",
   "execution_count": 25,
   "metadata": {},
   "outputs": [
    {
     "data": {
      "text/plain": [
       "<matplotlib.axes._subplots.AxesSubplot at 0x272931bc880>"
      ]
     },
     "execution_count": 25,
     "metadata": {},
     "output_type": "execute_result"
    },
    {
     "data": {
      "image/png": "[encoded data removed]",
      "text/plain": [
       "<Figure size 432x288 with 1 Axes>"
      ]
     },
     "metadata": {
      "needs_background": "light"
     },
     "output_type": "display_data"
    }
   ],
   "source": [
    "objs_h06.unstack(level=taxa_mutacao).boxplot()"
   ]
  },
  {
   "cell_type": "code",
   "execution_count": 26,
   "metadata": {},
   "outputs": [
    {
     "data": {
      "text/plain": [
       "<matplotlib.axes._subplots.AxesSubplot at 0x27293304910>"
      ]
     },
     "execution_count": 26,
     "metadata": {},
     "output_type": "execute_result"
    },
    {
     "data": {
      "image/png": "[encoded data removed]",
      "text/plain": [
       "<Figure size 432x288 with 1 Axes>"
      ]
     },
     "metadata": {
      "needs_background": "light"
     },
     "output_type": "display_data"
    }
   ],
   "source": [
    "objs_h06.unstack(level=tipo_crossover).boxplot()"
   ]
  },
  {
   "cell_type": "code",
   "execution_count": 27,
   "metadata": {},
   "outputs": [
    {
     "data": {
      "text/plain": [
       "<matplotlib.axes._subplots.AxesSubplot at 0x27293364e20>"
      ]
     },
     "execution_count": 27,
     "metadata": {},
     "output_type": "execute_result"
    },
    {
     "data": {
      "image/png": "[encoded data removed]",
      "text/plain": [
       "<Figure size 432x288 with 1 Axes>"
      ]
     },
     "metadata": {
      "needs_background": "light"
     },
     "output_type": "display_data"
    }
   ],
   "source": [
    "objs_h06.unstack(level=taxa_elitismo).boxplot()"
   ]
  },
  {
   "cell_type": "code",
   "execution_count": 28,
   "metadata": {},
   "outputs": [
    {
     "data": {
      "text/plain": [
       "<matplotlib.axes._subplots.AxesSubplot at 0x272933efa60>"
      ]
     },
     "execution_count": 28,
     "metadata": {},
     "output_type": "execute_result"
    },
    {
     "data": {
      "image/png": "[encoded data removed]",
      "text/plain": [
       "<Figure size 432x288 with 1 Axes>"
      ]
     },
     "metadata": {
      "needs_background": "light"
     },
     "output_type": "display_data"
    }
   ],
   "source": [
    "objs_h02.unstack(level=taxa_mutacao).boxplot()"
   ]
  },
  {
   "cell_type": "code",
   "execution_count": 29,
   "metadata": {},
   "outputs": [
    {
     "data": {
      "text/plain": [
       "<matplotlib.axes._subplots.AxesSubplot at 0x272934cf910>"
      ]
     },
     "execution_count": 29,
     "metadata": {},
     "output_type": "execute_result"
    },
    {
     "data": {
      "image/png": "[encoded data removed]",
      "text/plain": [
       "<Figure size 432x288 with 1 Axes>"
      ]
     },
     "metadata": {
      "needs_background": "light"
     },
     "output_type": "display_data"
    }
   ],
   "source": [
    "objs_h02.unstack(level=tipo_crossover).boxplot()"
   ]
  },
  {
   "cell_type": "code",
   "execution_count": 30,
   "metadata": {},
   "outputs": [
    {
     "data": {
      "text/plain": [
       "<matplotlib.axes._subplots.AxesSubplot at 0x27293565c10>"
      ]
     },
     "execution_count": 30,
     "metadata": {},
     "output_type": "execute_result"
    },
    {
     "data": {
      "image/png": "[encoded data removed]",
      "text/plain": [
       "<Figure size 432x288 with 1 Axes>"
      ]
     },
     "metadata": {
      "needs_background": "light"
     },
     "output_type": "display_data"
    }
   ],
   "source": [
    "objs_h02.unstack(level=taxa_elitismo).boxplot()"
   ]
  },
  {
   "cell_type": "code",
   "execution_count": 31,
   "metadata": {},
   "outputs": [
    {
     "data": {
      "text/plain": [
       "<matplotlib.axes._subplots.AxesSubplot at 0x272935ea550>"
      ]
     },
     "execution_count": 31,
     "metadata": {},
     "output_type": "execute_result"
    },
    {
     "data": {
      "image/png": "[encoded data removed]",
      "text/plain": [
       "<Figure size 432x288 with 1 Axes>"
      ]
     },
     "metadata": {
      "needs_background": "light"
     },
     "output_type": "display_data"
    }
   ],
   "source": [
    "objs_h08.unstack(level=taxa_mutacao).boxplot()"
   ]
  },
  {
   "cell_type": "code",
   "execution_count": 32,
   "metadata": {},
   "outputs": [
    {
     "data": {
      "text/plain": [
       "<matplotlib.axes._subplots.AxesSubplot at 0x27293737af0>"
      ]
     },
     "execution_count": 32,
     "metadata": {},
     "output_type": "execute_result"
    },
    {
     "data": {
      "image/png": "[encoded data removed]",
      "text/plain": [
       "<Figure size 432x288 with 1 Axes>"
      ]
     },
     "metadata": {
      "needs_background": "light"
     },
     "output_type": "display_data"
    }
   ],
   "source": [
    "objs_h02[(50)].unstack(level=taxa_elitismo).boxplot()"
   ]
  },
  {
   "cell_type": "code",
   "execution_count": 33,
   "metadata": {},
   "outputs": [
    {
     "data": {
      "text/plain": [
       "<matplotlib.axes._subplots.AxesSubplot at 0x272937b4100>"
      ]
     },
     "execution_count": 33,
     "metadata": {},
     "output_type": "execute_result"
    },
    {
     "data": {
      "image/png": "[encoded data removed]",
      "text/plain": [
       "<Figure size 432x288 with 1 Axes>"
      ]
     },
     "metadata": {
      "needs_background": "light"
     },
     "output_type": "display_data"
    }
   ],
   "source": [
    "objs_h08.unstack(level=tipo_crossover).boxplot()"
   ]
  },
  {
   "cell_type": "code",
   "execution_count": 34,
   "metadata": {},
   "outputs": [
    {
     "data": {
      "text/plain": [
       "<matplotlib.axes._subplots.AxesSubplot at 0x2729381bc40>"
      ]
     },
     "execution_count": 34,
     "metadata": {},
     "output_type": "execute_result"
    },
    {
     "data": {
      "image/png": "[encoded data removed]",
      "text/plain": [
       "<Figure size 432x288 with 1 Axes>"
      ]
     },
     "metadata": {
      "needs_background": "light"
     },
     "output_type": "display_data"
    }
   ],
   "source": [
    "objs_h08.unstack(level=taxa_elitismo).boxplot()"
   ]
  },
  {
   "cell_type": "code",
   "execution_count": 35,
   "metadata": {},
   "outputs": [
    {
     "data": {
      "text/plain": [
       "<matplotlib.axes._subplots.AxesSubplot at 0x272935d52e0>"
      ]
     },
     "execution_count": 35,
     "metadata": {},
     "output_type": "execute_result"
    },
    {
     "data": {
      "image/png": "[encoded data removed]",
      "text/plain": [
       "<Figure size 432x288 with 1 Axes>"
      ]
     },
     "metadata": {
      "needs_background": "light"
     },
     "output_type": "display_data"
    }
   ],
   "source": [
    "tempos_h02.unstack(level=taxa_mutacao).boxplot()\n"
   ]
  },
  {
   "cell_type": "code",
   "execution_count": 36,
   "metadata": {},
   "outputs": [
    {
     "data": {
      "text/plain": [
       "<matplotlib.axes._subplots.AxesSubplot at 0x272939e5400>"
      ]
     },
     "execution_count": 36,
     "metadata": {},
     "output_type": "execute_result"
    },
    {
     "data": {
      "image/png": "[encoded data removed]",
      "text/plain": [
       "<Figure size 432x288 with 1 Axes>"
      ]
     },
     "metadata": {
      "needs_background": "light"
     },
     "output_type": "display_data"
    }
   ],
   "source": [
    "tempos_h02.unstack(level=taxa_elitismo).boxplot()\n"
   ]
  },
  {
   "cell_type": "code",
   "execution_count": 37,
   "metadata": {},
   "outputs": [
    {
     "data": {
      "text/plain": [
       "<matplotlib.axes._subplots.AxesSubplot at 0x27294a2c490>"
      ]
     },
     "execution_count": 37,
     "metadata": {},
     "output_type": "execute_result"
    },
    {
     "data": {
      "image/png": "[encoded data removed]",
      "text/plain": [
       "<Figure size 432x288 with 1 Axes>"
      ]
     },
     "metadata": {
      "needs_background": "light"
     },
     "output_type": "display_data"
    }
   ],
   "source": [
    "tempos_h02.unstack(level=tipo_crossover).boxplot()"
   ]
  },
  {
   "cell_type": "code",
   "execution_count": 38,
   "metadata": {},
   "outputs": [
    {
     "data": {
      "text/plain": [
       "<matplotlib.axes._subplots.AxesSubplot at 0x27294a85bb0>"
      ]
     },
     "execution_count": 38,
     "metadata": {},
     "output_type": "execute_result"
    },
    {
     "data": {
      "image/png": "[encoded data removed]",
      "text/plain": [
       "<Figure size 432x288 with 1 Axes>"
      ]
     },
     "metadata": {
      "needs_background": "light"
     },
     "output_type": "display_data"
    }
   ],
   "source": [
    "tempos_h04.unstack(level=taxa_mutacao).boxplot()\n"
   ]
  },
  {
   "cell_type": "code",
   "execution_count": 39,
   "metadata": {},
   "outputs": [
    {
     "data": {
      "text/plain": [
       "<matplotlib.axes._subplots.AxesSubplot at 0x2729371c8b0>"
      ]
     },
     "execution_count": 39,
     "metadata": {},
     "output_type": "execute_result"
    },
    {
     "data": {
      "image/png": "[encoded data removed]",
      "text/plain": [
       "<Figure size 432x288 with 1 Axes>"
      ]
     },
     "metadata": {
      "needs_background": "light"
     },
     "output_type": "display_data"
    }
   ],
   "source": [
    "tempos_h04.unstack(level=taxa_elitismo).boxplot()\n"
   ]
  },
  {
   "cell_type": "code",
   "execution_count": 40,
   "metadata": {},
   "outputs": [
    {
     "data": {
      "text/plain": [
       "<matplotlib.axes._subplots.AxesSubplot at 0x27293565a90>"
      ]
     },
     "execution_count": 40,
     "metadata": {},
     "output_type": "execute_result"
    },
    {
     "data": {
      "image/png": "[encoded data removed]",
      "text/plain": [
       "<Figure size 432x288 with 1 Axes>"
      ]
     },
     "metadata": {
      "needs_background": "light"
     },
     "output_type": "display_data"
    }
   ],
   "source": [
    "tempos_h04.unstack(level=tipo_crossover).boxplot()"
   ]
  },
  {
   "cell_type": "code",
   "execution_count": 41,
   "metadata": {},
   "outputs": [
    {
     "data": {
      "text/plain": [
       "<matplotlib.axes._subplots.AxesSubplot at 0x27294c75130>"
      ]
     },
     "execution_count": 41,
     "metadata": {},
     "output_type": "execute_result"
    },
    {
     "data": {
      "image/png": "[encoded data removed]",
      "text/plain": [
       "<Figure size 432x288 with 1 Axes>"
      ]
     },
     "metadata": {
      "needs_background": "light"
     },
     "output_type": "display_data"
    }
   ],
   "source": [
    "tempos_h06.unstack(level=taxa_mutacao).boxplot()\n"
   ]
  },
  {
   "cell_type": "code",
   "execution_count": 42,
   "metadata": {},
   "outputs": [
    {
     "data": {
      "text/plain": [
       "<matplotlib.axes._subplots.AxesSubplot at 0x27294dcf310>"
      ]
     },
     "execution_count": 42,
     "metadata": {},
     "output_type": "execute_result"
    },
    {
     "data": {
      "image/png": "[encoded data removed]",
      "text/plain": [
       "<Figure size 432x288 with 1 Axes>"
      ]
     },
     "metadata": {
      "needs_background": "light"
     },
     "output_type": "display_data"
    }
   ],
   "source": [
    "tempos_h06.unstack(level=taxa_elitismo).boxplot()\n"
   ]
  },
  {
   "cell_type": "code",
   "execution_count": 43,
   "metadata": {},
   "outputs": [
    {
     "data": {
      "text/plain": [
       "<matplotlib.axes._subplots.AxesSubplot at 0x27294e489d0>"
      ]
     },
     "execution_count": 43,
     "metadata": {},
     "output_type": "execute_result"
    },
    {
     "data": {
      "image/png": "[encoded data removed]",
      "text/plain": [
       "<Figure size 432x288 with 1 Axes>"
      ]
     },
     "metadata": {
      "needs_background": "light"
     },
     "output_type": "display_data"
    }
   ],
   "source": [
    "tempos_h06.unstack(level=tipo_crossover).boxplot()"
   ]
  },
  {
   "cell_type": "code",
   "execution_count": 44,
   "metadata": {},
   "outputs": [
    {
     "data": {
      "text/plain": [
       "<matplotlib.axes._subplots.AxesSubplot at 0x27294ea2850>"
      ]
     },
     "execution_count": 44,
     "metadata": {},
     "output_type": "execute_result"
    },
    {
     "data": {
      "image/png": "[encoded data removed]",
      "text/plain": [
       "<Figure size 432x288 with 1 Axes>"
      ]
     },
     "metadata": {
      "needs_background": "light"
     },
     "output_type": "display_data"
    }
   ],
   "source": [
    "tempos_h08.unstack(level=taxa_mutacao).boxplot()\n"
   ]
  },
  {
   "cell_type": "code",
   "execution_count": 45,
   "metadata": {},
   "outputs": [
    {
     "data": {
      "text/plain": [
       "<matplotlib.axes._subplots.AxesSubplot at 0x27294fdf9d0>"
      ]
     },
     "execution_count": 45,
     "metadata": {},
     "output_type": "execute_result"
    },
    {
     "data": {
      "image/png": "[encoded data removed]",
      "text/plain": [
       "<Figure size 432x288 with 1 Axes>"
      ]
     },
     "metadata": {
      "needs_background": "light"
     },
     "output_type": "display_data"
    }
   ],
   "source": [
    "tempos_h08.unstack(level=taxa_elitismo).boxplot()\n"
   ]
  },
  {
   "cell_type": "code",
   "execution_count": 46,
   "metadata": {},
   "outputs": [
    {
     "data": {
      "text/plain": [
       "<matplotlib.axes._subplots.AxesSubplot at 0x27295068820>"
      ]
     },
     "execution_count": 46,
     "metadata": {},
     "output_type": "execute_result"
    },
    {
     "data": {
      "image/png": "[encoded data removed]",
      "text/plain": [
       "<Figure size 432x288 with 1 Axes>"
      ]
     },
     "metadata": {
      "needs_background": "light"
     },
     "output_type": "display_data"
    }
   ],
   "source": [
    "tempos_h08.unstack(level=tipo_crossover).boxplot()"
   ]
  },
  {
   "cell_type": "code",
   "execution_count": 47,
   "metadata": {},
   "outputs": [
    {
     "data": {
      "text/plain": [
       "10    3  0.010  0  0.35    7.930000e+02\n",
       "                   0.75    7.930000e+02\n",
       "                   1.00    7.930000e+02\n",
       "         0.100  0  0.35    7.930000e+02\n",
       "                   0.75    7.930000e+02\n",
       "                               ...     \n",
       "1000  7  0.001  0  0.75    6.574297e+06\n",
       "                   1.00    6.574297e+06\n",
       "         0.010  0  0.35    6.574297e+06\n",
       "                   0.75    6.574297e+06\n",
       "                   1.00    6.574297e+06\n",
       "Name: 0.8, Length: 126, dtype: float64"
      ]
     },
     "execution_count": 47,
     "metadata": {},
     "output_type": "execute_result"
    }
   ],
   "source": [
    "objs_h08"
   ]
  },
  {
   "cell_type": "code",
   "execution_count": null,
   "metadata": {},
   "outputs": [],
   "source": []
  },
  {
   "cell_type": "code",
   "execution_count": null,
   "metadata": {},
   "outputs": [],
   "source": []
  }
 ],
 "metadata": {
  "kernelspec": {
   "display_name": "Python 3",
   "language": "python",
   "name": "python3"
  },
  "language_info": {
   "codemirror_mode": {
    "name": "ipython",
    "version": 3
   },
   "file_extension": ".py",
   "mimetype": "text/x-python",
   "name": "python",
   "nbconvert_exporter": "python",
   "pygments_lexer": "ipython3",
   "version": "3.8.3"
  }
 },
 "nbformat": 4,
 "nbformat_minor": 4
}
