{
 "cells": [
  {
   "cell_type": "code",
   "execution_count": 1,
   "metadata": {},
   "outputs": [],
   "source": [
    "import pickle\n",
    "import numpy as np\n",
    "import pandas as pd\n",
    "import matplotlib.pyplot as plt\n",
    "%matplotlib inline"
   ]
  },
  {
   "cell_type": "code",
   "execution_count": 2,
   "metadata": {},
   "outputs": [],
   "source": [
    "lista_obj = []\n",
    "lista_tempos = []\n",
    "i = 'objetivos_GA 21 09 13 - 12 h 22 m.pkl'\n",
    "ii = 'tempos_pandas 21 09 13 - 12 h 22 m.pkl'\n",
    "with open(i, \"rb\") as infile:\n",
    "    dados1 = pickle.load(infile)\n",
    "    objetivos_pandas = pd.DataFrame(dados1)\n",
    "    objetivos_pandas.iloc[20]\n",
    "    objetivos_unstack = objetivos_pandas.iloc[20].unstack(level=-1)\n",
    "    objetivos_unstack\n",
    "    lista_obj.append(objetivos_unstack.transpose())\n",
    "\n",
    "\n",
    "with open(ii, \"rb\") as infile:\n",
    "    tempos1 = pickle.load(infile) \n",
    "    tempos_pandas = pd.Series(tempos1)\n",
    "    tempos_unstack = tempos_pandas.unstack(level=-1)\n",
    "    lista_tempos.append(tempos_unstack.transpose())      "
   ]
  },
  {
   "cell_type": "code",
   "execution_count": 3,
   "metadata": {},
   "outputs": [],
   "source": [
    "\n",
    "\n",
    "\n",
    "objetivos_pandas = pd.concat(lista_obj)\n",
    "tempos_pandas = pd.concat(lista_tempos)"
   ]
  },
  {
   "cell_type": "code",
   "execution_count": null,
   "metadata": {},
   "outputs": [],
   "source": []
  },
  {
   "cell_type": "code",
   "execution_count": 4,
   "metadata": {},
   "outputs": [],
   "source": [
    "conjuntos = [10,20,50,100,200,500,1000]\n",
    "problemas = list(range(1,10))\n",
    "lista_hs = [0.2,0.4,0.6,0.8]\n",
    "lista_crossover = [0 , 1]\n",
    "lista_elitismo = [0.35 , 0.75 , 1]\n",
    "lista_so_filho_mutante = [0 , 1]\n",
    "lista_taxa_mutacao = [0.2 , 1 , 5]"
   ]
  },
  {
   "cell_type": "code",
   "execution_count": 5,
   "metadata": {},
   "outputs": [
    {
     "data": {
      "text/html": [
       "<div>\n",
       "<style scoped>\n",
       "    .dataframe tbody tr th:only-of-type {\n",
       "        vertical-align: middle;\n",
       "    }\n",
       "\n",
       "    .dataframe tbody tr th {\n",
       "        vertical-align: top;\n",
       "    }\n",
       "\n",
       "    .dataframe thead tr th {\n",
       "        text-align: left;\n",
       "    }\n",
       "</style>\n",
       "<table border=\"1\" class=\"dataframe\">\n",
       "  <thead>\n",
       "    <tr>\n",
       "      <th></th>\n",
       "      <th colspan=\"10\" halign=\"left\">10</th>\n",
       "      <th>...</th>\n",
       "      <th colspan=\"10\" halign=\"left\">1000</th>\n",
       "    </tr>\n",
       "    <tr>\n",
       "      <th></th>\n",
       "      <th colspan=\"10\" halign=\"left\">0.2</th>\n",
       "      <th>...</th>\n",
       "      <th colspan=\"10\" halign=\"left\">0.8</th>\n",
       "    </tr>\n",
       "    <tr>\n",
       "      <th></th>\n",
       "      <th colspan=\"9\" halign=\"left\">3</th>\n",
       "      <th>7</th>\n",
       "      <th>...</th>\n",
       "      <th>3</th>\n",
       "      <th colspan=\"9\" halign=\"left\">7</th>\n",
       "    </tr>\n",
       "    <tr>\n",
       "      <th></th>\n",
       "      <th colspan=\"3\" halign=\"left\">0.5</th>\n",
       "      <th colspan=\"3\" halign=\"left\">1.0</th>\n",
       "      <th colspan=\"3\" halign=\"left\">5.0</th>\n",
       "      <th>0.5</th>\n",
       "      <th>...</th>\n",
       "      <th>5.0</th>\n",
       "      <th colspan=\"3\" halign=\"left\">0.5</th>\n",
       "      <th colspan=\"3\" halign=\"left\">1.0</th>\n",
       "      <th colspan=\"3\" halign=\"left\">5.0</th>\n",
       "    </tr>\n",
       "    <tr>\n",
       "      <th></th>\n",
       "      <th colspan=\"3\" halign=\"left\">0</th>\n",
       "      <th colspan=\"3\" halign=\"left\">0</th>\n",
       "      <th colspan=\"3\" halign=\"left\">0</th>\n",
       "      <th>0</th>\n",
       "      <th>...</th>\n",
       "      <th>0</th>\n",
       "      <th colspan=\"3\" halign=\"left\">0</th>\n",
       "      <th colspan=\"3\" halign=\"left\">0</th>\n",
       "      <th colspan=\"3\" halign=\"left\">0</th>\n",
       "    </tr>\n",
       "    <tr>\n",
       "      <th></th>\n",
       "      <th>0.35</th>\n",
       "      <th>0.75</th>\n",
       "      <th>1.00</th>\n",
       "      <th>0.35</th>\n",
       "      <th>0.75</th>\n",
       "      <th>1.00</th>\n",
       "      <th>0.35</th>\n",
       "      <th>0.75</th>\n",
       "      <th>1.00</th>\n",
       "      <th>0.35</th>\n",
       "      <th>...</th>\n",
       "      <th>1.00</th>\n",
       "      <th>0.35</th>\n",
       "      <th>0.75</th>\n",
       "      <th>1.00</th>\n",
       "      <th>0.35</th>\n",
       "      <th>0.75</th>\n",
       "      <th>1.00</th>\n",
       "      <th>0.35</th>\n",
       "      <th>0.75</th>\n",
       "      <th>1.00</th>\n",
       "    </tr>\n",
       "  </thead>\n",
       "  <tbody>\n",
       "    <tr>\n",
       "      <th>0</th>\n",
       "      <td>1586.0</td>\n",
       "      <td>1586.0</td>\n",
       "      <td>1586.0</td>\n",
       "      <td>1586.0</td>\n",
       "      <td>1586.0</td>\n",
       "      <td>1586.0</td>\n",
       "      <td>1586.0</td>\n",
       "      <td>1586.0</td>\n",
       "      <td>1586.0</td>\n",
       "      <td>2179.0</td>\n",
       "      <td>...</td>\n",
       "      <td>5983303.0</td>\n",
       "      <td>6574297.0</td>\n",
       "      <td>6574297.0</td>\n",
       "      <td>6574297.0</td>\n",
       "      <td>6574297.0</td>\n",
       "      <td>6574297.0</td>\n",
       "      <td>6574297.0</td>\n",
       "      <td>6574297.0</td>\n",
       "      <td>6574297.0</td>\n",
       "      <td>6574297.0</td>\n",
       "    </tr>\n",
       "    <tr>\n",
       "      <th>1</th>\n",
       "      <td>1586.0</td>\n",
       "      <td>1586.0</td>\n",
       "      <td>1586.0</td>\n",
       "      <td>1586.0</td>\n",
       "      <td>1586.0</td>\n",
       "      <td>1586.0</td>\n",
       "      <td>1586.0</td>\n",
       "      <td>1586.0</td>\n",
       "      <td>1586.0</td>\n",
       "      <td>2179.0</td>\n",
       "      <td>...</td>\n",
       "      <td>5983303.0</td>\n",
       "      <td>6574297.0</td>\n",
       "      <td>6574297.0</td>\n",
       "      <td>6574297.0</td>\n",
       "      <td>6574297.0</td>\n",
       "      <td>6574297.0</td>\n",
       "      <td>6574297.0</td>\n",
       "      <td>6574297.0</td>\n",
       "      <td>6574297.0</td>\n",
       "      <td>6574297.0</td>\n",
       "    </tr>\n",
       "    <tr>\n",
       "      <th>2</th>\n",
       "      <td>1586.0</td>\n",
       "      <td>1586.0</td>\n",
       "      <td>1586.0</td>\n",
       "      <td>1586.0</td>\n",
       "      <td>1586.0</td>\n",
       "      <td>1586.0</td>\n",
       "      <td>1586.0</td>\n",
       "      <td>1586.0</td>\n",
       "      <td>1586.0</td>\n",
       "      <td>2179.0</td>\n",
       "      <td>...</td>\n",
       "      <td>5983303.0</td>\n",
       "      <td>6574298.0</td>\n",
       "      <td>6574297.0</td>\n",
       "      <td>6574297.0</td>\n",
       "      <td>6574297.0</td>\n",
       "      <td>6574297.0</td>\n",
       "      <td>6574297.0</td>\n",
       "      <td>6574297.0</td>\n",
       "      <td>6574297.0</td>\n",
       "      <td>6574297.0</td>\n",
       "    </tr>\n",
       "  </tbody>\n",
       "</table>\n",
       "<p>3 rows × 504 columns</p>\n",
       "</div>"
      ],
      "text/plain": [
       "     10                                                                    \\\n",
       "      0.2                                                                   \n",
       "        3                                                                   \n",
       "      0.5                     1.0                     5.0                   \n",
       "        0                       0                       0                   \n",
       "     0.35    0.75    1.00    0.35    0.75    1.00    0.35    0.75    1.00   \n",
       "0  1586.0  1586.0  1586.0  1586.0  1586.0  1586.0  1586.0  1586.0  1586.0   \n",
       "1  1586.0  1586.0  1586.0  1586.0  1586.0  1586.0  1586.0  1586.0  1586.0   \n",
       "2  1586.0  1586.0  1586.0  1586.0  1586.0  1586.0  1586.0  1586.0  1586.0   \n",
       "\n",
       "           ...       1000                                              \\\n",
       "           ...        0.8                                               \n",
       "        7  ...          3          7                                    \n",
       "      0.5  ...        5.0        0.5                              1.0   \n",
       "        0  ...          0          0                                0   \n",
       "     0.35  ...       1.00       0.35       0.75       1.00       0.35   \n",
       "0  2179.0  ...  5983303.0  6574297.0  6574297.0  6574297.0  6574297.0   \n",
       "1  2179.0  ...  5983303.0  6574297.0  6574297.0  6574297.0  6574297.0   \n",
       "2  2179.0  ...  5983303.0  6574298.0  6574297.0  6574297.0  6574297.0   \n",
       "\n",
       "                                                          \n",
       "                                                          \n",
       "                                                          \n",
       "                               5.0                        \n",
       "                                 0                        \n",
       "        0.75       1.00       0.35       0.75       1.00  \n",
       "0  6574297.0  6574297.0  6574297.0  6574297.0  6574297.0  \n",
       "1  6574297.0  6574297.0  6574297.0  6574297.0  6574297.0  \n",
       "2  6574297.0  6574297.0  6574297.0  6574297.0  6574297.0  \n",
       "\n",
       "[3 rows x 504 columns]"
      ]
     },
     "execution_count": 5,
     "metadata": {},
     "output_type": "execute_result"
    }
   ],
   "source": [
    "objetivos_pandas"
   ]
  },
  {
   "cell_type": "code",
   "execution_count": 6,
   "metadata": {},
   "outputs": [
    {
     "data": {
      "text/html": [
       "<div>\n",
       "<style scoped>\n",
       "    .dataframe tbody tr th:only-of-type {\n",
       "        vertical-align: middle;\n",
       "    }\n",
       "\n",
       "    .dataframe tbody tr th {\n",
       "        vertical-align: top;\n",
       "    }\n",
       "\n",
       "    .dataframe thead tr th {\n",
       "        text-align: left;\n",
       "    }\n",
       "</style>\n",
       "<table border=\"1\" class=\"dataframe\">\n",
       "  <thead>\n",
       "    <tr>\n",
       "      <th></th>\n",
       "      <th colspan=\"10\" halign=\"left\">10</th>\n",
       "      <th>...</th>\n",
       "      <th colspan=\"10\" halign=\"left\">1000</th>\n",
       "    </tr>\n",
       "    <tr>\n",
       "      <th></th>\n",
       "      <th colspan=\"10\" halign=\"left\">0.2</th>\n",
       "      <th>...</th>\n",
       "      <th colspan=\"10\" halign=\"left\">0.8</th>\n",
       "    </tr>\n",
       "    <tr>\n",
       "      <th></th>\n",
       "      <th colspan=\"9\" halign=\"left\">3</th>\n",
       "      <th>7</th>\n",
       "      <th>...</th>\n",
       "      <th>3</th>\n",
       "      <th colspan=\"9\" halign=\"left\">7</th>\n",
       "    </tr>\n",
       "    <tr>\n",
       "      <th></th>\n",
       "      <th colspan=\"3\" halign=\"left\">0.5</th>\n",
       "      <th colspan=\"3\" halign=\"left\">1.0</th>\n",
       "      <th colspan=\"3\" halign=\"left\">5.0</th>\n",
       "      <th>0.5</th>\n",
       "      <th>...</th>\n",
       "      <th>5.0</th>\n",
       "      <th colspan=\"3\" halign=\"left\">0.5</th>\n",
       "      <th colspan=\"3\" halign=\"left\">1.0</th>\n",
       "      <th colspan=\"3\" halign=\"left\">5.0</th>\n",
       "    </tr>\n",
       "    <tr>\n",
       "      <th></th>\n",
       "      <th colspan=\"3\" halign=\"left\">0</th>\n",
       "      <th colspan=\"3\" halign=\"left\">0</th>\n",
       "      <th colspan=\"3\" halign=\"left\">0</th>\n",
       "      <th>0</th>\n",
       "      <th>...</th>\n",
       "      <th>0</th>\n",
       "      <th colspan=\"3\" halign=\"left\">0</th>\n",
       "      <th colspan=\"3\" halign=\"left\">0</th>\n",
       "      <th colspan=\"3\" halign=\"left\">0</th>\n",
       "    </tr>\n",
       "    <tr>\n",
       "      <th></th>\n",
       "      <th>0.35</th>\n",
       "      <th>0.75</th>\n",
       "      <th>1.00</th>\n",
       "      <th>0.35</th>\n",
       "      <th>0.75</th>\n",
       "      <th>1.00</th>\n",
       "      <th>0.35</th>\n",
       "      <th>0.75</th>\n",
       "      <th>1.00</th>\n",
       "      <th>0.35</th>\n",
       "      <th>...</th>\n",
       "      <th>1.00</th>\n",
       "      <th>0.35</th>\n",
       "      <th>0.75</th>\n",
       "      <th>1.00</th>\n",
       "      <th>0.35</th>\n",
       "      <th>0.75</th>\n",
       "      <th>1.00</th>\n",
       "      <th>0.35</th>\n",
       "      <th>0.75</th>\n",
       "      <th>1.00</th>\n",
       "    </tr>\n",
       "  </thead>\n",
       "  <tbody>\n",
       "    <tr>\n",
       "      <th>0</th>\n",
       "      <td>8.087289</td>\n",
       "      <td>8.819545</td>\n",
       "      <td>7.959758</td>\n",
       "      <td>8.251042</td>\n",
       "      <td>8.646453</td>\n",
       "      <td>8.484449</td>\n",
       "      <td>9.036873</td>\n",
       "      <td>9.377928</td>\n",
       "      <td>9.193418</td>\n",
       "      <td>8.129876</td>\n",
       "      <td>...</td>\n",
       "      <td>94.829272</td>\n",
       "      <td>109.608991</td>\n",
       "      <td>97.400646</td>\n",
       "      <td>87.405366</td>\n",
       "      <td>111.240393</td>\n",
       "      <td>100.665841</td>\n",
       "      <td>92.870295</td>\n",
       "      <td>109.320842</td>\n",
       "      <td>103.990991</td>\n",
       "      <td>98.895737</td>\n",
       "    </tr>\n",
       "    <tr>\n",
       "      <th>1</th>\n",
       "      <td>8.147754</td>\n",
       "      <td>8.338057</td>\n",
       "      <td>7.986673</td>\n",
       "      <td>8.630420</td>\n",
       "      <td>8.661855</td>\n",
       "      <td>8.403635</td>\n",
       "      <td>8.945962</td>\n",
       "      <td>9.425799</td>\n",
       "      <td>9.288202</td>\n",
       "      <td>8.153721</td>\n",
       "      <td>...</td>\n",
       "      <td>93.329752</td>\n",
       "      <td>111.897738</td>\n",
       "      <td>98.456557</td>\n",
       "      <td>86.363160</td>\n",
       "      <td>108.515037</td>\n",
       "      <td>100.055622</td>\n",
       "      <td>92.545840</td>\n",
       "      <td>110.295202</td>\n",
       "      <td>103.944174</td>\n",
       "      <td>93.789985</td>\n",
       "    </tr>\n",
       "    <tr>\n",
       "      <th>2</th>\n",
       "      <td>7.766241</td>\n",
       "      <td>8.382555</td>\n",
       "      <td>8.027539</td>\n",
       "      <td>8.004869</td>\n",
       "      <td>8.985975</td>\n",
       "      <td>8.775541</td>\n",
       "      <td>8.981991</td>\n",
       "      <td>9.375970</td>\n",
       "      <td>9.185478</td>\n",
       "      <td>7.883921</td>\n",
       "      <td>...</td>\n",
       "      <td>92.470090</td>\n",
       "      <td>111.014138</td>\n",
       "      <td>99.661597</td>\n",
       "      <td>87.036361</td>\n",
       "      <td>108.074039</td>\n",
       "      <td>100.430517</td>\n",
       "      <td>91.199651</td>\n",
       "      <td>109.189238</td>\n",
       "      <td>104.130620</td>\n",
       "      <td>93.292782</td>\n",
       "    </tr>\n",
       "  </tbody>\n",
       "</table>\n",
       "<p>3 rows × 504 columns</p>\n",
       "</div>"
      ],
      "text/plain": [
       "       10                                                                \\\n",
       "        0.2                                                               \n",
       "          3                                                               \n",
       "        0.5                           1.0                           5.0   \n",
       "          0                             0                             0   \n",
       "       0.35      0.75      1.00      0.35      0.75      1.00      0.35   \n",
       "0  8.087289  8.819545  7.959758  8.251042  8.646453  8.484449  9.036873   \n",
       "1  8.147754  8.338057  7.986673  8.630420  8.661855  8.403635  8.945962   \n",
       "2  7.766241  8.382555  8.027539  8.004869  8.985975  8.775541  8.981991   \n",
       "\n",
       "                                 ...       1000                         \\\n",
       "                                 ...        0.8                          \n",
       "                              7  ...          3           7              \n",
       "                            0.5  ...        5.0         0.5              \n",
       "                              0  ...          0           0              \n",
       "       0.75      1.00      0.35  ...       1.00        0.35       0.75   \n",
       "0  9.377928  9.193418  8.129876  ...  94.829272  109.608991  97.400646   \n",
       "1  9.425799  9.288202  8.153721  ...  93.329752  111.897738  98.456557   \n",
       "2  9.375970  9.185478  7.883921  ...  92.470090  111.014138  99.661597   \n",
       "\n",
       "                                                                         \\\n",
       "                                                                          \n",
       "                                                                          \n",
       "                     1.0                                5.0               \n",
       "                       0                                  0               \n",
       "        1.00        0.35        0.75       1.00        0.35        0.75   \n",
       "0  87.405366  111.240393  100.665841  92.870295  109.320842  103.990991   \n",
       "1  86.363160  108.515037  100.055622  92.545840  110.295202  103.944174   \n",
       "2  87.036361  108.074039  100.430517  91.199651  109.189238  104.130620   \n",
       "\n",
       "              \n",
       "              \n",
       "              \n",
       "              \n",
       "              \n",
       "        1.00  \n",
       "0  98.895737  \n",
       "1  93.789985  \n",
       "2  93.292782  \n",
       "\n",
       "[3 rows x 504 columns]"
      ]
     },
     "execution_count": 6,
     "metadata": {},
     "output_type": "execute_result"
    }
   ],
   "source": [
    "tempos_pandas"
   ]
  },
  {
   "cell_type": "code",
   "execution_count": 7,
   "metadata": {},
   "outputs": [],
   "source": [
    "taxa_elitismo = 0.75\n",
    "usa_coliseu = 0\n",
    "taxa_mutacao = 1\n",
    "    \n",
    "    \n",
    "    \n"
   ]
  },
  {
   "cell_type": "code",
   "execution_count": 8,
   "metadata": {},
   "outputs": [],
   "source": [
    "objetivos_medios = objetivos_pandas.mean()\n",
    "taxa_elitismo = -1\n",
    "tipo_crossover = -2\n",
    "taxa_mutacao = -3\n"
   ]
  },
  {
   "cell_type": "code",
   "execution_count": 9,
   "metadata": {},
   "outputs": [
    {
     "data": {
      "text/plain": [
       "<matplotlib.axes._subplots.AxesSubplot at 0x173d0ccae80>"
      ]
     },
     "execution_count": 9,
     "metadata": {},
     "output_type": "execute_result"
    },
    {
     "data": {
      "image/png": "[encoded data removed]",
      "text/plain": [
       "<Figure size 432x288 with 1 Axes>"
      ]
     },
     "metadata": {
      "needs_background": "light"
     },
     "output_type": "display_data"
    }
   ],
   "source": [
    "objetivos_medios.unstack(level=taxa_elitismo).boxplot()"
   ]
  },
  {
   "cell_type": "code",
   "execution_count": 10,
   "metadata": {},
   "outputs": [
    {
     "data": {
      "text/plain": [
       "<matplotlib.axes._subplots.AxesSubplot at 0x173d1454ca0>"
      ]
     },
     "execution_count": 10,
     "metadata": {},
     "output_type": "execute_result"
    },
    {
     "data": {
      "image/png": "[encoded data removed]",
      "text/plain": [
       "<Figure size 432x288 with 1 Axes>"
      ]
     },
     "metadata": {
      "needs_background": "light"
     },
     "output_type": "display_data"
    }
   ],
   "source": [
    "objetivos_medios.unstack(level=tipo_crossover).boxplot()"
   ]
  },
  {
   "cell_type": "code",
   "execution_count": 11,
   "metadata": {},
   "outputs": [
    {
     "data": {
      "text/plain": [
       "<matplotlib.axes._subplots.AxesSubplot at 0x173d14bde20>"
      ]
     },
     "execution_count": 11,
     "metadata": {},
     "output_type": "execute_result"
    },
    {
     "data": {
      "image/png": "[encoded data removed]",
      "text/plain": [
       "<Figure size 432x288 with 1 Axes>"
      ]
     },
     "metadata": {
      "needs_background": "light"
     },
     "output_type": "display_data"
    }
   ],
   "source": [
    "objetivos_medios.unstack(level=taxa_mutacao).boxplot()"
   ]
  },
  {
   "cell_type": "code",
   "execution_count": 12,
   "metadata": {},
   "outputs": [
    {
     "data": {
      "text/html": [
       "<div>\n",
       "<style scoped>\n",
       "    .dataframe tbody tr th:only-of-type {\n",
       "        vertical-align: middle;\n",
       "    }\n",
       "\n",
       "    .dataframe tbody tr th {\n",
       "        vertical-align: top;\n",
       "    }\n",
       "\n",
       "    .dataframe thead th {\n",
       "        text-align: right;\n",
       "    }\n",
       "</style>\n",
       "<table border=\"1\" class=\"dataframe\">\n",
       "  <thead>\n",
       "    <tr style=\"text-align: right;\">\n",
       "      <th></th>\n",
       "      <th></th>\n",
       "      <th></th>\n",
       "      <th></th>\n",
       "      <th></th>\n",
       "      <th>0.5</th>\n",
       "      <th>1.0</th>\n",
       "      <th>5.0</th>\n",
       "    </tr>\n",
       "  </thead>\n",
       "  <tbody>\n",
       "    <tr>\n",
       "      <th rowspan=\"5\" valign=\"top\">10</th>\n",
       "      <th rowspan=\"5\" valign=\"top\">0.2</th>\n",
       "      <th rowspan=\"3\" valign=\"top\">3</th>\n",
       "      <th rowspan=\"3\" valign=\"top\">0</th>\n",
       "      <th>0.35</th>\n",
       "      <td>1.586000e+03</td>\n",
       "      <td>1586.0</td>\n",
       "      <td>1586.0</td>\n",
       "    </tr>\n",
       "    <tr>\n",
       "      <th>0.75</th>\n",
       "      <td>1.586000e+03</td>\n",
       "      <td>1586.0</td>\n",
       "      <td>1586.0</td>\n",
       "    </tr>\n",
       "    <tr>\n",
       "      <th>1.00</th>\n",
       "      <td>1.586000e+03</td>\n",
       "      <td>1586.0</td>\n",
       "      <td>1586.0</td>\n",
       "    </tr>\n",
       "    <tr>\n",
       "      <th rowspan=\"2\" valign=\"top\">7</th>\n",
       "      <th rowspan=\"2\" valign=\"top\">0</th>\n",
       "      <th>0.35</th>\n",
       "      <td>2.179000e+03</td>\n",
       "      <td>2179.0</td>\n",
       "      <td>2179.0</td>\n",
       "    </tr>\n",
       "    <tr>\n",
       "      <th>0.75</th>\n",
       "      <td>2.179000e+03</td>\n",
       "      <td>2179.0</td>\n",
       "      <td>2179.0</td>\n",
       "    </tr>\n",
       "    <tr>\n",
       "      <th>...</th>\n",
       "      <th>...</th>\n",
       "      <th>...</th>\n",
       "      <th>...</th>\n",
       "      <th>...</th>\n",
       "      <td>...</td>\n",
       "      <td>...</td>\n",
       "      <td>...</td>\n",
       "    </tr>\n",
       "    <tr>\n",
       "      <th rowspan=\"5\" valign=\"top\">1000</th>\n",
       "      <th rowspan=\"5\" valign=\"top\">0.8</th>\n",
       "      <th rowspan=\"2\" valign=\"top\">3</th>\n",
       "      <th rowspan=\"2\" valign=\"top\">0</th>\n",
       "      <th>0.75</th>\n",
       "      <td>5.983304e+06</td>\n",
       "      <td>5983304.0</td>\n",
       "      <td>5983303.0</td>\n",
       "    </tr>\n",
       "    <tr>\n",
       "      <th>1.00</th>\n",
       "      <td>5.983303e+06</td>\n",
       "      <td>5983303.0</td>\n",
       "      <td>5983303.0</td>\n",
       "    </tr>\n",
       "    <tr>\n",
       "      <th rowspan=\"3\" valign=\"top\">7</th>\n",
       "      <th rowspan=\"3\" valign=\"top\">0</th>\n",
       "      <th>0.35</th>\n",
       "      <td>6.574297e+06</td>\n",
       "      <td>6574297.0</td>\n",
       "      <td>6574297.0</td>\n",
       "    </tr>\n",
       "    <tr>\n",
       "      <th>0.75</th>\n",
       "      <td>6.574297e+06</td>\n",
       "      <td>6574297.0</td>\n",
       "      <td>6574297.0</td>\n",
       "    </tr>\n",
       "    <tr>\n",
       "      <th>1.00</th>\n",
       "      <td>6.574297e+06</td>\n",
       "      <td>6574297.0</td>\n",
       "      <td>6574297.0</td>\n",
       "    </tr>\n",
       "  </tbody>\n",
       "</table>\n",
       "<p>168 rows × 3 columns</p>\n",
       "</div>"
      ],
      "text/plain": [
       "                            0.5        1.0        5.0\n",
       "10   0.2 3 0 0.35  1.586000e+03     1586.0     1586.0\n",
       "             0.75  1.586000e+03     1586.0     1586.0\n",
       "             1.00  1.586000e+03     1586.0     1586.0\n",
       "         7 0 0.35  2.179000e+03     2179.0     2179.0\n",
       "             0.75  2.179000e+03     2179.0     2179.0\n",
       "...                         ...        ...        ...\n",
       "1000 0.8 3 0 0.75  5.983304e+06  5983304.0  5983303.0\n",
       "             1.00  5.983303e+06  5983303.0  5983303.0\n",
       "         7 0 0.35  6.574297e+06  6574297.0  6574297.0\n",
       "             0.75  6.574297e+06  6574297.0  6574297.0\n",
       "             1.00  6.574297e+06  6574297.0  6574297.0\n",
       "\n",
       "[168 rows x 3 columns]"
      ]
     },
     "execution_count": 12,
     "metadata": {},
     "output_type": "execute_result"
    }
   ],
   "source": [
    "objetivos_medios.unstack(level=taxa_mutacao)"
   ]
  },
  {
   "cell_type": "code",
   "execution_count": null,
   "metadata": {},
   "outputs": [],
   "source": []
  },
  {
   "cell_type": "code",
   "execution_count": null,
   "metadata": {},
   "outputs": [],
   "source": []
  },
  {
   "cell_type": "code",
   "execution_count": 13,
   "metadata": {},
   "outputs": [],
   "source": [
    "tempos_medios = tempos_pandas.mean()"
   ]
  },
  {
   "cell_type": "code",
   "execution_count": 14,
   "metadata": {},
   "outputs": [
    {
     "data": {
      "text/plain": [
       "<matplotlib.axes._subplots.AxesSubplot at 0x173d1528970>"
      ]
     },
     "execution_count": 14,
     "metadata": {},
     "output_type": "execute_result"
    },
    {
     "data": {
      "image/png": "[encoded data removed]",
      "text/plain": [
       "<Figure size 432x288 with 1 Axes>"
      ]
     },
     "metadata": {
      "needs_background": "light"
     },
     "output_type": "display_data"
    }
   ],
   "source": [
    "tempos_medios.unstack(level=taxa_elitismo).boxplot()"
   ]
  },
  {
   "cell_type": "code",
   "execution_count": 15,
   "metadata": {},
   "outputs": [
    {
     "data": {
      "text/plain": [
       "<matplotlib.axes._subplots.AxesSubplot at 0x173d15c8370>"
      ]
     },
     "execution_count": 15,
     "metadata": {},
     "output_type": "execute_result"
    },
    {
     "data": {
      "image/png": "[encoded data removed]",
      "text/plain": [
       "<Figure size 432x288 with 1 Axes>"
      ]
     },
     "metadata": {
      "needs_background": "light"
     },
     "output_type": "display_data"
    }
   ],
   "source": [
    "tempos_medios.unstack(level=tipo_crossover).boxplot()"
   ]
  },
  {
   "cell_type": "code",
   "execution_count": 16,
   "metadata": {},
   "outputs": [
    {
     "data": {
      "text/plain": [
       "<matplotlib.axes._subplots.AxesSubplot at 0x173d15c88b0>"
      ]
     },
     "execution_count": 16,
     "metadata": {},
     "output_type": "execute_result"
    },
    {
     "data": {
      "image/png": "[encoded data removed]",
      "text/plain": [
       "<Figure size 432x288 with 1 Axes>"
      ]
     },
     "metadata": {
      "needs_background": "light"
     },
     "output_type": "display_data"
    }
   ],
   "source": [
    "tempos_medios.unstack(level=taxa_mutacao).boxplot()"
   ]
  },
  {
   "cell_type": "code",
   "execution_count": 17,
   "metadata": {},
   "outputs": [],
   "source": [
    "objs_por_h = objetivos_medios.unstack(level=-5)\n",
    "tempos_por_h = tempos_medios.unstack(level=-5)"
   ]
  },
  {
   "cell_type": "code",
   "execution_count": 18,
   "metadata": {},
   "outputs": [
    {
     "data": {
      "text/plain": [
       "<matplotlib.axes._subplots.AxesSubplot at 0x173d1649790>"
      ]
     },
     "execution_count": 18,
     "metadata": {},
     "output_type": "execute_result"
    },
    {
     "data": {
      "image/png": "[encoded data removed]",
      "text/plain": [
       "<Figure size 432x288 with 1 Axes>"
      ]
     },
     "metadata": {
      "needs_background": "light"
     },
     "output_type": "display_data"
    }
   ],
   "source": [
    "objs_por_h.unstack(level=taxa_mutacao).boxplot()"
   ]
  },
  {
   "cell_type": "code",
   "execution_count": 19,
   "metadata": {},
   "outputs": [
    {
     "data": {
      "text/plain": [
       "<matplotlib.axes._subplots.AxesSubplot at 0x173d17a60d0>"
      ]
     },
     "execution_count": 19,
     "metadata": {},
     "output_type": "execute_result"
    },
    {
     "data": {
      "image/png": "[encoded data removed]",
      "text/plain": [
       "<Figure size 432x288 with 1 Axes>"
      ]
     },
     "metadata": {
      "needs_background": "light"
     },
     "output_type": "display_data"
    }
   ],
   "source": [
    "tempos_por_h.unstack(level=taxa_mutacao).boxplot()"
   ]
  },
  {
   "cell_type": "code",
   "execution_count": 20,
   "metadata": {},
   "outputs": [],
   "source": [
    "tempos_h02 = tempos_por_h.transpose().iloc[0]\n",
    "tempos_h04 = tempos_por_h.transpose().iloc[1]\n",
    "tempos_h06 = tempos_por_h.transpose().iloc[2]\n",
    "tempos_h08 = tempos_por_h.transpose().iloc[3]\n",
    "objs_h02 = objs_por_h.transpose().iloc[0]\n",
    "objs_h04 = objs_por_h.transpose().iloc[1]\n",
    "objs_h06 = objs_por_h.transpose().iloc[2]\n",
    "objs_h08 = objs_por_h.transpose().iloc[3]"
   ]
  },
  {
   "cell_type": "code",
   "execution_count": 21,
   "metadata": {},
   "outputs": [
    {
     "data": {
      "text/plain": [
       "<matplotlib.axes._subplots.AxesSubplot at 0x173d28b94f0>"
      ]
     },
     "execution_count": 21,
     "metadata": {},
     "output_type": "execute_result"
    },
    {
     "data": {
      "image/png": "[encoded data removed]",
      "text/plain": [
       "<Figure size 432x288 with 1 Axes>"
      ]
     },
     "metadata": {
      "needs_background": "light"
     },
     "output_type": "display_data"
    }
   ],
   "source": [
    "objs_h04.unstack(level=taxa_mutacao).boxplot()"
   ]
  },
  {
   "cell_type": "code",
   "execution_count": 22,
   "metadata": {},
   "outputs": [
    {
     "data": {
      "text/plain": [
       "<matplotlib.axes._subplots.AxesSubplot at 0x173d294dd90>"
      ]
     },
     "execution_count": 22,
     "metadata": {},
     "output_type": "execute_result"
    },
    {
     "data": {
      "image/png": "[encoded data removed]",
      "text/plain": [
       "<Figure size 432x288 with 1 Axes>"
      ]
     },
     "metadata": {
      "needs_background": "light"
     },
     "output_type": "display_data"
    }
   ],
   "source": [
    "objs_h04.unstack(level=tipo_crossover).boxplot()"
   ]
  },
  {
   "cell_type": "code",
   "execution_count": 23,
   "metadata": {},
   "outputs": [
    {
     "data": {
      "text/plain": [
       "<matplotlib.axes._subplots.AxesSubplot at 0x173d0cca9a0>"
      ]
     },
     "execution_count": 23,
     "metadata": {},
     "output_type": "execute_result"
    },
    {
     "data": {
      "image/png": "[encoded data removed]",
      "text/plain": [
       "<Figure size 432x288 with 1 Axes>"
      ]
     },
     "metadata": {
      "needs_background": "light"
     },
     "output_type": "display_data"
    }
   ],
   "source": [
    "objs_h04.unstack(level=taxa_elitismo).boxplot()"
   ]
  },
  {
   "cell_type": "code",
   "execution_count": 24,
   "metadata": {},
   "outputs": [
    {
     "data": {
      "text/plain": [
       "<matplotlib.axes._subplots.AxesSubplot at 0x173d2a18bb0>"
      ]
     },
     "execution_count": 24,
     "metadata": {},
     "output_type": "execute_result"
    },
    {
     "data": {
      "image/png": "[encoded data removed]",
      "text/plain": [
       "<Figure size 432x288 with 1 Axes>"
      ]
     },
     "metadata": {
      "needs_background": "light"
     },
     "output_type": "display_data"
    }
   ],
   "source": [
    "objs_h06.unstack(level=taxa_mutacao).boxplot()"
   ]
  },
  {
   "cell_type": "code",
   "execution_count": 25,
   "metadata": {},
   "outputs": [
    {
     "data": {
      "text/plain": [
       "<matplotlib.axes._subplots.AxesSubplot at 0x173d2ab8ac0>"
      ]
     },
     "execution_count": 25,
     "metadata": {},
     "output_type": "execute_result"
    },
    {
     "data": {
      "image/png": "[encoded data removed]",
      "text/plain": [
       "<Figure size 432x288 with 1 Axes>"
      ]
     },
     "metadata": {
      "needs_background": "light"
     },
     "output_type": "display_data"
    }
   ],
   "source": [
    "objs_h06.unstack(level=tipo_crossover).boxplot()"
   ]
  },
  {
   "cell_type": "code",
   "execution_count": 26,
   "metadata": {},
   "outputs": [
    {
     "data": {
      "text/plain": [
       "<matplotlib.axes._subplots.AxesSubplot at 0x173d2b13a30>"
      ]
     },
     "execution_count": 26,
     "metadata": {},
     "output_type": "execute_result"
    },
    {
     "data": {
      "image/png": "[encoded data removed]",
      "text/plain": [
       "<Figure size 432x288 with 1 Axes>"
      ]
     },
     "metadata": {
      "needs_background": "light"
     },
     "output_type": "display_data"
    }
   ],
   "source": [
    "objs_h06.unstack(level=taxa_elitismo).boxplot()"
   ]
  },
  {
   "cell_type": "code",
   "execution_count": 27,
   "metadata": {},
   "outputs": [
    {
     "data": {
      "text/plain": [
       "<matplotlib.axes._subplots.AxesSubplot at 0x173d280ce80>"
      ]
     },
     "execution_count": 27,
     "metadata": {},
     "output_type": "execute_result"
    },
    {
     "data": {
      "image/png": "[encoded data removed]",
      "text/plain": [
       "<Figure size 432x288 with 1 Axes>"
      ]
     },
     "metadata": {
      "needs_background": "light"
     },
     "output_type": "display_data"
    }
   ],
   "source": [
    "objs_h02.unstack(level=taxa_mutacao).boxplot()"
   ]
  },
  {
   "cell_type": "code",
   "execution_count": 28,
   "metadata": {},
   "outputs": [
    {
     "data": {
      "text/plain": [
       "<matplotlib.axes._subplots.AxesSubplot at 0x173d2c014f0>"
      ]
     },
     "execution_count": 28,
     "metadata": {},
     "output_type": "execute_result"
    },
    {
     "data": {
      "image/png": "[encoded data removed]",
      "text/plain": [
       "<Figure size 432x288 with 1 Axes>"
      ]
     },
     "metadata": {
      "needs_background": "light"
     },
     "output_type": "display_data"
    }
   ],
   "source": [
    "objs_h02.unstack(level=tipo_crossover).boxplot()"
   ]
  },
  {
   "cell_type": "code",
   "execution_count": 29,
   "metadata": {},
   "outputs": [
    {
     "data": {
      "text/plain": [
       "<matplotlib.axes._subplots.AxesSubplot at 0x173d2c62fa0>"
      ]
     },
     "execution_count": 29,
     "metadata": {},
     "output_type": "execute_result"
    },
    {
     "data": {
      "image/png": "[encoded data removed]",
      "text/plain": [
       "<Figure size 432x288 with 1 Axes>"
      ]
     },
     "metadata": {
      "needs_background": "light"
     },
     "output_type": "display_data"
    }
   ],
   "source": [
    "objs_h02.unstack(level=taxa_elitismo).boxplot()"
   ]
  },
  {
   "cell_type": "code",
   "execution_count": 68,
   "metadata": {},
   "outputs": [
    {
     "data": {
      "text/plain": [
       "Text(0.5, 0, 'taxa_mutacao')"
      ]
     },
     "execution_count": 68,
     "metadata": {},
     "output_type": "execute_result"
    },
    {
     "data": {
      "image/png": "[encoded data removed]",
      "text/plain": [
       "<Figure size 432x288 with 1 Axes>"
      ]
     },
     "metadata": {
      "needs_background": "light"
     },
     "output_type": "display_data"
    }
   ],
   "source": [
    "taxa_elitismo = -1\n",
    "tipo_crossover = -2\n",
    "taxa_mutacao = -3\n",
    "informacao = {-1:\"taxa_elitismo\", -2: 'tipo_crossover',-3:'taxa_mutacao'}\n",
    "i=-3\n",
    "tamanho = 100\n",
    "\n",
    "ax = objs_h06[(tamanho)].unstack(level=i).boxplot()\n",
    "\n",
    "ax.set_ylabel('Objetivo')\n",
    "ax.set_title('Instâncias de {} tarefas e h=0.4'.format(tamanho))\n",
    "ax.set_xlabel(informacao[i])"
   ]
  },
  {
   "cell_type": "code",
   "execution_count": 51,
   "metadata": {},
   "outputs": [
    {
     "data": {
      "text/plain": [
       "<matplotlib.axes._subplots.AxesSubplot at 0x173d4613190>"
      ]
     },
     "execution_count": 51,
     "metadata": {},
     "output_type": "execute_result"
    },
    {
     "data": {
      "image/png": "[encoded data removed]",
      "text/plain": [
       "<Figure size 432x288 with 1 Axes>"
      ]
     },
     "metadata": {
      "needs_background": "light"
     },
     "output_type": "display_data"
    }
   ],
   "source": [
    "objs_h02[(10)].unstack(level=taxa_mutacao).boxplot()"
   ]
  },
  {
   "cell_type": "code",
   "execution_count": 32,
   "metadata": {},
   "outputs": [
    {
     "data": {
      "text/plain": [
       "<matplotlib.axes._subplots.AxesSubplot at 0x173d2df44c0>"
      ]
     },
     "execution_count": 32,
     "metadata": {},
     "output_type": "execute_result"
    },
    {
     "data": {
      "image/png": "[encoded data removed]",
      "text/plain": [
       "<Figure size 432x288 with 1 Axes>"
      ]
     },
     "metadata": {
      "needs_background": "light"
     },
     "output_type": "display_data"
    }
   ],
   "source": [
    "objs_h08.unstack(level=tipo_crossover).boxplot()"
   ]
  },
  {
   "cell_type": "code",
   "execution_count": 33,
   "metadata": {},
   "outputs": [
    {
     "data": {
      "text/plain": [
       "<matplotlib.axes._subplots.AxesSubplot at 0x173d2e3c070>"
      ]
     },
     "execution_count": 33,
     "metadata": {},
     "output_type": "execute_result"
    },
    {
     "data": {
      "image/png": "[encoded data removed]",
      "text/plain": [
       "<Figure size 432x288 with 1 Axes>"
      ]
     },
     "metadata": {
      "needs_background": "light"
     },
     "output_type": "display_data"
    }
   ],
   "source": [
    "objs_h08.unstack(level=taxa_elitismo).boxplot()"
   ]
  },
  {
   "cell_type": "code",
   "execution_count": 34,
   "metadata": {},
   "outputs": [
    {
     "data": {
      "text/plain": [
       "<matplotlib.axes._subplots.AxesSubplot at 0x173d2ed75e0>"
      ]
     },
     "execution_count": 34,
     "metadata": {},
     "output_type": "execute_result"
    },
    {
     "data": {
      "image/png": "[encoded data removed]",
      "text/plain": [
       "<Figure size 432x288 with 1 Axes>"
      ]
     },
     "metadata": {
      "needs_background": "light"
     },
     "output_type": "display_data"
    }
   ],
   "source": [
    "tempos_h02.unstack(level=taxa_mutacao).boxplot()\n"
   ]
  },
  {
   "cell_type": "code",
   "execution_count": 35,
   "metadata": {},
   "outputs": [
    {
     "data": {
      "text/plain": [
       "<matplotlib.axes._subplots.AxesSubplot at 0x173d2f5a820>"
      ]
     },
     "execution_count": 35,
     "metadata": {},
     "output_type": "execute_result"
    },
    {
     "data": {
      "image/png": "[encoded data removed]",
      "text/plain": [
       "<Figure size 432x288 with 1 Axes>"
      ]
     },
     "metadata": {
      "needs_background": "light"
     },
     "output_type": "display_data"
    }
   ],
   "source": [
    "tempos_h02.unstack(level=taxa_elitismo).boxplot()\n"
   ]
  },
  {
   "cell_type": "code",
   "execution_count": 36,
   "metadata": {},
   "outputs": [
    {
     "data": {
      "text/plain": [
       "<matplotlib.axes._subplots.AxesSubplot at 0x173d2fd56d0>"
      ]
     },
     "execution_count": 36,
     "metadata": {},
     "output_type": "execute_result"
    },
    {
     "data": {
      "image/png": "[encoded data removed]",
      "text/plain": [
       "<Figure size 432x288 with 1 Axes>"
      ]
     },
     "metadata": {
      "needs_background": "light"
     },
     "output_type": "display_data"
    }
   ],
   "source": [
    "tempos_h02.unstack(level=tipo_crossover).boxplot()"
   ]
  },
  {
   "cell_type": "code",
   "execution_count": 37,
   "metadata": {},
   "outputs": [
    {
     "data": {
      "text/plain": [
       "<matplotlib.axes._subplots.AxesSubplot at 0x173d303bb80>"
      ]
     },
     "execution_count": 37,
     "metadata": {},
     "output_type": "execute_result"
    },
    {
     "data": {
      "image/png": "[encoded data removed]",
      "text/plain": [
       "<Figure size 432x288 with 1 Axes>"
      ]
     },
     "metadata": {
      "needs_background": "light"
     },
     "output_type": "display_data"
    }
   ],
   "source": [
    "tempos_h04.unstack(level=taxa_mutacao).boxplot()\n"
   ]
  },
  {
   "cell_type": "code",
   "execution_count": 38,
   "metadata": {},
   "outputs": [
    {
     "data": {
      "text/plain": [
       "<matplotlib.axes._subplots.AxesSubplot at 0x173d30a6ca0>"
      ]
     },
     "execution_count": 38,
     "metadata": {},
     "output_type": "execute_result"
    },
    {
     "data": {
      "image/png": "[encoded data removed]",
      "text/plain": [
       "<Figure size 432x288 with 1 Axes>"
      ]
     },
     "metadata": {
      "needs_background": "light"
     },
     "output_type": "display_data"
    }
   ],
   "source": [
    "tempos_h04.unstack(level=taxa_elitismo).boxplot()\n"
   ]
  },
  {
   "cell_type": "code",
   "execution_count": 39,
   "metadata": {},
   "outputs": [
    {
     "data": {
      "text/plain": [
       "<matplotlib.axes._subplots.AxesSubplot at 0x173d2d7e430>"
      ]
     },
     "execution_count": 39,
     "metadata": {},
     "output_type": "execute_result"
    },
    {
     "data": {
      "image/png": "[encoded data removed]",
      "text/plain": [
       "<Figure size 432x288 with 1 Axes>"
      ]
     },
     "metadata": {
      "needs_background": "light"
     },
     "output_type": "display_data"
    }
   ],
   "source": [
    "tempos_h04.unstack(level=tipo_crossover).boxplot()"
   ]
  },
  {
   "cell_type": "code",
   "execution_count": 40,
   "metadata": {},
   "outputs": [
    {
     "data": {
      "text/plain": [
       "<matplotlib.axes._subplots.AxesSubplot at 0x173d2f4a700>"
      ]
     },
     "execution_count": 40,
     "metadata": {},
     "output_type": "execute_result"
    },
    {
     "data": {
      "image/png": "[encoded data removed]",
      "text/plain": [
       "<Figure size 432x288 with 1 Axes>"
      ]
     },
     "metadata": {
      "needs_background": "light"
     },
     "output_type": "display_data"
    }
   ],
   "source": [
    "tempos_h06.unstack(level=taxa_mutacao).boxplot()\n"
   ]
  },
  {
   "cell_type": "code",
   "execution_count": 41,
   "metadata": {},
   "outputs": [
    {
     "data": {
      "text/plain": [
       "<matplotlib.axes._subplots.AxesSubplot at 0x173d31f7ac0>"
      ]
     },
     "execution_count": 41,
     "metadata": {},
     "output_type": "execute_result"
    },
    {
     "data": {
      "image/png": "[encoded data removed]",
      "text/plain": [
       "<Figure size 432x288 with 1 Axes>"
      ]
     },
     "metadata": {
      "needs_background": "light"
     },
     "output_type": "display_data"
    }
   ],
   "source": [
    "tempos_h06.unstack(level=taxa_elitismo).boxplot()\n"
   ]
  },
  {
   "cell_type": "code",
   "execution_count": 42,
   "metadata": {},
   "outputs": [
    {
     "data": {
      "text/plain": [
       "<matplotlib.axes._subplots.AxesSubplot at 0x173d3266520>"
      ]
     },
     "execution_count": 42,
     "metadata": {},
     "output_type": "execute_result"
    },
    {
     "data": {
      "image/png": "[encoded data removed]",
      "text/plain": [
       "<Figure size 432x288 with 1 Axes>"
      ]
     },
     "metadata": {
      "needs_background": "light"
     },
     "output_type": "display_data"
    }
   ],
   "source": [
    "tempos_h06.unstack(level=tipo_crossover).boxplot()"
   ]
  },
  {
   "cell_type": "code",
   "execution_count": 43,
   "metadata": {},
   "outputs": [
    {
     "data": {
      "text/plain": [
       "<matplotlib.axes._subplots.AxesSubplot at 0x173d32d5640>"
      ]
     },
     "execution_count": 43,
     "metadata": {},
     "output_type": "execute_result"
    },
    {
     "data": {
      "image/png": "[encoded data removed]",
      "text/plain": [
       "<Figure size 432x288 with 1 Axes>"
      ]
     },
     "metadata": {
      "needs_background": "light"
     },
     "output_type": "display_data"
    }
   ],
   "source": [
    "tempos_h08.unstack(level=taxa_mutacao).boxplot()\n"
   ]
  },
  {
   "cell_type": "code",
   "execution_count": 44,
   "metadata": {},
   "outputs": [
    {
     "data": {
      "text/plain": [
       "<matplotlib.axes._subplots.AxesSubplot at 0x173d43121c0>"
      ]
     },
     "execution_count": 44,
     "metadata": {},
     "output_type": "execute_result"
    },
    {
     "data": {
      "image/png": "[encoded data removed]",
      "text/plain": [
       "<Figure size 432x288 with 1 Axes>"
      ]
     },
     "metadata": {
      "needs_background": "light"
     },
     "output_type": "display_data"
    }
   ],
   "source": [
    "tempos_h08.unstack(level=taxa_elitismo).boxplot()\n"
   ]
  },
  {
   "cell_type": "code",
   "execution_count": 45,
   "metadata": {},
   "outputs": [
    {
     "data": {
      "text/plain": [
       "<matplotlib.axes._subplots.AxesSubplot at 0x173d43a5b50>"
      ]
     },
     "execution_count": 45,
     "metadata": {},
     "output_type": "execute_result"
    },
    {
     "data": {
      "image/png": "[encoded data removed]",
      "text/plain": [
       "<Figure size 432x288 with 1 Axes>"
      ]
     },
     "metadata": {
      "needs_background": "light"
     },
     "output_type": "display_data"
    }
   ],
   "source": [
    "tempos_h08.unstack(level=tipo_crossover).boxplot()"
   ]
  },
  {
   "cell_type": "code",
   "execution_count": 46,
   "metadata": {},
   "outputs": [
    {
     "data": {
      "text/plain": [
       "10    3  0.5  0  0.35        793.0\n",
       "                 0.75        793.0\n",
       "                 1.00        793.0\n",
       "         1.0  0  0.35        793.0\n",
       "                 0.75        793.0\n",
       "                           ...    \n",
       "1000  7  1.0  0  0.75    6574297.0\n",
       "                 1.00    6574297.0\n",
       "         5.0  0  0.35    6574297.0\n",
       "                 0.75    6574297.0\n",
       "                 1.00    6574297.0\n",
       "Name: 0.8, Length: 126, dtype: float64"
      ]
     },
     "execution_count": 46,
     "metadata": {},
     "output_type": "execute_result"
    }
   ],
   "source": [
    "objs_h08"
   ]
  },
  {
   "cell_type": "code",
   "execution_count": null,
   "metadata": {},
   "outputs": [],
   "source": []
  },
  {
   "cell_type": "code",
   "execution_count": null,
   "metadata": {},
   "outputs": [],
   "source": []
  }
 ],
 "metadata": {
  "kernelspec": {
   "display_name": "Python 3",
   "language": "python",
   "name": "python3"
  },
  "language_info": {
   "codemirror_mode": {
    "name": "ipython",
    "version": 3
   },
   "file_extension": ".py",
   "mimetype": "text/x-python",
   "name": "python",
   "nbconvert_exporter": "python",
   "pygments_lexer": "ipython3",
   "version": "3.8.3"
  }
 },
 "nbformat": 4,
 "nbformat_minor": 4
}
