{
 "cells": [
  {
   "cell_type": "code",
   "execution_count": 1,
   "metadata": {},
   "outputs": [],
   "source": [
    "from pathlib import Path\n",
    "import math\n",
    "import os\n",
    "import numpy as np\n",
    "import pandas as pd\n",
    "import time\n",
    "from numba import jit\n",
    "\n",
    "def extract_data():\n",
    "    raiz = Path.cwd() #capturo diretório atual\n",
    "    pasta_dados = Path.joinpath(raiz,\"dados\") #defino onde estão os problemas\n",
    "    prob_por_arquivo = 10 #informando quantos problemas por arquivo eu tenho\n",
    "    conjuntos = [10,20,50,100,200,500,1000]\n",
    "\n",
    "    for conjunto in conjuntos:  #circulo nos arquivos\n",
    "        dados[conjunto] = {}\n",
    "        arquivo = f\"sch\"+str(conjunto)+'.txt'\n",
    "        print(\"Iniciando problema {}\".format(arquivo))\n",
    "        caminho_problema = Path.joinpath(pasta_dados,arquivo)\n",
    "        df = pd.read_fwf(caminho_problema) #importo no df\n",
    "        df.columns=[\"n\",\"p\",\"a\",\"b\"]\n",
    "        df.drop(columns=[\"n\"], inplace=True) #jogo fora columa inútil\n",
    "        n=df.iloc[0,0] #guardo o tamanho de itens do problema\n",
    "        print(\"n = \", n)  \n",
    "        df.dropna(inplace=True) #jogo fora linhas inúteis\n",
    "        for problema_numero in range(prob_por_arquivo): #vou circular nos problemas dentro do arquivo. Cada iteração deste for é um problema.\n",
    "            prob = df[n*problema_numero:n*(problema_numero+1)]\n",
    "            dados[conjunto][problema_numero+1] = {\n",
    "                'pi': prob[\"p\"].to_numpy(),\n",
    "                'ai': prob[\"a\"].to_numpy(),\n",
    "                'bi': prob[\"b\"].to_numpy()\n",
    "            }\n",
    "            ## nesse ponto tenho o parâmetros do problema atual guardadas nas variáveis pi, ai e bi, prontos para serem utilizados na modelagem.\n",
    "    return dados\n",
    "\n",
    "@jit(nopython=True)\n",
    "def transforma(solucao):\n",
    "    set_E = np.nonzero(solucao == True)[0] #[0] para retornar o np array e não o tuple.\n",
    "    set_T = np.nonzero(solucao == False)[0]\n",
    "    return set_E,set_T\n",
    "\n",
    "def transforma_bin(set_E, set_T, conjunto):\n",
    "    solucao = range(0, conjunto)\n",
    "    solucao_bin = np.isin(solucao, set_E)\n",
    "    return solucao_bin"
   ]
  },
  {
   "cell_type": "code",
   "execution_count": 2,
   "metadata": {},
   "outputs": [
    {
     "name": "stdout",
     "output_type": "stream",
     "text": [
      "Iniciando problema sch10.txt\n",
      "n =  10\n",
      "Iniciando problema sch20.txt\n",
      "n =  20\n",
      "Iniciando problema sch50.txt\n",
      "n =  50\n",
      "Iniciando problema sch100.txt\n",
      "n =  100\n",
      "Iniciando problema sch200.txt\n",
      "n =  200\n",
      "Iniciando problema sch500.txt\n",
      "n =  500\n",
      "Iniciando problema sch1000.txt\n",
      "n =  1000\n"
     ]
    }
   ],
   "source": [
    "dados = {}\n",
    "dados = extract_data()\n",
    "\n",
    "solucoes_pandas = pd.read_pickle('solucoes.pkl')\n",
    "solucoes = solucoes_pandas.to_dict()\n"
   ]
  },
  {
   "cell_type": "code",
   "execution_count": 3,
   "metadata": {},
   "outputs": [
    {
     "name": "stdout",
     "output_type": "stream",
     "text": [
      "0.25 [False  True False  True False False False False False False]\n",
      "0.5 [False  True False  True False False False False False False]\n",
      "0.6 [False  True False  True False False False False False False]\n",
      "0.75 [False  True False False False False  True False False False]\n",
      "2 [False  True False False False False  True False False False]\n"
     ]
    }
   ],
   "source": [
    "lista_z = [0.25 , 0.5 , 0.6 , 0.75, 2]\n",
    "conjunto = 10\n",
    "problema = 1\n",
    "h = 0.2\n",
    "for cada_z in lista_z:\n",
    "    print(cada_z, solucoes[(conjunto,problema,h,cada_z)])"
   ]
  },
  {
   "cell_type": "code",
   "execution_count": 87,
   "metadata": {},
   "outputs": [],
   "source": [
    "#luiza, vou por as funções aqui, e os testes vou manter nas células abaixo\n",
    "#aí você consegue ver os testes que eu fiz e como eu espero que a função se comporte.\n",
    "\n",
    "@jit(nopython=True)\n",
    "def crossover(p1,p2):     #p1,p2 = np.array com soluções, formato booleano.\n",
    "    tamanho = len(p1)\n",
    "    metade = int(tamanho/2)\n",
    "    parte1 = p1[:metade]\n",
    "    parte2 = p2[metade:]\n",
    "    filho = np.append(parte1,parte2)\n",
    "    return filho #falta incluir uma função de reparo de infactíveis\n",
    "\n",
    "\n",
    "\n",
    "\n",
    "@jit(nopython=True)\n",
    "def crossover_r(p1,p2):     #p1,p2 = np.array com soluções, formato booleano.\n",
    "                            #a diferença desse pro anterior é que dois cruzamentos dos mesmos pais\n",
    "                            #vão retornar filhos diferentes.\n",
    "                            #a diferença de tempo para 1000 tarefas é de 2us para 20us.\n",
    "    roleta =  np.array([np.random.random() for i in range(len(p1))])\n",
    "    filho = np.copy(p1)\n",
    "    p2 = np.copy(p2)\n",
    "    for cada_tarefa in np.where(roleta<=0.5): #o filho é igual p1, exceto onde roleta<=0.5.\n",
    "        filho[cada_tarefa] = p2[cada_tarefa]\n",
    "        \n",
    "    return filho #falta incluir uma função de reparo de infactíveis\n",
    "\n",
    "\n",
    "@jit(nopython=True)\n",
    "def mutacao(sol,p): #sol = np.array com solução, formato booleano.\n",
    "                    #p = probabilidade de cada bit sofrer mutação, float ;  [0,1].\n",
    "    roleta =  np.array([np.random.random() for i in range(len(sol))])\n",
    "    copia_sol = np.copy(sol)\n",
    "    for cada_mutante in np.where(roleta<=p):\n",
    "        copia_sol[cada_mutante] = np.logical_not(copia_sol[cada_mutante])\n",
    "    return copia_sol"
   ]
  },
  {
   "cell_type": "code",
   "execution_count": 83,
   "metadata": {},
   "outputs": [
    {
     "data": {
      "text/plain": [
       "array([ True,  True, False, False])"
      ]
     },
     "execution_count": 83,
     "metadata": {},
     "output_type": "execute_result"
    }
   ],
   "source": [
    "a=np.tile(True,4)\n",
    "b=np.tile(False,4)\n",
    "\n",
    "crossover(a,b)"
   ]
  },
  {
   "cell_type": "code",
   "execution_count": 84,
   "metadata": {},
   "outputs": [
    {
     "name": "stdout",
     "output_type": "stream",
     "text": [
      "2.42 µs ± 398 ns per loop (mean ± std. dev. of 7 runs, 100000 loops each)\n"
     ]
    }
   ],
   "source": [
    "a=np.tile(True,1000)\n",
    "b=np.tile(False,1000)\n",
    "%timeit crossover(a,b)"
   ]
  },
  {
   "cell_type": "code",
   "execution_count": 88,
   "metadata": {},
   "outputs": [
    {
     "name": "stdout",
     "output_type": "stream",
     "text": [
      "24.7 µs ± 10.6 µs per loop (mean ± std. dev. of 7 runs, 1 loop each)\n"
     ]
    }
   ],
   "source": [
    "%timeit crossover_r(a,b)"
   ]
  },
  {
   "cell_type": "code",
   "execution_count": 74,
   "metadata": {},
   "outputs": [
    {
     "data": {
      "text/plain": [
       "1"
      ]
     },
     "execution_count": 74,
     "metadata": {},
     "output_type": "execute_result"
    }
   ],
   "source": [
    "\n"
   ]
  },
  {
   "cell_type": "code",
   "execution_count": 80,
   "metadata": {},
   "outputs": [
    {
     "name": "stdout",
     "output_type": "stream",
     "text": [
      "28.7 µs ± 2.66 µs per loop (mean ± std. dev. of 7 runs, 10000 loops each)\n"
     ]
    }
   ],
   "source": [
    "%%timeit\n",
    "d =  mutacao(a,0.3)"
   ]
  },
  {
   "cell_type": "code",
   "execution_count": 61,
   "metadata": {},
   "outputs": [
    {
     "data": {
      "text/plain": [
       "array([False,  True,  True,  True,  True,  True, False,  True, False,\n",
       "       False, False, False, False,  True, False, False,  True,  True,\n",
       "       False,  True,  True,  True,  True,  True, False, False, False,\n",
       "        True,  True,  True,  True,  True,  True,  True,  True,  True,\n",
       "        True, False,  True,  True,  True, False,  True,  True, False,\n",
       "       False, False, False, False, False, False, False, False, False,\n",
       "       False, False,  True,  True,  True,  True, False, False,  True,\n",
       "        True, False, False, False,  True,  True, False,  True, False,\n",
       "        True,  True,  True,  True,  True, False,  True,  True,  True,\n",
       "       False, False, False,  True,  True, False,  True, False,  True,\n",
       "       False,  True,  True, False, False,  True,  True, False,  True,\n",
       "        True,  True,  True,  True,  True,  True, False,  True,  True,\n",
       "       False,  True,  True, False,  True,  True, False,  True, False,\n",
       "        True,  True,  True,  True,  True,  True,  True,  True, False,\n",
       "        True,  True, False,  True,  True,  True, False,  True, False,\n",
       "       False,  True,  True, False,  True,  True,  True,  True,  True,\n",
       "       False,  True,  True,  True, False,  True,  True, False,  True,\n",
       "        True,  True, False,  True, False, False,  True,  True,  True,\n",
       "        True, False, False, False,  True,  True, False, False,  True,\n",
       "        True, False,  True,  True,  True,  True, False,  True,  True,\n",
       "       False,  True,  True, False, False, False, False, False,  True,\n",
       "        True,  True,  True, False,  True,  True,  True, False, False,\n",
       "       False,  True,  True, False,  True, False,  True,  True,  True,\n",
       "        True,  True, False, False, False,  True,  True, False, False,\n",
       "       False, False,  True,  True, False, False,  True,  True, False,\n",
       "       False, False, False, False, False,  True,  True, False, False,\n",
       "        True, False,  True,  True, False,  True, False, False,  True,\n",
       "        True, False,  True, False,  True, False, False, False, False,\n",
       "       False, False,  True,  True,  True, False,  True, False,  True,\n",
       "        True, False,  True, False, False,  True, False, False, False,\n",
       "       False, False,  True, False, False,  True,  True, False, False,\n",
       "       False, False, False,  True, False, False,  True, False,  True,\n",
       "       False, False, False,  True, False, False,  True,  True, False,\n",
       "       False,  True,  True,  True,  True, False, False,  True,  True,\n",
       "       False, False,  True,  True,  True,  True, False, False, False,\n",
       "        True,  True, False,  True, False,  True, False, False, False,\n",
       "        True, False, False,  True, False, False, False,  True,  True,\n",
       "        True, False, False, False,  True, False, False, False,  True,\n",
       "       False,  True,  True,  True,  True, False, False,  True,  True,\n",
       "       False,  True,  True,  True,  True,  True,  True, False,  True,\n",
       "        True, False, False, False,  True,  True,  True, False, False,\n",
       "        True, False, False, False, False,  True, False, False, False,\n",
       "       False,  True,  True,  True, False, False, False, False, False,\n",
       "       False, False, False, False, False,  True,  True, False,  True,\n",
       "        True,  True,  True,  True, False, False,  True,  True, False,\n",
       "       False, False, False, False,  True,  True,  True, False,  True,\n",
       "        True, False, False,  True, False, False, False, False, False,\n",
       "        True,  True,  True,  True, False,  True,  True,  True,  True,\n",
       "       False, False, False,  True,  True,  True,  True, False,  True,\n",
       "       False, False, False, False,  True, False,  True,  True,  True,\n",
       "        True,  True,  True, False,  True, False, False,  True,  True,\n",
       "       False,  True,  True, False,  True,  True,  True, False, False,\n",
       "        True,  True,  True, False,  True,  True, False,  True,  True,\n",
       "       False,  True,  True, False,  True, False, False, False, False,\n",
       "       False,  True, False,  True, False, False, False, False,  True,\n",
       "        True, False,  True,  True,  True, False,  True,  True, False,\n",
       "        True,  True,  True, False, False,  True, False, False, False,\n",
       "        True, False, False,  True,  True, False, False,  True,  True,\n",
       "        True, False, False, False, False,  True,  True,  True, False,\n",
       "        True,  True,  True, False,  True, False,  True, False, False,\n",
       "        True, False, False, False,  True,  True, False, False, False,\n",
       "        True,  True, False, False, False,  True, False,  True, False,\n",
       "        True,  True, False,  True,  True,  True,  True, False, False,\n",
       "        True, False, False, False, False,  True,  True,  True, False,\n",
       "        True,  True, False, False, False, False,  True,  True, False,\n",
       "        True, False,  True, False,  True,  True,  True, False, False,\n",
       "       False, False, False,  True,  True,  True,  True,  True, False,\n",
       "        True, False, False,  True, False, False, False,  True, False,\n",
       "       False,  True,  True,  True,  True, False, False, False,  True,\n",
       "        True, False, False,  True, False,  True,  True,  True, False,\n",
       "        True,  True, False,  True, False,  True,  True, False, False,\n",
       "        True, False, False, False, False,  True,  True,  True, False,\n",
       "       False, False,  True, False,  True, False,  True, False, False,\n",
       "       False, False, False,  True,  True, False,  True, False, False,\n",
       "       False, False, False, False, False,  True, False,  True,  True,\n",
       "       False, False, False,  True,  True, False, False,  True, False,\n",
       "       False, False, False, False,  True, False, False, False, False,\n",
       "        True, False,  True,  True,  True, False,  True,  True,  True,\n",
       "       False,  True,  True, False,  True, False, False, False, False,\n",
       "        True,  True, False, False,  True,  True,  True,  True, False,\n",
       "        True, False,  True,  True,  True,  True,  True, False,  True,\n",
       "        True,  True,  True,  True,  True,  True,  True,  True,  True,\n",
       "        True,  True, False,  True,  True, False, False,  True, False,\n",
       "       False, False, False, False, False,  True,  True,  True,  True,\n",
       "       False,  True, False, False, False,  True, False,  True,  True,\n",
       "        True, False, False,  True,  True,  True,  True, False,  True,\n",
       "        True, False, False,  True,  True,  True,  True,  True, False,\n",
       "       False,  True,  True,  True, False,  True, False,  True,  True,\n",
       "        True, False, False, False, False, False, False,  True, False,\n",
       "       False,  True, False, False, False, False,  True, False,  True,\n",
       "       False,  True, False,  True,  True,  True, False,  True, False,\n",
       "       False,  True,  True,  True,  True,  True, False, False,  True,\n",
       "       False, False,  True,  True,  True, False, False,  True, False,\n",
       "       False, False, False, False, False, False, False,  True,  True,\n",
       "       False,  True,  True, False, False, False, False,  True, False,\n",
       "        True, False, False, False,  True, False, False,  True, False,\n",
       "        True, False,  True,  True,  True, False, False, False,  True,\n",
       "        True, False, False,  True, False,  True,  True,  True,  True,\n",
       "        True,  True, False, False, False, False, False,  True,  True,\n",
       "        True,  True,  True,  True,  True,  True, False,  True, False,\n",
       "        True, False,  True,  True,  True, False,  True, False, False,\n",
       "        True, False, False,  True, False, False,  True, False, False,\n",
       "       False, False,  True, False,  True,  True,  True,  True, False,\n",
       "        True, False,  True, False,  True, False, False, False, False,\n",
       "       False,  True, False,  True,  True,  True, False,  True,  True,\n",
       "        True,  True,  True, False,  True,  True,  True, False,  True,\n",
       "       False, False,  True, False,  True, False,  True, False,  True,\n",
       "        True,  True, False,  True, False,  True, False, False, False,\n",
       "        True, False,  True, False, False, False,  True,  True,  True,\n",
       "       False,  True, False, False, False,  True, False, False,  True,\n",
       "        True, False,  True,  True, False,  True, False,  True,  True,\n",
       "       False])"
      ]
     },
     "execution_count": 61,
     "metadata": {},
     "output_type": "execute_result"
    }
   ],
   "source": [
    "d"
   ]
  },
  {
   "cell_type": "code",
   "execution_count": 79,
   "metadata": {},
   "outputs": [
    {
     "name": "stdout",
     "output_type": "stream",
     "text": [
      "1000\n",
      "1000\n",
      "693\n"
     ]
    }
   ],
   "source": [
    "a=np.tile(True,1000)\n",
    "print(sum(a))\n",
    "d =  mutacao(a,0.3)\n",
    "print(sum(a))\n",
    "print(sum(d))"
   ]
  },
  {
   "cell_type": "code",
   "execution_count": 52,
   "metadata": {},
   "outputs": [
    {
     "data": {
      "text/plain": [
       "506"
      ]
     },
     "execution_count": 52,
     "metadata": {},
     "output_type": "execute_result"
    }
   ],
   "source": []
  },
  {
   "cell_type": "code",
   "execution_count": 53,
   "metadata": {},
   "outputs": [
    {
     "data": {
      "text/plain": [
       "array([ True, False, False,  True,  True, False,  True, False, False,\n",
       "        True,  True, False, False,  True, False,  True,  True,  True,\n",
       "       False,  True, False, False,  True, False,  True, False,  True,\n",
       "       False,  True, False,  True, False,  True,  True,  True, False,\n",
       "       False, False,  True,  True, False, False,  True, False,  True,\n",
       "       False,  True, False, False, False,  True,  True, False, False,\n",
       "       False, False,  True,  True,  True, False, False, False, False,\n",
       "        True,  True, False,  True, False,  True, False,  True,  True,\n",
       "       False, False, False, False,  True,  True, False,  True, False,\n",
       "        True, False, False, False, False,  True,  True,  True,  True,\n",
       "       False, False, False, False, False,  True, False,  True, False,\n",
       "        True, False,  True, False,  True,  True, False, False, False,\n",
       "        True,  True, False,  True,  True,  True,  True, False, False,\n",
       "       False, False, False,  True, False,  True,  True, False, False,\n",
       "        True, False, False,  True, False, False, False,  True,  True,\n",
       "        True,  True,  True, False, False,  True, False,  True, False,\n",
       "        True, False, False,  True,  True, False,  True, False,  True,\n",
       "        True, False, False, False,  True, False,  True,  True, False,\n",
       "        True, False,  True, False, False, False, False,  True,  True,\n",
       "        True,  True,  True, False, False, False, False, False,  True,\n",
       "       False, False,  True,  True,  True,  True, False,  True,  True,\n",
       "        True,  True, False,  True,  True,  True, False, False, False,\n",
       "       False, False,  True,  True, False, False,  True, False, False,\n",
       "        True, False,  True,  True, False,  True, False,  True,  True,\n",
       "        True, False,  True,  True,  True, False,  True, False, False,\n",
       "        True, False, False,  True, False, False,  True, False,  True,\n",
       "       False,  True, False, False,  True, False,  True, False, False,\n",
       "        True,  True, False,  True, False,  True,  True, False, False,\n",
       "       False, False, False,  True, False,  True, False, False,  True,\n",
       "        True,  True,  True, False, False, False, False, False,  True,\n",
       "        True, False,  True,  True, False,  True,  True, False, False,\n",
       "        True, False, False,  True,  True, False, False,  True, False,\n",
       "       False,  True, False, False,  True, False, False, False, False,\n",
       "       False, False,  True, False, False,  True, False,  True,  True,\n",
       "       False, False,  True,  True,  True, False, False,  True, False,\n",
       "        True, False,  True, False,  True, False, False,  True, False,\n",
       "        True, False, False, False, False,  True, False,  True, False,\n",
       "        True,  True, False, False, False,  True,  True, False, False,\n",
       "        True,  True,  True, False, False, False,  True, False,  True,\n",
       "        True,  True, False, False, False, False,  True, False,  True,\n",
       "        True,  True, False,  True, False, False, False, False,  True,\n",
       "        True,  True,  True, False,  True, False,  True,  True, False,\n",
       "       False,  True, False, False,  True,  True,  True, False,  True,\n",
       "        True, False,  True,  True,  True, False,  True,  True,  True,\n",
       "       False,  True,  True,  True,  True,  True,  True,  True,  True,\n",
       "        True, False, False, False,  True,  True, False,  True,  True,\n",
       "        True,  True, False,  True, False,  True,  True,  True,  True,\n",
       "        True,  True,  True, False, False, False,  True,  True,  True,\n",
       "        True,  True, False,  True, False, False, False,  True, False,\n",
       "        True,  True, False, False,  True,  True,  True, False,  True,\n",
       "       False,  True, False, False,  True, False, False, False,  True,\n",
       "        True, False, False,  True,  True,  True,  True,  True,  True,\n",
       "       False,  True, False,  True,  True, False,  True, False,  True,\n",
       "        True, False,  True, False,  True,  True, False,  True,  True,\n",
       "       False,  True,  True, False,  True,  True,  True, False, False,\n",
       "       False,  True,  True, False, False,  True,  True, False,  True,\n",
       "        True,  True, False,  True,  True, False, False,  True, False,\n",
       "       False, False,  True, False, False,  True,  True, False,  True,\n",
       "        True, False, False, False,  True,  True, False, False, False,\n",
       "        True,  True, False,  True, False,  True,  True,  True, False,\n",
       "        True, False, False, False, False, False, False,  True,  True,\n",
       "        True, False, False, False,  True,  True,  True,  True,  True,\n",
       "        True, False,  True,  True,  True,  True,  True, False,  True,\n",
       "       False,  True,  True, False,  True, False, False,  True, False,\n",
       "        True, False,  True,  True,  True,  True,  True, False, False,\n",
       "        True,  True,  True,  True, False, False,  True, False, False,\n",
       "        True, False,  True, False,  True,  True, False,  True,  True,\n",
       "        True,  True,  True,  True, False,  True,  True,  True, False,\n",
       "        True,  True,  True, False,  True,  True, False, False,  True,\n",
       "        True,  True,  True, False, False, False, False, False, False,\n",
       "       False, False,  True, False,  True, False, False, False, False,\n",
       "        True,  True, False, False, False, False, False, False,  True,\n",
       "       False,  True, False, False, False,  True,  True, False, False,\n",
       "        True, False, False, False, False,  True, False, False,  True,\n",
       "       False, False, False,  True, False,  True,  True,  True,  True,\n",
       "        True, False,  True,  True,  True, False,  True,  True,  True,\n",
       "       False,  True,  True, False, False, False,  True, False, False,\n",
       "        True,  True, False, False, False,  True,  True,  True,  True,\n",
       "       False, False,  True,  True,  True,  True, False, False, False,\n",
       "       False, False, False, False,  True,  True, False, False, False,\n",
       "       False,  True,  True,  True, False, False,  True,  True, False,\n",
       "        True, False, False, False, False, False,  True, False, False,\n",
       "       False, False, False,  True,  True, False,  True, False,  True,\n",
       "       False,  True, False,  True,  True,  True,  True, False,  True,\n",
       "        True,  True,  True,  True,  True, False, False,  True, False,\n",
       "       False,  True,  True, False, False,  True,  True, False,  True,\n",
       "        True, False, False, False,  True, False,  True,  True,  True,\n",
       "        True,  True,  True, False,  True,  True, False, False,  True,\n",
       "        True, False, False, False,  True,  True, False,  True,  True,\n",
       "       False, False, False,  True,  True,  True, False, False, False,\n",
       "        True, False,  True,  True, False,  True, False, False, False,\n",
       "       False, False,  True, False, False, False,  True,  True,  True,\n",
       "        True, False,  True, False,  True,  True, False, False, False,\n",
       "        True, False,  True,  True, False,  True,  True, False, False,\n",
       "       False, False,  True,  True, False,  True,  True,  True, False,\n",
       "       False, False,  True, False, False, False,  True, False, False,\n",
       "        True,  True,  True, False, False,  True,  True, False,  True,\n",
       "        True,  True, False, False, False, False, False, False, False,\n",
       "        True,  True, False, False, False, False, False, False, False,\n",
       "        True,  True, False, False,  True, False,  True, False, False,\n",
       "       False, False, False,  True,  True,  True,  True, False,  True,\n",
       "        True,  True, False,  True, False,  True, False, False,  True,\n",
       "       False, False, False,  True,  True,  True,  True,  True,  True,\n",
       "        True, False,  True,  True, False,  True, False,  True, False,\n",
       "       False,  True, False,  True, False, False, False, False, False,\n",
       "       False,  True,  True,  True,  True,  True,  True, False, False,\n",
       "        True,  True,  True, False,  True,  True,  True,  True,  True,\n",
       "       False,  True, False,  True,  True, False,  True, False,  True,\n",
       "       False, False, False,  True,  True,  True, False,  True, False,\n",
       "        True, False, False,  True,  True, False,  True, False, False,\n",
       "        True,  True,  True,  True,  True, False, False, False, False,\n",
       "        True])"
      ]
     },
     "execution_count": 53,
     "metadata": {},
     "output_type": "execute_result"
    }
   ],
   "source": [
    "a"
   ]
  },
  {
   "cell_type": "code",
   "execution_count": null,
   "metadata": {},
   "outputs": [],
   "source": []
  }
 ],
 "metadata": {
  "kernelspec": {
   "display_name": "Python 3",
   "language": "python",
   "name": "python3"
  },
  "language_info": {
   "codemirror_mode": {
    "name": "ipython",
    "version": 3
   },
   "file_extension": ".py",
   "mimetype": "text/x-python",
   "name": "python",
   "nbconvert_exporter": "python",
   "pygments_lexer": "ipython3",
   "version": "3.8.3"
  }
 },
 "nbformat": 4,
 "nbformat_minor": 4
}
