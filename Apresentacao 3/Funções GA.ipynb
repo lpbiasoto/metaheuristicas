{
 "cells": [
  {
   "cell_type": "code",
   "execution_count": 1,
   "metadata": {},
   "outputs": [],
   "source": [
    "from pathlib import Path\n",
    "import math\n",
    "import os\n",
    "import numpy as np\n",
    "import pandas as pd\n",
    "import time\n",
    "from numba import jit\n",
    "\n",
    "def extract_data():\n",
    "    raiz = Path.cwd() #capturo diretório atual\n",
    "    pasta_dados = Path.joinpath(raiz,\"dados\") #defino onde estão os problemas\n",
    "    prob_por_arquivo = 10 #informando quantos problemas por arquivo eu tenho\n",
    "    conjuntos = [10,20,50,100,200,500,1000]\n",
    "\n",
    "    for conjunto in conjuntos:  #circulo nos arquivos\n",
    "        dados[conjunto] = {}\n",
    "        arquivo = f\"sch\"+str(conjunto)+'.txt'\n",
    "        print(\"Iniciando problema {}\".format(arquivo))\n",
    "        caminho_problema = Path.joinpath(pasta_dados,arquivo)\n",
    "        df = pd.read_fwf(caminho_problema) #importo no df\n",
    "        df.columns=[\"n\",\"p\",\"a\",\"b\"]\n",
    "        df.drop(columns=[\"n\"], inplace=True) #jogo fora columa inútil\n",
    "        n=df.iloc[0,0] #guardo o tamanho de itens do problema\n",
    "        print(\"n = \", n)  \n",
    "        df.dropna(inplace=True) #jogo fora linhas inúteis\n",
    "        for problema_numero in range(prob_por_arquivo): #vou circular nos problemas dentro do arquivo. Cada iteração deste for é um problema.\n",
    "            prob = df[n*problema_numero:n*(problema_numero+1)]\n",
    "            dados[conjunto][problema_numero+1] = {\n",
    "                'pi': prob[\"p\"].to_numpy(),\n",
    "                'ai': prob[\"a\"].to_numpy(),\n",
    "                'bi': prob[\"b\"].to_numpy()\n",
    "            }\n",
    "            ## nesse ponto tenho o parâmetros do problema atual guardadas nas variáveis pi, ai e bi, prontos para serem utilizados na modelagem.\n",
    "    return dados\n",
    "\n",
    "@jit(nopython=True)\n",
    "def transforma(solucao):\n",
    "    set_E = np.nonzero(solucao == True)[0] #[0] para retornar o np array e não o tuple.\n",
    "    set_T = np.nonzero(solucao == False)[0]\n",
    "    return set_E,set_T\n",
    "\n",
    "def transforma_bin(set_E, set_T, conjunto):\n",
    "    solucao = range(0, conjunto)\n",
    "    solucao_bin = np.isin(solucao, set_E)\n",
    "    return solucao_bin"
   ]
  },
  {
   "cell_type": "code",
   "execution_count": 2,
   "metadata": {},
   "outputs": [
    {
     "name": "stdout",
     "output_type": "stream",
     "text": [
      "Iniciando problema sch10.txt\n",
      "n =  10\n",
      "Iniciando problema sch20.txt\n",
      "n =  20\n",
      "Iniciando problema sch50.txt\n",
      "n =  50\n",
      "Iniciando problema sch100.txt\n",
      "n =  100\n",
      "Iniciando problema sch200.txt\n",
      "n =  200\n",
      "Iniciando problema sch500.txt\n",
      "n =  500\n",
      "Iniciando problema sch1000.txt\n",
      "n =  1000\n"
     ]
    }
   ],
   "source": [
    "dados = {}\n",
    "dados = extract_data()\n",
    "\n",
    "solucoes_pandas = pd.read_pickle('solucoes.pkl')\n",
    "solucoes = solucoes_pandas.to_dict()\n"
   ]
  },
  {
   "cell_type": "code",
   "execution_count": 3,
   "metadata": {},
   "outputs": [
    {
     "name": "stdout",
     "output_type": "stream",
     "text": [
      "0.25 [ True  True False False False  True  True False  True  True]\n",
      "0.5 [ True  True False False False  True  True False  True  True]\n",
      "0.6 [ True  True False False False  True  True False  True  True]\n",
      "0.75 [ True  True False False False  True  True False  True  True]\n",
      "2 [ True  True False False False  True  True False  True  True]\n"
     ]
    }
   ],
   "source": [
    "lista_z = [0.25 , 0.5 , 0.6 , 0.75, 2]\n",
    "conjunto = 10\n",
    "problema = 3\n",
    "h = 0.8\n",
    "\n",
    "pi = np.array(dados[conjunto][problema]['pi'])\n",
    "ai = np.array(dados[conjunto][problema]['ai'])\n",
    "bi = np.array(dados[conjunto][problema]['bi'])\n",
    "\n",
    "d = int(sum(pi)*h)\n",
    "\n",
    "for cada_z in lista_z:\n",
    "    print(cada_z, solucoes[(conjunto,problema,h,cada_z)])"
   ]
  },
  {
   "cell_type": "code",
   "execution_count": 4,
   "metadata": {},
   "outputs": [],
   "source": [
    "#luiza, vou por as funções aqui, e os testes vou manter nas células abaixo\n",
    "#aí você consegue ver os testes que eu fiz e como eu espero que a função se comporte.\n",
    "\n",
    "@jit(nopython=True)\n",
    "def crossover(p1,p2):     #p1,p2 = np.array com soluções, formato booleano.\n",
    "    tamanho = len(p1)\n",
    "    metade = int(tamanho/2)\n",
    "    parte1 = p1[:metade]\n",
    "    parte2 = p2[metade:]\n",
    "    filho = np.append(parte1,parte2)\n",
    "    return filho #falta incluir uma função de reparo de infactíveis\n",
    "\n",
    "\n",
    "\n",
    "\n",
    "@jit(nopython=True)\n",
    "def crossover_r(p1,p2):     #p1,p2 = np.array com soluções, formato booleano.\n",
    "                            #a diferença desse pro anterior é que dois cruzamentos dos mesmos pais\n",
    "                            #vão retornar filhos diferentes.\n",
    "                            #a diferença de tempo para 1000 tarefas é de 2us para 20us.\n",
    "    roleta =  np.array([np.random.random() for i in range(len(p1))])\n",
    "    filho = np.copy(p1)\n",
    "    p2 = np.copy(p2)\n",
    "    for cada_tarefa in np.where(roleta<=0.5): #o filho é igual p1, exceto onde roleta<=0.5.\n",
    "        filho[cada_tarefa] = p2[cada_tarefa]\n",
    "        \n",
    "    return filho #falta incluir uma função de reparo de infactíveis\n",
    "\n",
    "\n",
    "@jit(nopython=True)\n",
    "def mutacao(sol,p): #sol = np.array com solução, formato booleano.\n",
    "                    #p = probabilidade de cada bit sofrer mutação, float ;  [0,1].\n",
    "    roleta =  np.array([np.random.random() for i in range(len(sol))])\n",
    "    copia_sol = np.copy(sol)\n",
    "    for cada_mutante in np.where(roleta<=p):\n",
    "        copia_sol[cada_mutante] = np.logical_not(copia_sol[cada_mutante])\n",
    "    return copia_sol\n",
    "\n",
    "\n",
    "\n",
    "\n",
    "@jit(nopython=True)\n",
    "def transforma_bin2(set_E, set_T):\n",
    "    solucao_bin = np.array([True]*(len(set_E)+len(set_T)))\n",
    "    solucao_bin[set_T] = False\n",
    "    return solucao_bin\n",
    "\n",
    "@jit(nopython=True)\n",
    "def calcula_diversidade(sols,objs):\n",
    "    melhor = np.argmin(objs)\n",
    "    len_sols = len(sols[0])\n",
    "    igualdade =np.array([np.sum(sols[kk]==sols[melhor]) for kk in range(len(sols))]) #conta quantos bits iguais a melhor solucao em cada solução\n",
    "    #de todos bits da população,                                                                           \n",
    "    #quantos % são diferentes do melhor?\n",
    "    #substraí len_sols do numerador e denumerador para desconsiderar quando ele comparara a melhor com ela mesmo\n",
    "    #mas na prática é irrelevante.\n",
    "    diversidade_percent = (np.sum(igualdade)-len_sols)/((len(igualdade)*len_sols)-len_sols)\n",
    "    return diversidade_percent"
   ]
  },
  {
   "cell_type": "code",
   "execution_count": 5,
   "metadata": {},
   "outputs": [],
   "source": [
    "@jit(nopython=True)\n",
    "def repara_solucao(set_E,set_T,ai,bi,pi,d):\n",
    "    sol_ = transforma_bin2(set_E,set_T)\n",
    "    d_solucao = np.sum(pi[set_E])\n",
    "\n",
    "    if (d_solucao <= d): #solução não é infactível, vou sair sem fazer nada.\n",
    "        return (set_E,set_T)\n",
    "\n",
    "    z = (bi-ai)/(bi+ai)\n",
    "    violacao = d_solucao-d #o quanto eu preciso reduzir no meu d_solucao para ser factível?\n",
    "    zsort_set_E = np.flip(np.argsort(z[set_E])) #os primeiros são os maiores Zs no set_E.\n",
    "                                                #isto é, supostamente os melhores a serem movidos para o set_T.\n",
    "\n",
    "    pi_cumsum_zsort_set_E = np.cumsum(pi[set_E[zsort_set_E]]) #valor acumulado dos pi na ordem considerada a melhor.\n",
    "    mudar_ate = np.nonzero(pi_cumsum_zsort_set_E>violacao)[0][0]+1 #qual a primeira tarefa da lista ordenada que excede a violação?\n",
    "    mudar = set_E[zsort_set_E[:mudar_ate]] #colho os índices dos que precisarão ser alterados\n",
    "    sol_[mudar] = np.logical_not(sol_[mudar]) #mudo de conjunto itens necessários para reparo\n",
    "    novo_set_E,novo_set_T = transforma(sol_)\n",
    "    return novo_set_E,novo_set_T \n",
    "\n",
    "\n",
    "@jit(nopython=True)\n",
    "def oprime_fracos(objs,max_pop):\n",
    "    len_objs = len(objs) \n",
    "\n",
    "    sobreviventes = np.array([True]*len_objs) #começo com todos sobrevivendo.\n",
    "    oprimir_quantos = len_objs - max_pop\n",
    "\n",
    "    if oprimir_quantos<=0: #se eu não tiver exemplares demais, não preciso matar ninguém.\n",
    "        return sobreviventes\n",
    "\n",
    "    objs_decr = np.flip(np.argsort(objs))\n",
    "\n",
    "    n_elitismo = max(3,int(max_pop*0.1))\n",
    "    elite = objs_decr[:n_elitismo]\n",
    "\n",
    "    roleta =  np.array([np.random.random() for i in range(len(objs))])\n",
    "    roleta[elite] = 1 \n",
    "\n",
    "    oprimidos = np.argsort(roleta)[0:oprimir_quantos]\n",
    "\n",
    "    sobreviventes[oprimidos] = False\n",
    "    return sobreviventes"
   ]
  },
  {
   "cell_type": "code",
   "execution_count": 6,
   "metadata": {},
   "outputs": [
    {
     "data": {
      "text/plain": [
       "array([ True,  True, False, False])"
      ]
     },
     "execution_count": 6,
     "metadata": {},
     "output_type": "execute_result"
    }
   ],
   "source": [
    "a=np.tile(True,4)\n",
    "b=np.tile(False,4)\n",
    "\n",
    "crossover(a,b)"
   ]
  },
  {
   "cell_type": "code",
   "execution_count": 7,
   "metadata": {
    "scrolled": true
   },
   "outputs": [
    {
     "name": "stdout",
     "output_type": "stream",
     "text": [
      "1.13 µs ± 25 ns per loop (mean ± std. dev. of 7 runs, 1000000 loops each)\n"
     ]
    }
   ],
   "source": [
    "a=np.tile(True,1000)\n",
    "b=np.tile(False,1000)\n",
    "%timeit crossover(a,b)"
   ]
  },
  {
   "cell_type": "code",
   "execution_count": 8,
   "metadata": {},
   "outputs": [
    {
     "name": "stdout",
     "output_type": "stream",
     "text": [
      "14.7 µs ± 4.26 µs per loop (mean ± std. dev. of 7 runs, 1 loop each)\n"
     ]
    }
   ],
   "source": [
    "%timeit crossover_r(a,b)"
   ]
  },
  {
   "cell_type": "code",
   "execution_count": null,
   "metadata": {},
   "outputs": [],
   "source": [
    "\n"
   ]
  },
  {
   "cell_type": "code",
   "execution_count": null,
   "metadata": {},
   "outputs": [],
   "source": []
  },
  {
   "cell_type": "code",
   "execution_count": 9,
   "metadata": {
    "scrolled": true
   },
   "outputs": [
    {
     "name": "stdout",
     "output_type": "stream",
     "text": [
      "14.6 µs ± 5.3 µs per loop (mean ± std. dev. of 7 runs, 1 loop each)\n"
     ]
    }
   ],
   "source": [
    "%%timeit\n",
    "dd =  mutacao(a,0.3)"
   ]
  },
  {
   "cell_type": "code",
   "execution_count": null,
   "metadata": {},
   "outputs": [],
   "source": []
  },
  {
   "cell_type": "code",
   "execution_count": null,
   "metadata": {},
   "outputs": [],
   "source": []
  },
  {
   "cell_type": "code",
   "execution_count": null,
   "metadata": {},
   "outputs": [],
   "source": [
    "\n",
    "        \n",
    "            \n",
    "        "
   ]
  },
  {
   "cell_type": "code",
   "execution_count": null,
   "metadata": {},
   "outputs": [],
   "source": []
  },
  {
   "cell_type": "code",
   "execution_count": null,
   "metadata": {},
   "outputs": [],
   "source": []
  },
  {
   "cell_type": "code",
   "execution_count": null,
   "metadata": {},
   "outputs": [],
   "source": []
  },
  {
   "cell_type": "code",
   "execution_count": 10,
   "metadata": {},
   "outputs": [],
   "source": [
    "@jit(nopython=True)\n",
    "def transforma(solucao):\n",
    "    set_E = np.nonzero(solucao == True)[0] #[0] para retornar o np array e não o tuple.\n",
    "    set_T = np.nonzero(solucao == False)[0]\n",
    "    return set_E,set_T\n",
    "\n",
    "\n",
    "def transforma_bin(set_E, set_T, conjunto):\n",
    "    solucao = range(0, conjunto)\n",
    "    solucao_bin = np.isin(solucao, set_E)\n",
    "    return solucao_bin\n",
    "\n",
    "\n",
    "\n",
    "\n",
    "# @jit(nopython=True)\n",
    "def busca_total(solucao_partida, ai, bi, pi, d, lista_tabu): \n",
    "    objetivos = {}\n",
    "    sol_testada = {}\n",
    "    lista_z = (bi-ai)/(bi+ai)\n",
    "\n",
    "    for cada_serv in range(0,len(solucao_partida)):\n",
    "        if cada_serv not in lista_tabu:\n",
    "            sol_em_teste = solucao_partida.copy()\n",
    "            sol_em_teste[cada_serv] = not(solucao_partida[cada_serv]) #inverte o serviço de bolso.\n",
    "            objetivos[cada_serv] = calcula_objetivo(sol_em_teste, ai, bi, pi, d)\n",
    "            sol_testada[cada_serv] = sol_em_teste\n",
    "\n",
    "    return objetivos,sol_testada\n",
    "\n",
    "@jit(nopython=True)\n",
    "def maximo(a,b):\n",
    "    if a>b:\n",
    "        return a\n",
    "    else:\n",
    "        return b\n",
    "    \n",
    "\n",
    "@jit(nopython=True)\n",
    "def minimo(a,b):\n",
    "    if a<b:\n",
    "        return a\n",
    "    else:\n",
    "        return b\n",
    "\n",
    "#@jit(nopython=True)\n",
    "def calcula_objetivo(solucao, ai, bi, pi, d):\n",
    "    \n",
    "    set_E, set_T = transforma(solucao)\n",
    "    \n",
    "    if np.sum(pi[set_E])>d:\n",
    "        return 99999999999\n",
    "\n",
    "        \n",
    "    ai_pi = ai[set_E]/pi[set_E] #apenas do set_E\n",
    "    bi_pi = bi[set_T]/pi[set_T] #apenas do set_T\n",
    "    # set_E_pi = pi[set_E]    \n",
    "    \n",
    "    # set_T_pi = pi[set_T]\n",
    "    ai_pi_decr = np.flip(np.argsort(ai_pi)) #ordem de ai_pi e depois por pi.\n",
    "    bi_pi_decr = np.flip(np.argsort(bi_pi))\n",
    "    set_E = set_E[ai_pi_decr]\n",
    "    set_T = set_T[bi_pi_decr]\n",
    "\n",
    "    objetivo_minimo = calcula_objetivo_minimo(ai, bi, pi, set_E, set_T, d)\n",
    "\n",
    "    # breakpoint()\n",
    "    return objetivo_minimo\n",
    "\n",
    "@jit(nopython=True)\n",
    "def verifica_factibilidade(solucao, pi, d):\n",
    "    set_E, set_T = transforma(solucao)\n",
    "        \n",
    "    if np.sum(pi[set_E])>d:\n",
    "        return False\n",
    "    else:\n",
    "        return True\n",
    "\n",
    "@jit(nopython=True)\n",
    "def calcula_objetivo_minimo(ai, bi, pi, set_E, set_T, d):\n",
    "    \n",
    "    sum_pi_final_d = 0\n",
    "    objetivo_final_d = 0\n",
    "    objetivo_inicio_0 = 0\n",
    "\n",
    "    gap_E = d - np.sum(pi[set_E])\n",
    "    sum_pi_inicio_0 = gap_E\n",
    "    \n",
    "    for tarefa in set_E:\n",
    "        objetivo_final_d += sum_pi_final_d * ai[tarefa]\n",
    "        objetivo_inicio_0 += sum_pi_inicio_0 * ai[tarefa]\n",
    "        sum_pi_final_d += pi[tarefa]\n",
    "        sum_pi_inicio_0 += pi[tarefa]\n",
    "    \n",
    "    sum_pi_final_d = 0\n",
    "    sum_pi_inicio_0 = -gap_E\n",
    "    for tarefa in set_T:\n",
    "        objetivo_final_d += (sum_pi_final_d+pi[tarefa])*bi[tarefa]\n",
    "        objetivo_inicio_0 += (sum_pi_inicio_0+pi[tarefa])*bi[tarefa]\n",
    "        sum_pi_final_d += pi[tarefa]\n",
    "        sum_pi_inicio_0 += pi[tarefa]\n",
    "\n",
    "    if gap_E > pi[set_T[0]]:\n",
    "        objetivo_inicio_0 = 99999999999\n",
    "\n",
    "    return minimo(objetivo_final_d,objetivo_inicio_0)\n",
    "\n",
    "@jit(nopython=True)\n",
    "def calcula_objetivo_0(ai, bi, pi, set_E, set_T):\n",
    "    sum_pi = 0\n",
    "    objetivo = 0\n",
    "\n",
    "    gap_E = d - np.sum(pi[set_E])\n",
    "    sum_pi = gap_E\n",
    "\n",
    "    for tarefa in set_E:\n",
    "        objetivo += sum_pi * ai[tarefa]\n",
    "        sum_pi += pi[tarefa]\n",
    "    \n",
    "    sum_pi = -gap_E\n",
    "    for tarefa in set_T:\n",
    "        objetivo += (sum_pi+pi[tarefa])*bi[tarefa]\n",
    "        sum_pi += pi[tarefa]\n",
    "    return objetivo\n",
    "\n",
    "def busca_local(set_E, set_T, conjunto, ai, bi, pi, d, seq_obj):\n",
    "    solucao_pre_buscalocal = transforma_bin(set_E, set_T, conjunto)\n",
    "                \n",
    "    objs = {}\n",
    "    sols = {}\n",
    "    seq_sols = []\n",
    "    seq_sols.append(solucao_pre_buscalocal)\n",
    "    obj_original = seq_obj[-1]\n",
    "    obj_atual = seq_obj[-1]\n",
    "    continua = True\n",
    "    contador_aleatorio = 0\n",
    "    lista_tabu = [conjunto+1]\n",
    "    contador_tabu = 0\n",
    "    aceita_pior = False\n",
    "    contador_pior = 0\n",
    "\n",
    "    for n in range(1,101): #1º critério de parada - número máximo de vizinhanças                    \n",
    "        obj_ant = obj_atual\n",
    "        if n == 1:\n",
    "            objs,sols = busca_total(solucao_pre_buscalocal, ai, bi, pi, d, lista_tabu)\n",
    "        else:\n",
    "            objs,sols = busca_total(sol_atual, ai, bi, pi, d, lista_tabu)\n",
    "\n",
    "        objs = dict(sorted(objs.items(), key=lambda item: item[1], reverse=False))\n",
    "        if len(objs) == 0:\n",
    "            break\n",
    "        obj_atual = objs[next(iter(objs))]\n",
    "        sol_atual = sols[next(iter(objs))]\n",
    "        if obj_atual >= obj_ant:\n",
    "            if aceita_pior == False:\n",
    "                aceita_pior = True\n",
    "                contador_pior = 1\n",
    "            else:\n",
    "                if contador_pior >= maximo(conjunto*0.1, 10): #2º critério de parada - número máximo de soluções piores aceitas  \n",
    "                    break\n",
    "                else:\n",
    "                    contador_pior += 1\n",
    "        elif obj_atual < seq_obj[-1]:\n",
    "            seq_obj.append(obj_atual)\n",
    "            seq_sols.append(sol_atual)\n",
    "            contador_pior = 0\n",
    "    return seq_obj, seq_sols\n"
   ]
  },
  {
   "cell_type": "code",
   "execution_count": null,
   "metadata": {},
   "outputs": [],
   "source": [
    "\n"
   ]
  },
  {
   "cell_type": "code",
   "execution_count": null,
   "metadata": {},
   "outputs": [],
   "source": []
  },
  {
   "cell_type": "code",
   "execution_count": null,
   "metadata": {},
   "outputs": [],
   "source": []
  },
  {
   "cell_type": "code",
   "execution_count": null,
   "metadata": {},
   "outputs": [],
   "source": []
  },
  {
   "cell_type": "code",
   "execution_count": 11,
   "metadata": {},
   "outputs": [],
   "source": [
    "sol= np.tile(True,conjunto)\n",
    "set_E,set_T = transforma(sol)"
   ]
  },
  {
   "cell_type": "code",
   "execution_count": 12,
   "metadata": {},
   "outputs": [
    {
     "name": "stdout",
     "output_type": "stream",
     "text": [
      "The slowest run took 9.09 times longer than the fastest. This could mean that an intermediate result is being cached.\n",
      "11.1 µs ± 12.3 µs per loop (mean ± std. dev. of 7 runs, 1 loop each)\n"
     ]
    }
   ],
   "source": [
    "%timeit repara_solucao(set_E,set_T,ai,bi,pi,d)"
   ]
  },
  {
   "cell_type": "code",
   "execution_count": 13,
   "metadata": {
    "scrolled": true
   },
   "outputs": [
    {
     "data": {
      "text/plain": [
       "1828.0"
      ]
     },
     "execution_count": 13,
     "metadata": {},
     "output_type": "execute_result"
    }
   ],
   "source": [
    "set_E,set_T  = repara_solucao(set_E,set_T,ai,bi,pi,d)\n",
    "a = transforma_bin2(set_E,set_T)\n",
    "calcula_objetivo(a,ai,bi,pi,d)"
   ]
  },
  {
   "cell_type": "code",
   "execution_count": 14,
   "metadata": {},
   "outputs": [
    {
     "name": "stdout",
     "output_type": "stream",
     "text": [
      "The slowest run took 6.31 times longer than the fastest. This could mean that an intermediate result is being cached.\n",
      "6.33 µs ± 6.45 µs per loop (mean ± std. dev. of 7 runs, 1 loop each)\n"
     ]
    }
   ],
   "source": [
    "objs = np.arange(0,10)\n",
    "max_pop = 5\n",
    "%timeit oprime_fracos(objs,max_pop)"
   ]
  },
  {
   "cell_type": "code",
   "execution_count": 15,
   "metadata": {},
   "outputs": [
    {
     "data": {
      "text/plain": [
       "array([ True, False, False, False, False,  True, False,  True,  True,\n",
       "        True])"
      ]
     },
     "execution_count": 15,
     "metadata": {},
     "output_type": "execute_result"
    }
   ],
   "source": [
    "oprime_fracos(objs,max_pop)"
   ]
  },
  {
   "cell_type": "code",
   "execution_count": 16,
   "metadata": {},
   "outputs": [
    {
     "data": {
      "text/plain": [
       "array([[ True,  True, False, ..., False, False, False],\n",
       "       [ True,  True, False, ..., False, False,  True],\n",
       "       [ True,  True, False, ..., False,  True, False],\n",
       "       ...,\n",
       "       [ True,  True,  True, ...,  True, False, False],\n",
       "       [ True,  True,  True, ...,  True, False,  True],\n",
       "       [ True,  True,  True, ...,  True,  True, False]])"
      ]
     },
     "execution_count": 16,
     "metadata": {},
     "output_type": "execute_result"
    }
   ],
   "source": [
    "sols = [np.array(list(np.binary_repr(kk,10)),dtype=int) for kk in range(800,1023)]\n",
    "sols = np.array(sols,dtype=bool)\n",
    "sols #gerei uma população"
   ]
  },
  {
   "cell_type": "code",
   "execution_count": 17,
   "metadata": {},
   "outputs": [],
   "source": [
    "objs = np.array([calcula_objetivo(cada_sol,ai,bi,pi,d) for cada_sol in sols]) #calculei os objetivos"
   ]
  },
  {
   "cell_type": "code",
   "execution_count": 18,
   "metadata": {},
   "outputs": [
    {
     "data": {
      "text/plain": [
       "array([1.515e+03, 1.329e+03, 1.268e+03, 1.166e+03, 1.597e+03, 1.471e+03,\n",
       "       1.440e+03, 1.398e+03, 1.044e+03, 9.360e+02, 9.140e+02, 8.900e+02,\n",
       "       1.224e+03, 1.176e+03, 1.184e+03, 1.220e+03, 1.277e+03, 1.163e+03,\n",
       "       1.138e+03, 1.108e+03, 1.459e+03, 1.405e+03, 1.410e+03, 1.440e+03,\n",
       "       9.360e+02, 9.000e+02, 9.140e+02, 9.620e+02, 1.216e+03, 1.240e+03,\n",
       "       1.284e+03, 1.392e+03, 1.608e+03, 1.386e+03, 1.344e+03, 1.206e+03,\n",
       "       1.720e+03, 1.558e+03, 1.546e+03, 1.468e+03, 1.126e+03, 9.820e+02,\n",
       "       9.790e+02, 9.190e+02, 1.336e+03, 1.252e+03, 1.279e+03, 1.279e+03,\n",
       "       1.356e+03, 1.206e+03, 1.200e+03, 1.134e+03, 1.568e+03, 1.478e+03,\n",
       "       1.502e+03, 1.496e+03, 1.004e+03, 9.320e+02, 9.650e+02, 9.770e+02,\n",
       "       1.314e+03, 1.302e+03, 1.000e+11, 1.000e+11, 1.503e+03, 1.359e+03,\n",
       "       1.319e+03, 1.259e+03, 1.725e+03, 1.641e+03, 1.631e+03, 1.631e+03,\n",
       "       1.130e+03, 1.064e+03, 1.063e+03, 1.081e+03, 1.450e+03, 1.444e+03,\n",
       "       1.000e+11, 1.000e+11, 1.335e+03, 1.263e+03, 1.259e+03, 1.271e+03,\n",
       "       1.657e+03, 1.645e+03, 1.671e+03, 1.743e+03, 1.092e+03, 1.098e+03,\n",
       "       1.133e+03, 1.223e+03, 1.000e+11, 1.000e+11, 1.000e+11, 1.000e+11,\n",
       "       1.558e+03, 1.348e+03, 1.286e+03, 1.160e+03, 1.600e+03, 1.450e+03,\n",
       "       1.418e+03, 1.352e+03, 1.056e+03, 9.240e+02, 9.010e+02, 8.530e+02,\n",
       "       1.196e+03, 1.124e+03, 1.131e+03, 1.143e+03, 1.294e+03, 1.156e+03,\n",
       "       1.130e+03, 1.076e+03, 1.436e+03, 1.358e+03, 1.362e+03, 1.368e+03,\n",
       "       9.220e+02, 8.620e+02, 8.750e+02, 8.990e+02, 1.162e+03, 1.162e+03,\n",
       "       1.205e+03, 1.289e+03, 1.467e+03, 1.335e+03, 1.275e+03, 1.227e+03,\n",
       "       1.619e+03, 1.547e+03, 1.517e+03, 1.529e+03, 1.074e+03, 1.020e+03,\n",
       "       9.990e+02, 1.029e+03, 1.324e+03, 1.330e+03, 1.339e+03, 1.429e+03,\n",
       "       1.287e+03, 1.227e+03, 1.203e+03, 1.227e+03, 1.539e+03, 1.539e+03,\n",
       "       1.545e+03, 1.629e+03, 1.024e+03, 1.042e+03, 1.057e+03, 1.159e+03,\n",
       "       1.374e+03, 1.452e+03, 1.497e+03, 1.000e+11, 1.518e+03, 1.350e+03,\n",
       "       1.309e+03, 1.225e+03, 1.700e+03, 1.592e+03, 1.581e+03, 1.557e+03,\n",
       "       1.114e+03, 1.024e+03, 1.022e+03, 1.016e+03, 1.394e+03, 1.364e+03,\n",
       "       1.392e+03, 1.000e+11, 1.324e+03, 1.228e+03, 1.223e+03, 1.211e+03,\n",
       "       1.606e+03, 1.570e+03, 1.595e+03, 1.643e+03, 1.050e+03, 1.032e+03,\n",
       "       1.066e+03, 1.132e+03, 1.430e+03, 1.000e+11, 1.000e+11, 1.000e+11,\n",
       "       1.504e+03, 1.414e+03, 1.375e+03, 1.369e+03, 1.796e+03, 1.766e+03,\n",
       "       1.757e+03, 1.811e+03, 1.209e+03, 1.197e+03, 1.197e+03, 1.269e+03,\n",
       "       1.599e+03, 1.000e+11, 1.000e+11, 1.000e+11, 1.394e+03, 1.376e+03,\n",
       "       1.373e+03, 1.439e+03, 1.786e+03, 1.828e+03, 1.855e+03, 1.000e+11,\n",
       "       1.229e+03, 1.289e+03, 1.325e+03, 1.000e+11, 1.000e+11, 1.000e+11,\n",
       "       1.000e+11])"
      ]
     },
     "execution_count": 18,
     "metadata": {},
     "output_type": "execute_result"
    }
   ],
   "source": [
    "objs"
   ]
  },
  {
   "cell_type": "code",
   "execution_count": null,
   "metadata": {},
   "outputs": [],
   "source": []
  },
  {
   "cell_type": "code",
   "execution_count": null,
   "metadata": {},
   "outputs": [],
   "source": []
  },
  {
   "cell_type": "code",
   "execution_count": 19,
   "metadata": {},
   "outputs": [],
   "source": [
    "@jit(nopython=True)\n",
    "def calcula_diversidade(sols,objs):\n",
    "    melhor = np.argmin(objs)\n",
    "    len_sols = len(sols[0])\n",
    "    igualdade =np.array([np.sum(sols[kk]==sols[melhor]) for kk in range(len(sols))]) #conta quantos bits iguais a melhor solucao em cada solução\n",
    "    #de todos bits da população,                                                                           \n",
    "    #quantos % são diferentes do melhor?\n",
    "    #substraí len_sols do numerador e denumerador para desconsiderar quando ele comparara a melhor com ela mesmo\n",
    "    #mas na prática é irrelevante.\n",
    "    diversidade_percent = (np.sum(igualdade)-len_sols)/((len(igualdade)*len_sols)-len_sols)\n",
    "    return diversidade_percent"
   ]
  },
  {
   "cell_type": "code",
   "execution_count": 20,
   "metadata": {},
   "outputs": [
    {
     "name": "stdout",
     "output_type": "stream",
     "text": [
      "32.5 µs ± 4.61 µs per loop (mean ± std. dev. of 7 runs, 1 loop each)\n"
     ]
    }
   ],
   "source": [
    "%timeit calcula_diversidade(sols,objs)"
   ]
  },
  {
   "cell_type": "code",
   "execution_count": null,
   "metadata": {},
   "outputs": [],
   "source": []
  },
  {
   "cell_type": "code",
   "execution_count": 21,
   "metadata": {},
   "outputs": [
    {
     "data": {
      "text/plain": [
       "97"
      ]
     },
     "execution_count": 21,
     "metadata": {},
     "output_type": "execute_result"
    }
   ],
   "source": [
    "np.sum(pi[set_E])"
   ]
  },
  {
   "cell_type": "code",
   "execution_count": 22,
   "metadata": {},
   "outputs": [
    {
     "data": {
      "text/plain": [
       "100"
      ]
     },
     "execution_count": 22,
     "metadata": {},
     "output_type": "execute_result"
    }
   ],
   "source": [
    "d\n",
    "    "
   ]
  },
  {
   "cell_type": "code",
   "execution_count": 23,
   "metadata": {},
   "outputs": [],
   "source": [
    "set_E,set_T = repara_solucao(set_E,set_T,ai,bi,pi,d)"
   ]
  },
  {
   "cell_type": "code",
   "execution_count": 24,
   "metadata": {},
   "outputs": [
    {
     "data": {
      "text/plain": [
       "97"
      ]
     },
     "execution_count": 24,
     "metadata": {},
     "output_type": "execute_result"
    }
   ],
   "source": [
    "np.sum(pi[set_E])"
   ]
  },
  {
   "cell_type": "code",
   "execution_count": 25,
   "metadata": {},
   "outputs": [
    {
     "data": {
      "text/plain": [
       "(array([0, 1, 2, 3, 4, 6, 7, 8, 9], dtype=int64), array([5], dtype=int64))"
      ]
     },
     "execution_count": 25,
     "metadata": {},
     "output_type": "execute_result"
    }
   ],
   "source": [
    "sol = np.array([True,  True,  True,  True,  True, False,  True,  True,  True,  True])\n",
    "set_E,set_T = transforma(sol)\n",
    "set_E,set_T\n",
    "\n",
    "\n"
   ]
  },
  {
   "cell_type": "code",
   "execution_count": 26,
   "metadata": {},
   "outputs": [
    {
     "data": {
      "text/plain": [
       "(array([0, 1, 2, 3, 4, 7, 8, 9], dtype=int64), array([5, 6], dtype=int64))"
      ]
     },
     "execution_count": 26,
     "metadata": {},
     "output_type": "execute_result"
    }
   ],
   "source": [
    "repara_solucao(set_E,set_T,ai,bi,pi,d)"
   ]
  },
  {
   "cell_type": "code",
   "execution_count": null,
   "metadata": {},
   "outputs": [],
   "source": []
  },
  {
   "cell_type": "code",
   "execution_count": null,
   "metadata": {},
   "outputs": [],
   "source": []
  },
  {
   "cell_type": "code",
   "execution_count": null,
   "metadata": {},
   "outputs": [],
   "source": []
  },
  {
   "cell_type": "code",
   "execution_count": null,
   "metadata": {},
   "outputs": [],
   "source": []
  },
  {
   "cell_type": "code",
   "execution_count": 27,
   "metadata": {},
   "outputs": [
    {
     "ename": "NameError",
     "evalue": "name 'mudar' is not defined",
     "output_type": "error",
     "traceback": [
      "\u001b[1;31m---------------------------------------------------------------------------\u001b[0m",
      "\u001b[1;31mNameError\u001b[0m                                 Traceback (most recent call last)",
      "\u001b[1;32m<ipython-input-27-20581d0ad3a8>\u001b[0m in \u001b[0;36m<module>\u001b[1;34m\u001b[0m\n\u001b[1;32m----> 1\u001b[1;33m \u001b[0mmudar\u001b[0m\u001b[1;33m\u001b[0m\u001b[1;33m\u001b[0m\u001b[0m\n\u001b[0m",
      "\u001b[1;31mNameError\u001b[0m: name 'mudar' is not defined"
     ]
    }
   ],
   "source": []
  },
  {
   "cell_type": "code",
   "execution_count": null,
   "metadata": {},
   "outputs": [],
   "source": []
  },
  {
   "cell_type": "code",
   "execution_count": null,
   "metadata": {},
   "outputs": [],
   "source": []
  },
  {
   "cell_type": "code",
   "execution_count": null,
   "metadata": {},
   "outputs": [],
   "source": []
  }
 ],
 "metadata": {
  "kernelspec": {
   "display_name": "Python 3",
   "language": "python",
   "name": "python3"
  },
  "language_info": {
   "codemirror_mode": {
    "name": "ipython",
    "version": 3
   },
   "file_extension": ".py",
   "mimetype": "text/x-python",
   "name": "python",
   "nbconvert_exporter": "python",
   "pygments_lexer": "ipython3",
   "version": "3.8.3"
  }
 },
 "nbformat": 4,
 "nbformat_minor": 4
}
